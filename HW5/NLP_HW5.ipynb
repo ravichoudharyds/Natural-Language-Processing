{
  "nbformat": 4,
  "nbformat_minor": 0,
  "metadata": {
    "kernelspec": {
      "name": "python3",
      "display_name": "Python 3"
    },
    "language_info": {
      "codemirror_mode": {
        "name": "ipython",
        "version": 3
      },
      "file_extension": ".py",
      "mimetype": "text/x-python",
      "name": "python",
      "nbconvert_exporter": "python",
      "pygments_lexer": "ipython3",
      "version": "3.7.2"
    },
    "colab": {
      "name": "NLP_HW5.ipynb",
      "provenance": [],
      "collapsed_sections": [],
      "toc_visible": true,
      "machine_shape": "hm",
      "include_colab_link": true
    },
    "accelerator": "GPU"
  },
  "cells": [
    {
      "cell_type": "markdown",
      "metadata": {
        "id": "view-in-github",
        "colab_type": "text"
      },
      "source": [
        "<a href=\"https://colab.research.google.com/github/ravichoudharyds/Natural-Language-Processing/blob/master/HW5/NLP_HW5.ipynb\" target=\"_parent\"><img src=\"https://colab.research.google.com/assets/colab-badge.svg\" alt=\"Open In Colab\"/></a>"
      ]
    },
    {
      "cell_type": "markdown",
      "metadata": {
        "id": "ClmTjHYxcgTw",
        "colab_type": "text"
      },
      "source": [
        "# Homework 5: Machine Reading"
      ]
    },
    {
      "cell_type": "markdown",
      "metadata": {
        "id": "xylmHWE7cgT2",
        "colab_type": "text"
      },
      "source": [
        "## 1. Random QA"
      ]
    },
    {
      "cell_type": "markdown",
      "metadata": {
        "id": "ZkhgJkuDcgT4",
        "colab_type": "text"
      },
      "source": [
        "1) What is the probability $p_{k,n}$ that our random QA system will output an answer with $k$ tokens when given a context paragraph with $n$ token as input?"
      ]
    },
    {
      "cell_type": "markdown",
      "metadata": {
        "id": "uqO5PSUPcgT6",
        "colab_type": "text"
      },
      "source": [
        "$$p_{k,n} = \\frac{2*(n-k+1)}{n*(n+1)} $$"
      ]
    },
    {
      "cell_type": "markdown",
      "metadata": {
        "id": "G7xg81c_cgT8",
        "colab_type": "text"
      },
      "source": [
        "2) For a fixed $n$ of $100$, produce a plot of $p_{k,n}$ and $\\hat{p}_{k,n}$  vs $k$. Design a monte-carlo experiment to estimate the values for $\\hat{p}_{k,n}$."
      ]
    },
    {
      "cell_type": "code",
      "metadata": {
        "id": "sYJgSH9scgT-",
        "colab_type": "code",
        "colab": {}
      },
      "source": [
        "import numpy as np\n",
        "import matplotlib.pyplot as plt"
      ],
      "execution_count": 0,
      "outputs": []
    },
    {
      "cell_type": "code",
      "metadata": {
        "id": "TRG3lHiLcgUF",
        "colab_type": "code",
        "colab": {}
      },
      "source": [
        "def func_p_k_n(k, n):\n",
        "    #implement answer from part 1 here\n",
        "    return 2*(n-k+1)/(n*(n+1))"
      ],
      "execution_count": 0,
      "outputs": []
    },
    {
      "cell_type": "code",
      "metadata": {
        "id": "hMY_svNjcgUS",
        "colab_type": "code",
        "colab": {}
      },
      "source": [
        "def monte_carlo_p_k_n(k, n, T = int(1e5)):\n",
        "    #T is the number of times you run experiment\n",
        "    count = 0\n",
        "    for _ in range(T):\n",
        "        a,b = np.random.choice(n,size=2,replace=True)\n",
        "        while a>b: #adding this part\n",
        "            a,b = np.random.choice(n,size=2,replace=True)\n",
        "        #if np.abs(b - a)+1 == k:\n",
        "        if b - a + 1 == k:\n",
        "            count = count + 1\n",
        "    return count/T"
      ],
      "execution_count": 0,
      "outputs": []
    },
    {
      "cell_type": "code",
      "metadata": {
        "id": "51hVdl-CcgUX",
        "colab_type": "code",
        "colab": {}
      },
      "source": [
        "k_array = np.arange(1, 100, 5)\n",
        "p_k_n_hat = [monte_carlo_p_k_n(k, n=100, T = int(1e5)) for k in k_array]\n",
        "p_k_n = [func_p_k_n(k, n=100) for k in k_array]\n",
        "\n",
        "#k_array = np.arange(1, 4+1)\n",
        "#p_k_n_hat = [monte_carlo_p_k_n(k, n=4, T = int(1e5)) for k in k_array]\n",
        "#p_k_n = [func_p_k_n(k, n=4) for k in k_array]"
      ],
      "execution_count": 0,
      "outputs": []
    },
    {
      "cell_type": "code",
      "metadata": {
        "id": "4KMUYhPQcgUd",
        "colab_type": "code",
        "outputId": "e678a7ac-053e-4d5b-8d71-b0855626d747",
        "colab": {
          "base_uri": "https://localhost:8080/",
          "height": 265
        }
      },
      "source": [
        "plt.plot(k_array, p_k_n_hat, label = r'$\\hat{p_{k,n}}$')\n",
        "plt.plot(k_array, p_k_n, label = r'$p_{k, n}$')\n",
        "plt.legend()\n",
        "plt.show()"
      ],
      "execution_count": 0,
      "outputs": [
        {
          "output_type": "display_data",
          "data": {
            "image/png": "[encoded data removed]",
            "text/plain": [
              "<Figure size 432x288 with 1 Axes>"
            ]
          },
          "metadata": {
            "tags": []
          }
        }
      ]
    },
    {
      "cell_type": "markdown",
      "metadata": {
        "id": "9SYrl2zwcgUk",
        "colab_type": "text"
      },
      "source": [
        "3) Calculate the expected length of the answer given by your random QA system. i,e write an expression for $L_n = E[K]$ (It's fine to leave it as a summation)."
      ]
    },
    {
      "cell_type": "markdown",
      "metadata": {
        "id": "tzTGk1KEcgUl",
        "colab_type": "text"
      },
      "source": [
        "$$ L_n = \\sum_{k=1}^n\\frac{2*(n-k+1)}{n*(n+1)}*k$$"
      ]
    },
    {
      "cell_type": "markdown",
      "metadata": {
        "id": "8x_fGR9CcgUn",
        "colab_type": "text"
      },
      "source": [
        "4) Plot $\\hat{L_n}$ estimated through monte-carlo simulations and $L_n$ for $n = 5, 10, 25, 50, 100, 250$ and $500$."
      ]
    },
    {
      "cell_type": "code",
      "metadata": {
        "id": "sXYPmae-cgUo",
        "colab_type": "code",
        "colab": {}
      },
      "source": [
        "def L_n(n):\n",
        "    #implement answer from above\n",
        "    l_n = 0\n",
        "    for k in range(n):\n",
        "        l_n += 2*(n-k+1)/(n*(n+1))*k\n",
        "    return l_n\n",
        "\n",
        "def monte_carlo_L_n(n, T = int(1e5)):\n",
        "    #T is the number of times you run experiment\n",
        "    arr = np.zeros(n)\n",
        "    l_n = 0\n",
        "    for i in range(T):\n",
        "        a,b = np.random.choice(n,size=2,replace=True)\n",
        "        while a>b: #adding this part\n",
        "            a,b = np.random.choice(n,size=2,replace=True)\n",
        "        #arr[np.abs(b-a)] += 1\n",
        "        arr[b-a] += 1\n",
        "    for i in range(n):\n",
        "        l_n += (i+1)*arr[i]\n",
        "    return l_n/T"
      ],
      "execution_count": 0,
      "outputs": []
    },
    {
      "cell_type": "code",
      "metadata": {
        "id": "0nmsH9mucgUt",
        "colab_type": "code",
        "colab": {}
      },
      "source": [
        "n_array = [5, 10, 25, 50, 100, 250, 500]\n",
        "#n_array = [4, 5, 6]\n",
        "l_n_hat = [monte_carlo_L_n(n, T = int(1e5)) for n in n_array]\n",
        "l_n = [L_n( n) for n in n_array]"
      ],
      "execution_count": 0,
      "outputs": []
    },
    {
      "cell_type": "code",
      "metadata": {
        "id": "xTeV_ZxbcgUy",
        "colab_type": "code",
        "outputId": "baedc0f6-8433-4491-8907-4c0c1015d75a",
        "colab": {
          "base_uri": "https://localhost:8080/",
          "height": 269
        }
      },
      "source": [
        "plt.plot(n_array, l_n_hat, '-o', label = r'$\\hat{L_n}$')\n",
        "plt.plot(n_array, l_n,  '-*', label = r'$L_n$')\n",
        "plt.legend()\n",
        "plt.show()"
      ],
      "execution_count": 0,
      "outputs": [
        {
          "output_type": "display_data",
          "data": {
            "image/png": "[encoded data removed]",
            "text/plain": [
              "<Figure size 432x288 with 1 Axes>"
            ]
          },
          "metadata": {
            "tags": []
          }
        }
      ]
    },
    {
      "cell_type": "markdown",
      "metadata": {
        "id": "vNDcBgfucgU5",
        "colab_type": "text"
      },
      "source": [
        "5) Calculate the probability, $p_n$ that Random QA system outputs the correct answer to your question. "
      ]
    },
    {
      "cell_type": "markdown",
      "metadata": {
        "id": "9wEwm7SecgU6",
        "colab_type": "text"
      },
      "source": [
        "$$p_n = \\frac{2}{n(n+1)}$$"
      ]
    },
    {
      "cell_type": "markdown",
      "metadata": {
        "id": "tsg0rb1DcgU8",
        "colab_type": "text"
      },
      "source": [
        "6)  In SQuAD 2.0 data set, the answer for your question can either lie within the context paragraph or there could be no answer within the given paragraph. Let $\\alpha$ represent the fraction of questions for which the answer \\textbf{does not} lie within the paragraph."
      ]
    },
    {
      "cell_type": "code",
      "metadata": {
        "id": "sUuaFqSFpT_B",
        "colab_type": "code",
        "outputId": "24cd1b7f-be3c-486a-b9e7-d8b4ff76408e",
        "colab": {
          "base_uri": "https://localhost:8080/",
          "height": 54
        }
      },
      "source": [
        "## load dataset \n",
        "\n",
        "import os\n",
        "import sys\n",
        "import json\n",
        "from google.colab import drive\n",
        "drive.mount('/content/drive')\n",
        "module_path = os.path.abspath(os.path.join('/content/drive/My Drive/NLP_HW/HW5/'))\n",
        "if module_path not in sys.path:\n",
        "    sys.path.append(module_path)\n",
        "DIR = '/content/drive/My Drive/NLP_HW/HW5/'\n",
        "train_path = os.path.join(DIR, 'squad/data/train-v2.0.json')\n",
        "train_data=json.load(open(train_path,\"rb\"))\n",
        "dev_path = os.path.join(DIR, 'squad/data/dev-v2.0.json')\n",
        "dev_data=json.load(open(dev_path,\"rb\"))"
      ],
      "execution_count": 0,
      "outputs": [
        {
          "output_type": "stream",
          "text": [
            "Drive already mounted at /content/drive; to attempt to forcibly remount, call drive.mount(\"/content/drive\", force_remount=True).\n"
          ],
          "name": "stdout"
        }
      ]
    },
    {
      "cell_type": "code",
      "metadata": {
        "id": "_WArFUsYMCVA",
        "colab_type": "code",
        "colab": {}
      },
      "source": [
        "#preprocess data\n",
        "import spacy\n",
        "import string"
      ],
      "execution_count": 0,
      "outputs": []
    },
    {
      "cell_type": "code",
      "metadata": {
        "id": "VYf3QN6hQNFc",
        "colab_type": "code",
        "colab": {}
      },
      "source": [
        "tokenizer = spacy.load('en_core_web_sm')\n",
        "punctuations = string.punctuation\n",
        "\n",
        "# lowercase and remove punctuation\n",
        "def tokenize(sent):\n",
        "    tokens = tokenizer(sent)\n",
        "    return [token.text.lower() for token in tokens if (token.text not in punctuations)]"
      ],
      "execution_count": 0,
      "outputs": []
    },
    {
      "cell_type": "code",
      "metadata": {
        "id": "IBDLEcEaz8E1",
        "colab_type": "code",
        "colab": {}
      },
      "source": [
        "from tqdm import tqdm\n",
        "\n",
        "def process_for_rand(dataset):\n",
        "    dataset=dataset[\"data\"]\n",
        "    data_flat=[]\n",
        "    for entry in tqdm(dataset):\n",
        "        paragraphs=entry[\"paragraphs\"]\n",
        "        for para in paragraphs:\n",
        "            context=para[\"context\"]\n",
        "            questions=para[\"qas\"]\n",
        "            for quest in questions:\n",
        "                example={}\n",
        "                example[\"context\"]=tokenize(context) #may want to just split instead of tokenize\n",
        "                example[\"is_impossible\"]=quest[\"is_impossible\"]\n",
        "                if not quest[\"is_impossible\"]:\n",
        "                    example[\"answers\"]=[answer[\"text\"] for answer in quest[\"answers\"]]\n",
        "                else:\n",
        "                    example[\"answers\"]=[]\n",
        "                data_flat.append(example)\n",
        "    return data_flat"
      ],
      "execution_count": 0,
      "outputs": []
    },
    {
      "cell_type": "code",
      "metadata": {
        "id": "K7wleiW6SkX7",
        "colab_type": "code",
        "outputId": "b3dd88c4-b9f8-4a73-b43c-2ca7bdae88de",
        "colab": {
          "base_uri": "https://localhost:8080/",
          "height": 1000
        }
      },
      "source": [
        "train_flat=process_for_rand(train_data)\n",
        "dev_flat=process_for_rand(dev_data) "
      ],
      "execution_count": 0,
      "outputs": [
        {
          "output_type": "stream",
          "text": [
            "\n",
            "  0%|          | 0/442 [00:00<?, ?it/s]\u001b[A\n",
            "  0%|          | 1/442 [00:16<2:00:19, 16.37s/it]\u001b[A\n",
            "  0%|          | 2/442 [00:29<1:52:50, 15.39s/it]\u001b[A\n",
            "  1%|          | 3/442 [00:35<1:31:49, 12.55s/it]\u001b[A\n",
            "  1%|          | 4/442 [00:40<1:15:30, 10.34s/it]\u001b[A\n",
            "  1%|          | 5/442 [00:47<1:08:39,  9.43s/it]\u001b[A\n",
            "  1%|▏         | 6/442 [00:56<1:06:42,  9.18s/it]\u001b[A\n",
            "  2%|▏         | 7/442 [01:04<1:04:25,  8.89s/it]\u001b[A\n",
            "  2%|▏         | 8/442 [01:18<1:15:59, 10.51s/it]\u001b[A\n",
            "  2%|▏         | 9/442 [01:24<1:05:37,  9.09s/it]\u001b[A\n",
            "  2%|▏         | 10/442 [01:29<55:17,  7.68s/it] \u001b[A\n",
            "  2%|▏         | 11/442 [01:38<59:48,  8.33s/it]\u001b[A\n",
            "  3%|▎         | 12/442 [01:48<1:02:44,  8.75s/it]\u001b[A\n",
            "  3%|▎         | 13/442 [02:01<1:11:49, 10.04s/it]\u001b[A\n",
            "  3%|▎         | 14/442 [02:08<1:04:05,  8.99s/it]\u001b[A\n",
            "  3%|▎         | 15/442 [02:19<1:07:57,  9.55s/it]\u001b[A\n",
            "  4%|▎         | 16/442 [02:21<53:27,  7.53s/it]  \u001b[A\n",
            "  4%|▍         | 17/442 [02:25<43:56,  6.20s/it]\u001b[A\n",
            "  4%|▍         | 18/442 [02:29<40:46,  5.77s/it]\u001b[A\n",
            "  4%|▍         | 19/442 [02:32<34:15,  4.86s/it]\u001b[A\n",
            "  5%|▍         | 20/442 [02:34<28:33,  4.06s/it]\u001b[A\n",
            "  5%|▍         | 21/442 [02:37<26:02,  3.71s/it]\u001b[A\n",
            "  5%|▍         | 22/442 [02:40<24:05,  3.44s/it]\u001b[A\n",
            "  5%|▌         | 23/442 [02:43<22:44,  3.26s/it]\u001b[A\n",
            "  5%|▌         | 24/442 [02:49<28:59,  4.16s/it]\u001b[A\n",
            "  6%|▌         | 25/442 [02:55<31:35,  4.54s/it]\u001b[A\n",
            "  6%|▌         | 26/442 [02:57<27:10,  3.92s/it]\u001b[A\n",
            "  6%|▌         | 27/442 [02:59<23:48,  3.44s/it]\u001b[A\n",
            "  6%|▋         | 28/442 [03:03<25:09,  3.65s/it]\u001b[A\n",
            "  7%|▋         | 29/442 [03:08<27:33,  4.00s/it]\u001b[A\n",
            "  7%|▋         | 30/442 [03:11<23:54,  3.48s/it]\u001b[A\n",
            "  7%|▋         | 31/442 [03:13<22:26,  3.27s/it]\u001b[A\n",
            "  7%|▋         | 32/442 [03:17<22:10,  3.25s/it]\u001b[A\n",
            "  7%|▋         | 33/442 [03:21<24:02,  3.53s/it]\u001b[A\n",
            "  8%|▊         | 34/442 [03:27<29:26,  4.33s/it]\u001b[A\n",
            "  8%|▊         | 35/442 [03:30<27:27,  4.05s/it]\u001b[A\n",
            "  8%|▊         | 36/442 [03:33<23:52,  3.53s/it]\u001b[A\n",
            "  8%|▊         | 37/442 [03:36<22:36,  3.35s/it]\u001b[A\n",
            "  9%|▊         | 38/442 [03:39<22:05,  3.28s/it]\u001b[A\n",
            "  9%|▉         | 39/442 [03:42<21:51,  3.25s/it]\u001b[A\n",
            "  9%|▉         | 40/442 [03:45<20:50,  3.11s/it]\u001b[A\n",
            "  9%|▉         | 41/442 [03:49<23:41,  3.54s/it]\u001b[A\n",
            " 10%|▉         | 42/442 [03:52<21:34,  3.24s/it]\u001b[A\n",
            " 10%|▉         | 43/442 [03:56<24:32,  3.69s/it]\u001b[A\n",
            " 10%|▉         | 44/442 [04:03<29:20,  4.42s/it]\u001b[A\n",
            " 10%|█         | 45/442 [04:08<31:56,  4.83s/it]\u001b[A\n",
            " 10%|█         | 46/442 [04:11<26:40,  4.04s/it]\u001b[A\n",
            " 11%|█         | 47/442 [04:16<29:29,  4.48s/it]\u001b[A\n",
            " 11%|█         | 48/442 [04:21<29:34,  4.50s/it]\u001b[A\n",
            " 11%|█         | 49/442 [04:24<26:40,  4.07s/it]\u001b[A\n",
            " 11%|█▏        | 50/442 [04:27<24:14,  3.71s/it]\u001b[A\n",
            " 12%|█▏        | 51/442 [04:30<24:01,  3.69s/it]\u001b[A\n",
            " 12%|█▏        | 52/442 [04:33<21:50,  3.36s/it]\u001b[A\n",
            " 12%|█▏        | 53/442 [04:37<22:58,  3.54s/it]\u001b[A\n",
            " 12%|█▏        | 54/442 [04:40<21:28,  3.32s/it]\u001b[A\n",
            " 12%|█▏        | 55/442 [04:43<22:18,  3.46s/it]\u001b[A\n",
            " 13%|█▎        | 56/442 [04:47<23:33,  3.66s/it]\u001b[A\n",
            " 13%|█▎        | 57/442 [04:54<28:43,  4.48s/it]\u001b[A\n",
            " 13%|█▎        | 58/442 [05:01<33:11,  5.19s/it]\u001b[A\n",
            " 13%|█▎        | 59/442 [05:04<29:47,  4.67s/it]\u001b[A\n",
            " 14%|█▎        | 60/442 [05:09<30:26,  4.78s/it]\u001b[A\n",
            " 14%|█▍        | 61/442 [05:12<27:27,  4.32s/it]\u001b[A\n",
            " 14%|█▍        | 62/442 [05:17<27:45,  4.38s/it]\u001b[A\n",
            " 14%|█▍        | 63/442 [05:20<25:45,  4.08s/it]\u001b[A\n",
            " 14%|█▍        | 64/442 [05:23<23:50,  3.78s/it]\u001b[A\n",
            " 15%|█▍        | 65/442 [05:26<21:53,  3.48s/it]\u001b[A\n",
            " 15%|█▍        | 66/442 [05:31<24:20,  3.88s/it]\u001b[A\n",
            " 15%|█▌        | 67/442 [05:36<27:04,  4.33s/it]\u001b[A\n",
            " 15%|█▌        | 68/442 [05:41<27:18,  4.38s/it]\u001b[A\n",
            " 16%|█▌        | 69/442 [05:47<30:54,  4.97s/it]\u001b[A\n",
            " 16%|█▌        | 70/442 [05:50<25:52,  4.17s/it]\u001b[A\n",
            " 16%|█▌        | 71/442 [05:56<29:13,  4.73s/it]\u001b[A\n",
            " 16%|█▋        | 72/442 [05:58<25:36,  4.15s/it]\u001b[A\n",
            " 17%|█▋        | 73/442 [06:04<27:53,  4.54s/it]\u001b[A\n",
            " 17%|█▋        | 74/442 [06:11<32:33,  5.31s/it]\u001b[A\n",
            " 17%|█▋        | 75/442 [06:17<34:13,  5.60s/it]\u001b[A\n",
            " 17%|█▋        | 76/442 [06:21<31:25,  5.15s/it]\u001b[A\n",
            " 17%|█▋        | 77/442 [06:27<33:09,  5.45s/it]\u001b[A\n",
            " 18%|█▊        | 78/442 [06:32<30:56,  5.10s/it]\u001b[A\n",
            " 18%|█▊        | 79/442 [06:36<29:49,  4.93s/it]\u001b[A\n",
            " 18%|█▊        | 80/442 [06:41<29:37,  4.91s/it]\u001b[A\n",
            " 18%|█▊        | 81/442 [06:47<31:14,  5.19s/it]\u001b[A\n",
            " 19%|█▊        | 82/442 [06:52<29:57,  4.99s/it]\u001b[A\n",
            " 19%|█▉        | 83/442 [06:55<26:27,  4.42s/it]\u001b[A\n",
            " 19%|█▉        | 84/442 [06:57<23:28,  3.93s/it]\u001b[A\n",
            " 19%|█▉        | 85/442 [07:02<24:32,  4.13s/it]\u001b[A\n",
            " 19%|█▉        | 86/442 [07:06<24:10,  4.07s/it]\u001b[A\n",
            " 20%|█▉        | 87/442 [07:13<28:36,  4.83s/it]\u001b[A\n",
            " 20%|█▉        | 88/442 [07:16<26:15,  4.45s/it]\u001b[A\n",
            " 20%|██        | 89/442 [07:22<28:28,  4.84s/it]\u001b[A\n",
            " 20%|██        | 90/442 [07:27<28:24,  4.84s/it]\u001b[A\n",
            " 21%|██        | 91/442 [07:32<28:37,  4.89s/it]\u001b[A\n",
            " 21%|██        | 92/442 [07:42<38:17,  6.56s/it]\u001b[A\n",
            " 21%|██        | 93/442 [07:45<32:04,  5.51s/it]\u001b[A\n",
            " 21%|██▏       | 94/442 [07:49<28:26,  4.90s/it]\u001b[A\n",
            " 21%|██▏       | 95/442 [07:54<28:12,  4.88s/it]\u001b[A\n",
            " 22%|██▏       | 96/442 [07:56<24:46,  4.30s/it]\u001b[A\n",
            " 22%|██▏       | 97/442 [08:00<24:01,  4.18s/it]\u001b[A\n",
            " 22%|██▏       | 98/442 [08:04<23:08,  4.04s/it]\u001b[A\n",
            " 22%|██▏       | 99/442 [08:08<22:46,  3.98s/it]\u001b[A\n",
            " 23%|██▎       | 100/442 [08:09<18:21,  3.22s/it]\u001b[A\n",
            " 23%|██▎       | 101/442 [08:14<20:20,  3.58s/it]\u001b[A\n",
            " 23%|██▎       | 102/442 [08:22<27:27,  4.84s/it]\u001b[A\n",
            " 23%|██▎       | 103/442 [08:23<21:05,  3.73s/it]\u001b[A\n",
            " 24%|██▎       | 104/442 [08:30<27:00,  4.80s/it]\u001b[A\n",
            " 24%|██▍       | 105/442 [08:31<21:09,  3.77s/it]\u001b[A\n",
            " 24%|██▍       | 106/442 [08:32<15:59,  2.86s/it]\u001b[A\n",
            " 24%|██▍       | 107/442 [08:34<14:43,  2.64s/it]\u001b[A\n",
            " 24%|██▍       | 108/442 [08:44<27:22,  4.92s/it]\u001b[A\n",
            " 25%|██▍       | 109/442 [08:50<28:56,  5.21s/it]\u001b[A\n",
            " 25%|██▍       | 110/442 [08:54<26:33,  4.80s/it]\u001b[A\n",
            " 25%|██▌       | 111/442 [08:59<25:59,  4.71s/it]\u001b[A\n",
            " 25%|██▌       | 112/442 [09:01<22:11,  4.04s/it]\u001b[A\n",
            " 26%|██▌       | 113/442 [09:02<17:00,  3.10s/it]\u001b[A\n",
            " 26%|██▌       | 114/442 [09:09<22:35,  4.13s/it]\u001b[A\n",
            " 26%|██▌       | 115/442 [09:14<23:46,  4.36s/it]\u001b[A\n",
            " 26%|██▌       | 116/442 [09:15<18:58,  3.49s/it]\u001b[A\n",
            " 26%|██▋       | 117/442 [09:22<24:21,  4.50s/it]\u001b[A\n",
            " 27%|██▋       | 118/442 [09:23<18:29,  3.42s/it]\u001b[A\n",
            " 27%|██▋       | 119/442 [09:30<24:28,  4.55s/it]\u001b[A\n",
            " 27%|██▋       | 120/442 [09:35<24:47,  4.62s/it]\u001b[A\n",
            " 27%|██▋       | 121/442 [09:39<23:56,  4.48s/it]\u001b[A\n",
            " 28%|██▊       | 122/442 [09:47<29:43,  5.57s/it]\u001b[A\n",
            " 28%|██▊       | 123/442 [09:51<27:20,  5.14s/it]\u001b[A\n",
            " 28%|██▊       | 124/442 [09:55<24:45,  4.67s/it]\u001b[A\n",
            " 28%|██▊       | 125/442 [10:02<28:05,  5.32s/it]\u001b[A\n",
            " 29%|██▊       | 126/442 [10:04<22:57,  4.36s/it]\u001b[A\n",
            " 29%|██▊       | 127/442 [10:08<22:06,  4.21s/it]\u001b[A\n",
            " 29%|██▉       | 128/442 [10:10<19:59,  3.82s/it]\u001b[A\n",
            " 29%|██▉       | 129/442 [10:14<19:32,  3.74s/it]\u001b[A\n",
            " 29%|██▉       | 130/442 [10:18<19:34,  3.76s/it]\u001b[A\n",
            " 30%|██▉       | 131/442 [10:23<22:17,  4.30s/it]\u001b[A\n",
            " 30%|██▉       | 132/442 [10:32<28:42,  5.56s/it]\u001b[A\n",
            " 30%|███       | 133/442 [10:39<31:51,  6.19s/it]\u001b[A\n",
            " 30%|███       | 134/442 [10:42<25:26,  4.96s/it]\u001b[A\n",
            " 31%|███       | 135/442 [10:45<22:46,  4.45s/it]\u001b[A\n",
            " 31%|███       | 136/442 [10:51<24:33,  4.82s/it]\u001b[A\n",
            " 31%|███       | 137/442 [10:55<24:28,  4.81s/it]\u001b[A\n",
            " 31%|███       | 138/442 [10:57<19:29,  3.85s/it]\u001b[A\n",
            " 31%|███▏      | 139/442 [11:01<20:30,  4.06s/it]\u001b[A\n",
            " 32%|███▏      | 140/442 [11:06<21:53,  4.35s/it]\u001b[A\n",
            " 32%|███▏      | 141/442 [11:15<28:47,  5.74s/it]\u001b[A\n",
            " 32%|███▏      | 142/442 [11:23<30:40,  6.14s/it]\u001b[A\n",
            " 32%|███▏      | 143/442 [11:29<30:35,  6.14s/it]\u001b[A\n",
            " 33%|███▎      | 144/442 [11:35<30:23,  6.12s/it]\u001b[A\n",
            " 33%|███▎      | 145/442 [11:46<38:16,  7.73s/it]\u001b[A\n",
            " 33%|███▎      | 146/442 [11:53<36:12,  7.34s/it]\u001b[A\n",
            " 33%|███▎      | 147/442 [11:58<32:33,  6.62s/it]\u001b[A\n",
            " 33%|███▎      | 148/442 [12:03<30:47,  6.28s/it]\u001b[A\n",
            " 34%|███▎      | 149/442 [12:06<25:35,  5.24s/it]\u001b[A\n",
            " 34%|███▍      | 150/442 [12:12<26:08,  5.37s/it]\u001b[A\n",
            " 34%|███▍      | 151/442 [12:18<26:49,  5.53s/it]\u001b[A\n",
            " 34%|███▍      | 152/442 [12:25<29:47,  6.16s/it]\u001b[A\n",
            " 35%|███▍      | 153/442 [12:36<35:52,  7.45s/it]\u001b[A\n",
            " 35%|███▍      | 154/442 [12:43<34:59,  7.29s/it]\u001b[A\n",
            " 35%|███▌      | 155/442 [12:50<35:27,  7.41s/it]\u001b[A\n",
            " 35%|███▌      | 156/442 [12:51<26:16,  5.51s/it]\u001b[A\n",
            " 36%|███▌      | 157/442 [12:55<23:43,  5.00s/it]\u001b[A\n",
            " 36%|███▌      | 158/442 [13:04<28:45,  6.08s/it]\u001b[A\n",
            " 36%|███▌      | 159/442 [13:09<28:11,  5.98s/it]\u001b[A\n",
            " 36%|███▌      | 160/442 [13:18<32:27,  6.91s/it]\u001b[A\n",
            " 36%|███▋      | 161/442 [13:27<34:16,  7.32s/it]\u001b[A\n",
            " 37%|███▋      | 162/442 [13:35<35:04,  7.52s/it]\u001b[A\n",
            " 37%|███▋      | 163/442 [13:44<36:52,  7.93s/it]\u001b[A\n",
            " 37%|███▋      | 164/442 [13:53<38:18,  8.27s/it]\u001b[A\n",
            " 37%|███▋      | 165/442 [13:59<35:07,  7.61s/it]\u001b[A\n",
            " 38%|███▊      | 166/442 [14:06<34:02,  7.40s/it]\u001b[A\n",
            " 38%|███▊      | 167/442 [14:16<37:23,  8.16s/it]\u001b[A\n",
            " 38%|███▊      | 168/442 [14:20<31:58,  7.00s/it]\u001b[A\n",
            " 38%|███▊      | 169/442 [14:33<39:40,  8.72s/it]\u001b[A\n",
            " 38%|███▊      | 170/442 [14:40<38:14,  8.44s/it]\u001b[A\n",
            " 39%|███▊      | 171/442 [14:49<37:51,  8.38s/it]\u001b[A\n",
            " 39%|███▉      | 172/442 [15:09<54:29, 12.11s/it]\u001b[A\n",
            " 39%|███▉      | 173/442 [15:18<49:45, 11.10s/it]\u001b[A\n",
            " 39%|███▉      | 174/442 [15:25<43:38,  9.77s/it]\u001b[A\n",
            " 40%|███▉      | 175/442 [15:35<44:28,  9.99s/it]\u001b[A\n",
            " 40%|███▉      | 176/442 [15:39<35:43,  8.06s/it]\u001b[A\n",
            " 40%|████      | 177/442 [15:44<31:44,  7.19s/it]\u001b[A\n",
            " 40%|████      | 178/442 [15:51<31:49,  7.23s/it]\u001b[A\n",
            " 40%|████      | 179/442 [15:57<28:56,  6.60s/it]\u001b[A\n",
            " 41%|████      | 180/442 [16:05<31:33,  7.23s/it]\u001b[A\n",
            " 41%|████      | 181/442 [16:14<33:00,  7.59s/it]\u001b[A\n",
            " 41%|████      | 182/442 [16:21<32:34,  7.52s/it]\u001b[A\n",
            " 41%|████▏     | 183/442 [16:25<27:33,  6.39s/it]\u001b[A\n",
            " 42%|████▏     | 184/442 [16:30<26:33,  6.18s/it]\u001b[A\n",
            " 42%|████▏     | 185/442 [16:38<28:07,  6.57s/it]\u001b[A\n",
            " 42%|████▏     | 186/442 [16:45<28:44,  6.74s/it]\u001b[A\n",
            " 42%|████▏     | 187/442 [16:53<30:36,  7.20s/it]\u001b[A\n",
            " 43%|████▎     | 188/442 [16:58<27:34,  6.51s/it]\u001b[A\n",
            " 43%|████▎     | 189/442 [17:03<25:09,  5.97s/it]\u001b[A\n",
            " 43%|████▎     | 190/442 [17:09<24:50,  5.91s/it]\u001b[A\n",
            " 43%|████▎     | 191/442 [17:14<23:35,  5.64s/it]\u001b[A\n",
            " 43%|████▎     | 192/442 [17:19<23:19,  5.60s/it]\u001b[A\n",
            " 44%|████▎     | 193/442 [17:24<22:40,  5.46s/it]\u001b[A\n",
            " 44%|████▍     | 194/442 [17:33<25:51,  6.26s/it]\u001b[A\n",
            " 44%|████▍     | 195/442 [17:43<30:33,  7.42s/it]\u001b[A\n",
            " 44%|████▍     | 196/442 [17:50<29:44,  7.25s/it]\u001b[A\n",
            " 45%|████▍     | 197/442 [17:54<26:12,  6.42s/it]\u001b[A\n",
            " 45%|████▍     | 198/442 [18:04<30:13,  7.43s/it]\u001b[A\n",
            " 45%|████▌     | 199/442 [18:12<31:22,  7.75s/it]\u001b[A\n",
            " 45%|████▌     | 200/442 [18:16<26:36,  6.60s/it]\u001b[A\n",
            " 45%|████▌     | 201/442 [18:22<25:57,  6.46s/it]\u001b[A\n",
            " 46%|████▌     | 202/442 [18:29<26:00,  6.50s/it]\u001b[A\n",
            " 46%|████▌     | 203/442 [18:36<26:31,  6.66s/it]\u001b[A\n",
            " 46%|████▌     | 204/442 [18:42<25:59,  6.55s/it]\u001b[A\n",
            " 46%|████▋     | 205/442 [18:49<26:04,  6.60s/it]\u001b[A\n",
            " 47%|████▋     | 206/442 [18:54<24:06,  6.13s/it]\u001b[A\n",
            " 47%|████▋     | 207/442 [19:01<25:09,  6.42s/it]\u001b[A\n",
            " 47%|████▋     | 208/442 [19:06<23:46,  6.10s/it]\u001b[A\n",
            " 47%|████▋     | 209/442 [19:15<27:01,  6.96s/it]\u001b[A\n",
            " 48%|████▊     | 210/442 [19:22<26:33,  6.87s/it]\u001b[A\n",
            " 48%|████▊     | 211/442 [19:29<26:09,  6.79s/it]\u001b[A\n",
            " 48%|████▊     | 212/442 [19:36<26:44,  6.97s/it]\u001b[A\n",
            " 48%|████▊     | 213/442 [19:43<26:36,  6.97s/it]\u001b[A\n",
            " 48%|████▊     | 214/442 [19:47<23:15,  6.12s/it]\u001b[A\n",
            " 49%|████▊     | 215/442 [19:53<22:18,  5.90s/it]\u001b[A\n",
            " 49%|████▉     | 216/442 [19:58<21:17,  5.65s/it]\u001b[A\n",
            " 49%|████▉     | 217/442 [20:06<23:57,  6.39s/it]\u001b[A\n",
            " 49%|████▉     | 218/442 [20:17<29:05,  7.79s/it]\u001b[A\n",
            " 50%|████▉     | 219/442 [20:24<28:30,  7.67s/it]\u001b[A\n",
            " 50%|████▉     | 220/442 [20:30<26:37,  7.20s/it]\u001b[A\n",
            " 50%|█████     | 221/442 [20:38<26:41,  7.25s/it]\u001b[A\n",
            " 50%|█████     | 222/442 [20:44<26:04,  7.11s/it]\u001b[A\n",
            " 50%|█████     | 223/442 [20:50<24:21,  6.67s/it]\u001b[A\n",
            " 51%|█████     | 224/442 [20:55<22:25,  6.17s/it]\u001b[A\n",
            " 51%|█████     | 225/442 [21:01<22:00,  6.08s/it]\u001b[A\n",
            " 51%|█████     | 226/442 [21:10<25:35,  7.11s/it]\u001b[A\n",
            " 51%|█████▏    | 227/442 [21:15<22:38,  6.32s/it]\u001b[A\n",
            " 52%|█████▏    | 228/442 [21:21<22:11,  6.22s/it]\u001b[A\n",
            " 52%|█████▏    | 229/442 [21:29<24:02,  6.77s/it]\u001b[A\n",
            " 52%|█████▏    | 230/442 [21:36<24:24,  6.91s/it]\u001b[A\n",
            " 52%|█████▏    | 231/442 [21:40<21:05,  6.00s/it]\u001b[A\n",
            " 52%|█████▏    | 232/442 [21:47<21:40,  6.19s/it]\u001b[A\n",
            " 53%|█████▎    | 233/442 [21:53<21:49,  6.27s/it]\u001b[A\n",
            " 53%|█████▎    | 234/442 [22:00<21:50,  6.30s/it]\u001b[A\n",
            " 53%|█████▎    | 235/442 [22:05<20:23,  5.91s/it]\u001b[A\n",
            " 53%|█████▎    | 236/442 [22:12<22:18,  6.50s/it]\u001b[A\n",
            " 54%|█████▎    | 237/442 [22:23<25:53,  7.58s/it]\u001b[A\n",
            " 54%|█████▍    | 238/442 [22:26<21:43,  6.39s/it]\u001b[A\n",
            " 54%|█████▍    | 239/442 [22:35<24:35,  7.27s/it]\u001b[A\n",
            " 54%|█████▍    | 240/442 [22:40<22:08,  6.58s/it]\u001b[A\n",
            " 55%|█████▍    | 241/442 [22:45<19:55,  5.95s/it]\u001b[A\n",
            " 55%|█████▍    | 242/442 [22:53<22:13,  6.67s/it]\u001b[A\n",
            " 55%|█████▍    | 243/442 [23:01<23:02,  6.95s/it]\u001b[A\n",
            " 55%|█████▌    | 244/442 [23:08<22:58,  6.96s/it]\u001b[A\n",
            " 55%|█████▌    | 245/442 [23:14<21:53,  6.67s/it]\u001b[A\n",
            " 56%|█████▌    | 246/442 [23:18<18:59,  5.81s/it]\u001b[A\n",
            " 56%|█████▌    | 247/442 [23:23<18:49,  5.79s/it]\u001b[A\n",
            " 56%|█████▌    | 248/442 [23:29<18:56,  5.86s/it]\u001b[A\n",
            " 56%|█████▋    | 249/442 [23:41<23:53,  7.43s/it]\u001b[A\n",
            " 57%|█████▋    | 250/442 [23:48<23:33,  7.36s/it]\u001b[A\n",
            " 57%|█████▋    | 251/442 [24:00<28:13,  8.87s/it]\u001b[A\n",
            " 57%|█████▋    | 252/442 [24:06<25:03,  7.91s/it]\u001b[A\n",
            " 57%|█████▋    | 253/442 [24:11<22:44,  7.22s/it]\u001b[A\n",
            " 57%|█████▋    | 254/442 [24:15<19:35,  6.25s/it]\u001b[A\n",
            " 58%|█████▊    | 255/442 [24:20<18:11,  5.83s/it]\u001b[A\n",
            " 58%|█████▊    | 256/442 [24:27<18:34,  5.99s/it]\u001b[A\n",
            " 58%|█████▊    | 257/442 [24:31<17:08,  5.56s/it]\u001b[A\n",
            " 58%|█████▊    | 258/442 [24:37<17:45,  5.79s/it]\u001b[A\n",
            " 59%|█████▊    | 259/442 [24:44<18:11,  5.96s/it]\u001b[A\n",
            " 59%|█████▉    | 260/442 [24:51<18:44,  6.18s/it]\u001b[A\n",
            " 59%|█████▉    | 261/442 [24:55<16:53,  5.60s/it]\u001b[A\n",
            " 59%|█████▉    | 262/442 [25:01<17:12,  5.74s/it]\u001b[A\n",
            " 60%|█████▉    | 263/442 [25:11<20:39,  6.92s/it]\u001b[A\n",
            " 60%|█████▉    | 264/442 [25:15<18:16,  6.16s/it]\u001b[A\n",
            " 60%|█████▉    | 265/442 [25:20<17:07,  5.81s/it]\u001b[A\n",
            " 60%|██████    | 266/442 [25:26<16:53,  5.76s/it]\u001b[A\n",
            " 60%|██████    | 267/442 [25:32<17:36,  6.04s/it]\u001b[A\n",
            " 61%|██████    | 268/442 [25:41<19:42,  6.79s/it]\u001b[A\n",
            " 61%|██████    | 269/442 [25:49<20:58,  7.28s/it]\u001b[A\n",
            " 61%|██████    | 270/442 [25:58<21:48,  7.60s/it]\u001b[A\n",
            " 61%|██████▏   | 271/442 [26:01<18:23,  6.45s/it]\u001b[A\n",
            " 62%|██████▏   | 272/442 [26:06<16:36,  5.86s/it]\u001b[A\n",
            " 62%|██████▏   | 273/442 [26:12<17:01,  6.05s/it]\u001b[A\n",
            " 62%|██████▏   | 274/442 [26:18<16:42,  5.97s/it]\u001b[A\n",
            " 62%|██████▏   | 275/442 [26:25<17:04,  6.14s/it]\u001b[A\n",
            " 62%|██████▏   | 276/442 [26:32<17:49,  6.44s/it]\u001b[A\n",
            " 63%|██████▎   | 277/442 [26:36<15:59,  5.81s/it]\u001b[A\n",
            " 63%|██████▎   | 278/442 [26:43<16:58,  6.21s/it]\u001b[A\n",
            " 63%|██████▎   | 279/442 [26:47<15:07,  5.57s/it]\u001b[A\n",
            " 63%|██████▎   | 280/442 [26:53<15:32,  5.76s/it]\u001b[A\n",
            " 64%|██████▎   | 281/442 [26:58<14:19,  5.34s/it]\u001b[A\n",
            " 64%|██████▍   | 282/442 [27:08<18:27,  6.92s/it]\u001b[A\n",
            " 64%|██████▍   | 283/442 [27:16<18:54,  7.13s/it]\u001b[A\n",
            " 64%|██████▍   | 284/442 [27:22<17:25,  6.62s/it]\u001b[A\n",
            " 64%|██████▍   | 285/442 [27:31<19:15,  7.36s/it]\u001b[A\n",
            " 65%|██████▍   | 286/442 [27:40<20:27,  7.87s/it]\u001b[A\n",
            " 65%|██████▍   | 287/442 [27:45<18:05,  7.00s/it]\u001b[A\n",
            " 65%|██████▌   | 288/442 [27:53<19:17,  7.52s/it]\u001b[A\n",
            " 65%|██████▌   | 289/442 [27:58<17:10,  6.73s/it]\u001b[A\n",
            " 66%|██████▌   | 290/442 [28:03<15:48,  6.24s/it]\u001b[A\n",
            " 66%|██████▌   | 291/442 [28:08<14:24,  5.72s/it]\u001b[A\n",
            " 66%|██████▌   | 292/442 [28:19<18:44,  7.50s/it]\u001b[A\n",
            " 66%|██████▋   | 293/442 [28:27<18:34,  7.48s/it]\u001b[A\n",
            " 67%|██████▋   | 294/442 [28:32<16:51,  6.83s/it]\u001b[A\n",
            " 67%|██████▋   | 295/442 [28:36<14:49,  6.05s/it]\u001b[A\n",
            " 67%|██████▋   | 296/442 [28:41<13:23,  5.50s/it]\u001b[A\n",
            " 67%|██████▋   | 297/442 [28:45<12:20,  5.11s/it]\u001b[A\n",
            " 67%|██████▋   | 298/442 [28:50<11:58,  4.99s/it]\u001b[A\n",
            " 68%|██████▊   | 299/442 [28:57<13:21,  5.60s/it]\u001b[A\n",
            " 68%|██████▊   | 300/442 [29:04<14:28,  6.12s/it]\u001b[A\n",
            " 68%|██████▊   | 301/442 [29:10<14:28,  6.16s/it]\u001b[A\n",
            " 68%|██████▊   | 302/442 [29:18<15:30,  6.65s/it]\u001b[A\n",
            " 69%|██████▊   | 303/442 [29:24<14:37,  6.31s/it]\u001b[A\n",
            " 69%|██████▉   | 304/442 [29:29<14:02,  6.11s/it]\u001b[A\n",
            " 69%|██████▉   | 305/442 [29:37<15:14,  6.67s/it]\u001b[A\n",
            " 69%|██████▉   | 306/442 [29:46<16:50,  7.43s/it]\u001b[A\n",
            " 69%|██████▉   | 307/442 [29:57<18:44,  8.33s/it]\u001b[A\n",
            " 70%|██████▉   | 308/442 [30:05<18:13,  8.16s/it]\u001b[A\n",
            " 70%|██████▉   | 309/442 [30:12<17:43,  7.99s/it]\u001b[A\n",
            " 70%|███████   | 310/442 [30:21<18:05,  8.22s/it]\u001b[A\n",
            " 70%|███████   | 311/442 [30:25<15:16,  7.00s/it]\u001b[A\n",
            " 71%|███████   | 312/442 [30:31<14:18,  6.60s/it]\u001b[A\n",
            " 71%|███████   | 313/442 [30:36<13:01,  6.06s/it]\u001b[A\n",
            " 71%|███████   | 314/442 [30:41<12:25,  5.82s/it]\u001b[A\n",
            " 71%|███████▏  | 315/442 [30:45<11:17,  5.33s/it]\u001b[A\n",
            " 71%|███████▏  | 316/442 [30:51<11:35,  5.52s/it]\u001b[A\n",
            " 72%|███████▏  | 317/442 [30:57<11:42,  5.62s/it]\u001b[A\n",
            " 72%|███████▏  | 318/442 [31:02<11:30,  5.57s/it]\u001b[A\n",
            " 72%|███████▏  | 319/442 [31:08<11:34,  5.65s/it]\u001b[A\n",
            " 72%|███████▏  | 320/442 [31:13<10:49,  5.32s/it]\u001b[A\n",
            " 73%|███████▎  | 321/442 [31:18<10:40,  5.29s/it]\u001b[A\n",
            " 73%|███████▎  | 322/442 [31:25<11:32,  5.77s/it]\u001b[A\n",
            " 73%|███████▎  | 323/442 [31:29<10:20,  5.21s/it]\u001b[A\n",
            " 73%|███████▎  | 324/442 [31:33<09:53,  5.03s/it]\u001b[A\n",
            " 74%|███████▎  | 325/442 [31:37<09:17,  4.77s/it]\u001b[A\n",
            " 74%|███████▍  | 326/442 [31:43<09:27,  4.89s/it]\u001b[A\n",
            " 74%|███████▍  | 327/442 [31:48<09:40,  5.05s/it]\u001b[A\n",
            " 74%|███████▍  | 328/442 [31:54<10:14,  5.39s/it]\u001b[A\n",
            " 74%|███████▍  | 329/442 [31:59<09:37,  5.11s/it]\u001b[A\n",
            " 75%|███████▍  | 330/442 [32:06<10:53,  5.84s/it]\u001b[A\n",
            " 75%|███████▍  | 331/442 [32:10<09:54,  5.36s/it]\u001b[A\n",
            " 75%|███████▌  | 332/442 [32:15<09:17,  5.07s/it]\u001b[A\n",
            " 75%|███████▌  | 333/442 [32:20<09:01,  4.97s/it]\u001b[A\n",
            " 76%|███████▌  | 334/442 [32:23<08:19,  4.62s/it]\u001b[A\n",
            " 76%|███████▌  | 335/442 [32:32<10:23,  5.83s/it]\u001b[A\n",
            " 76%|███████▌  | 336/442 [32:41<12:11,  6.90s/it]\u001b[A\n",
            " 76%|███████▌  | 337/442 [32:47<11:14,  6.42s/it]\u001b[A\n",
            " 76%|███████▋  | 338/442 [32:52<10:41,  6.17s/it]\u001b[A\n",
            " 77%|███████▋  | 339/442 [32:58<10:14,  5.96s/it]\u001b[A\n",
            " 77%|███████▋  | 340/442 [33:04<10:08,  5.97s/it]\u001b[A\n",
            " 77%|███████▋  | 341/442 [33:10<10:06,  6.00s/it]\u001b[A\n",
            " 77%|███████▋  | 342/442 [33:16<10:08,  6.08s/it]\u001b[A\n",
            " 78%|███████▊  | 343/442 [33:22<09:48,  5.94s/it]\u001b[A\n",
            " 78%|███████▊  | 344/442 [33:27<09:21,  5.73s/it]\u001b[A\n",
            " 78%|███████▊  | 345/442 [33:32<08:50,  5.47s/it]\u001b[A\n",
            " 78%|███████▊  | 346/442 [33:40<09:51,  6.16s/it]\u001b[A\n",
            " 79%|███████▊  | 347/442 [33:45<09:24,  5.95s/it]\u001b[A\n",
            " 79%|███████▊  | 348/442 [33:52<09:42,  6.20s/it]\u001b[A\n",
            " 79%|███████▉  | 349/442 [33:59<09:56,  6.42s/it]\u001b[A\n",
            " 79%|███████▉  | 350/442 [34:11<12:18,  8.02s/it]\u001b[A\n",
            " 79%|███████▉  | 351/442 [34:16<10:50,  7.15s/it]\u001b[A\n",
            " 80%|███████▉  | 352/442 [34:27<12:45,  8.51s/it]\u001b[A\n",
            " 80%|███████▉  | 353/442 [34:32<11:07,  7.50s/it]\u001b[A\n",
            " 80%|████████  | 354/442 [34:41<11:25,  7.79s/it]\u001b[A\n",
            " 80%|████████  | 355/442 [34:49<11:15,  7.76s/it]\u001b[A\n",
            " 81%|████████  | 356/442 [34:53<09:51,  6.88s/it]\u001b[A\n",
            " 81%|████████  | 357/442 [35:04<11:23,  8.04s/it]\u001b[A\n",
            " 81%|████████  | 358/442 [35:14<11:54,  8.51s/it]\u001b[A\n",
            " 81%|████████  | 359/442 [35:19<10:25,  7.54s/it]\u001b[A\n",
            " 81%|████████▏ | 360/442 [35:26<09:50,  7.20s/it]\u001b[A\n",
            " 82%|████████▏ | 361/442 [35:33<09:40,  7.17s/it]\u001b[A\n",
            " 82%|████████▏ | 362/442 [35:43<10:39,  7.99s/it]\u001b[A\n",
            " 82%|████████▏ | 363/442 [35:46<08:51,  6.73s/it]\u001b[A\n",
            " 82%|████████▏ | 364/442 [35:51<07:58,  6.13s/it]\u001b[A\n",
            " 83%|████████▎ | 365/442 [35:55<07:12,  5.61s/it]\u001b[A\n",
            " 83%|████████▎ | 366/442 [36:05<08:25,  6.66s/it]\u001b[A\n",
            " 83%|████████▎ | 367/442 [36:10<07:59,  6.39s/it]\u001b[A\n",
            " 83%|████████▎ | 368/442 [36:16<07:45,  6.29s/it]\u001b[A\n",
            " 83%|████████▎ | 369/442 [36:21<07:11,  5.92s/it]\u001b[A\n",
            " 84%|████████▎ | 370/442 [36:28<07:15,  6.05s/it]\u001b[A\n",
            " 84%|████████▍ | 371/442 [36:33<06:45,  5.71s/it]\u001b[A\n",
            " 84%|████████▍ | 372/442 [36:40<07:11,  6.17s/it]\u001b[A\n",
            " 84%|████████▍ | 373/442 [36:41<05:25,  4.72s/it]\u001b[A\n",
            " 85%|████████▍ | 374/442 [36:48<05:53,  5.19s/it]\u001b[A\n",
            " 85%|████████▍ | 375/442 [36:53<05:54,  5.28s/it]\u001b[A\n",
            " 85%|████████▌ | 376/442 [37:01<06:47,  6.18s/it]\u001b[A\n",
            " 85%|████████▌ | 377/442 [37:06<06:10,  5.71s/it]\u001b[A\n",
            " 86%|████████▌ | 378/442 [37:11<05:48,  5.44s/it]\u001b[A\n",
            " 86%|████████▌ | 379/442 [37:17<06:04,  5.78s/it]\u001b[A\n",
            " 86%|████████▌ | 380/442 [37:28<07:20,  7.11s/it]\u001b[A\n",
            " 86%|████████▌ | 381/442 [37:39<08:35,  8.46s/it]\u001b[A\n",
            " 86%|████████▋ | 382/442 [37:48<08:31,  8.52s/it]\u001b[A\n",
            " 87%|████████▋ | 383/442 [37:57<08:36,  8.76s/it]\u001b[A\n",
            " 87%|████████▋ | 384/442 [38:08<09:01,  9.33s/it]\u001b[A\n",
            " 87%|████████▋ | 385/442 [38:13<07:38,  8.04s/it]\u001b[A\n",
            " 87%|████████▋ | 386/442 [38:18<06:49,  7.32s/it]\u001b[A\n",
            " 88%|████████▊ | 387/442 [38:27<07:10,  7.82s/it]\u001b[A\n",
            " 88%|████████▊ | 388/442 [38:33<06:28,  7.19s/it]\u001b[A\n",
            " 88%|████████▊ | 389/442 [38:37<05:29,  6.22s/it]\u001b[A\n",
            " 88%|████████▊ | 390/442 [38:41<04:50,  5.59s/it]\u001b[A\n",
            " 88%|████████▊ | 391/442 [38:52<05:58,  7.04s/it]\u001b[A\n",
            " 89%|████████▊ | 392/442 [38:58<05:48,  6.98s/it]\u001b[A\n",
            " 89%|████████▉ | 393/442 [39:09<06:26,  7.89s/it]\u001b[A\n",
            " 89%|████████▉ | 394/442 [39:13<05:26,  6.80s/it]\u001b[A\n",
            " 89%|████████▉ | 395/442 [39:18<04:55,  6.30s/it]\u001b[A\n",
            " 90%|████████▉ | 396/442 [39:23<04:28,  5.84s/it]\u001b[A\n",
            " 90%|████████▉ | 397/442 [39:30<04:47,  6.39s/it]\u001b[A\n",
            " 90%|█████████ | 398/442 [39:35<04:19,  5.90s/it]\u001b[A\n",
            " 90%|█████████ | 399/442 [39:41<04:11,  5.86s/it]\u001b[A\n",
            " 90%|█████████ | 400/442 [39:47<04:08,  5.93s/it]\u001b[A\n",
            " 91%|█████████ | 401/442 [39:52<03:55,  5.74s/it]\u001b[A\n",
            " 91%|█████████ | 402/442 [40:00<04:08,  6.21s/it]\u001b[A\n",
            " 91%|█████████ | 403/442 [40:06<03:59,  6.14s/it]\u001b[A\n",
            " 91%|█████████▏| 404/442 [40:11<03:41,  5.83s/it]\u001b[A\n",
            " 92%|█████████▏| 405/442 [40:19<04:03,  6.58s/it]\u001b[A\n",
            " 92%|█████████▏| 406/442 [40:23<03:28,  5.78s/it]\u001b[A\n",
            " 92%|█████████▏| 407/442 [40:28<03:19,  5.70s/it]\u001b[A\n",
            " 92%|█████████▏| 408/442 [40:37<03:44,  6.61s/it]\u001b[A\n",
            " 93%|█████████▎| 409/442 [40:43<03:29,  6.34s/it]\u001b[A\n",
            " 93%|█████████▎| 410/442 [40:52<03:48,  7.14s/it]\u001b[A\n",
            " 93%|█████████▎| 411/442 [40:57<03:18,  6.41s/it]\u001b[A\n",
            " 93%|█████████▎| 412/442 [41:03<03:13,  6.46s/it]\u001b[A\n",
            " 93%|█████████▎| 413/442 [41:10<03:14,  6.70s/it]\u001b[A\n",
            " 94%|█████████▎| 414/442 [41:20<03:30,  7.51s/it]\u001b[A\n",
            " 94%|█████████▍| 415/442 [41:26<03:15,  7.22s/it]\u001b[A\n",
            " 94%|█████████▍| 416/442 [41:35<03:17,  7.58s/it]\u001b[A\n",
            " 94%|█████████▍| 417/442 [41:42<03:09,  7.60s/it]\u001b[A\n",
            " 95%|█████████▍| 418/442 [41:47<02:40,  6.70s/it]\u001b[A\n",
            " 95%|█████████▍| 419/442 [41:53<02:26,  6.35s/it]\u001b[A\n",
            " 95%|█████████▌| 420/442 [41:58<02:16,  6.20s/it]\u001b[A\n",
            " 95%|█████████▌| 421/442 [42:04<02:04,  5.94s/it]\u001b[A\n",
            " 95%|█████████▌| 422/442 [42:14<02:23,  7.19s/it]\u001b[A\n",
            " 96%|█████████▌| 423/442 [42:23<02:25,  7.67s/it]\u001b[A\n",
            " 96%|█████████▌| 424/442 [42:28<02:05,  7.00s/it]\u001b[A\n",
            " 96%|█████████▌| 425/442 [42:36<02:05,  7.39s/it]\u001b[A\n",
            " 96%|█████████▋| 426/442 [42:45<02:04,  7.75s/it]\u001b[A\n",
            " 97%|█████████▋| 427/442 [42:51<01:50,  7.36s/it]\u001b[A\n",
            " 97%|█████████▋| 428/442 [42:57<01:35,  6.83s/it]\u001b[A\n",
            " 97%|█████████▋| 429/442 [43:04<01:27,  6.75s/it]\u001b[A\n",
            " 97%|█████████▋| 430/442 [43:10<01:18,  6.58s/it]\u001b[A\n",
            " 98%|█████████▊| 431/442 [43:14<01:06,  6.04s/it]\u001b[A\n",
            " 98%|█████████▊| 432/442 [43:21<01:01,  6.11s/it]\u001b[A\n",
            " 98%|█████████▊| 433/442 [43:27<00:56,  6.27s/it]\u001b[A\n",
            " 98%|█████████▊| 434/442 [43:35<00:52,  6.59s/it]\u001b[A\n",
            " 98%|█████████▊| 435/442 [43:38<00:39,  5.66s/it]\u001b[A\n",
            " 99%|█████████▊| 436/442 [43:43<00:33,  5.51s/it]\u001b[A\n",
            " 99%|█████████▉| 437/442 [43:49<00:28,  5.66s/it]\u001b[A\n",
            " 99%|█████████▉| 438/442 [43:56<00:23,  5.91s/it]\u001b[A\n",
            " 99%|█████████▉| 439/442 [44:07<00:22,  7.40s/it]\u001b[A\n",
            "100%|█████████▉| 440/442 [44:13<00:13,  6.99s/it]\u001b[A\n",
            "100%|█████████▉| 441/442 [44:15<00:05,  5.65s/it]\u001b[A\n",
            "100%|██████████| 442/442 [44:18<00:00,  4.88s/it]\u001b[A\n",
            "\u001b[A\n",
            "  0%|          | 0/16 [00:00<?, ?it/s]\u001b[A\n",
            "  6%|▋         | 1/16 [00:04<01:06,  4.44s/it]\u001b[A\n",
            " 12%|█▎        | 2/16 [00:11<01:14,  5.34s/it]\u001b[A\n",
            " 19%|█▉        | 3/16 [00:20<01:24,  6.47s/it]\u001b[A\n",
            " 25%|██▌       | 4/16 [00:30<01:27,  7.26s/it]\u001b[A\n",
            " 31%|███▏      | 5/16 [00:35<01:13,  6.67s/it]\u001b[A\n",
            " 38%|███▊      | 6/16 [00:51<01:35,  9.52s/it]\u001b[A\n",
            " 44%|████▍     | 7/16 [00:59<01:22,  9.13s/it]\u001b[A\n",
            " 50%|█████     | 8/16 [01:05<01:05,  8.15s/it]\u001b[A\n",
            " 56%|█████▋    | 9/16 [01:16<01:02,  8.99s/it]\u001b[A\n",
            " 62%|██████▎   | 10/16 [01:26<00:56,  9.36s/it]\u001b[A\n",
            " 69%|██████▉   | 11/16 [01:34<00:44,  8.84s/it]\u001b[A\n",
            " 75%|███████▌  | 12/16 [01:42<00:33,  8.49s/it]\u001b[A\n",
            " 81%|████████▏ | 13/16 [01:50<00:25,  8.47s/it]\u001b[A\n",
            " 88%|████████▊ | 14/16 [02:00<00:18,  9.06s/it]\u001b[A\n",
            " 94%|█████████▍| 15/16 [02:09<00:08,  8.89s/it]\u001b[A\n",
            "100%|██████████| 16/16 [02:17<00:00,  8.75s/it]\u001b[A\n",
            "\u001b[A"
          ],
          "name": "stderr"
        }
      ]
    },
    {
      "cell_type": "code",
      "metadata": {
        "id": "XiPQ04RIcgU_",
        "colab_type": "code",
        "colab": {}
      },
      "source": [
        "def estimate_alpha(list_of_answers):\n",
        "    L=len(list_of_answers)\n",
        "    a=0\n",
        "    for entry in list_of_answers:\n",
        "        if entry[\"is_impossible\"]:\n",
        "            a+=1\n",
        "    alpha=a/L\n",
        "    return alpha"
      ],
      "execution_count": 0,
      "outputs": []
    },
    {
      "cell_type": "code",
      "metadata": {
        "id": "fWLhJumGoups",
        "colab_type": "code",
        "outputId": "8a5c5e5e-a4b4-488b-b869-04bd2f92ccb7",
        "colab": {
          "base_uri": "https://localhost:8080/",
          "height": 51
        }
      },
      "source": [
        "alpha_hat_train=estimate_alpha(train_flat)\n",
        "print(\"Alpha from dtrain\",alpha_hat_train)\n",
        "alpha_hat_dev=estimate_alpha(dev_flat)\n",
        "print(\"Alpha from dev\",alpha_hat_dev)"
      ],
      "execution_count": 0,
      "outputs": [
        {
          "output_type": "stream",
          "text": [
            "Alpha from dtrain 0.3337809528925176\n",
            "Alpha from dev 0.5212240868706811\n"
          ],
          "name": "stdout"
        }
      ]
    },
    {
      "cell_type": "code",
      "metadata": {
        "id": "jWTg-_rHcgVK",
        "colab_type": "code",
        "colab": {}
      },
      "source": [
        "## implement random QA model\n",
        "def random_QA(data,alpha=-1):\n",
        "    if alpha==-1:\n",
        "        alpha=estimate_alpha(data)\n",
        "    for question in data:\n",
        "        if np.random.rand()>alpha:\n",
        "            n=len(question[\"context\"])\n",
        "            s,e=np.random.choice(n,size=2,replace=True)\n",
        "            while s>e:\n",
        "                s,e=np.random.choice(n,size=2,replace=True)\n",
        "            pred=\" \".join(question[\"context\"][s:e+1])#probably need to adjust for data format\n",
        "        else:\n",
        "            pred=[]\n",
        "        question[\"prediction\"]=pred\n",
        "    return data"
      ],
      "execution_count": 0,
      "outputs": []
    },
    {
      "cell_type": "code",
      "metadata": {
        "id": "uI5tW6xgXSCZ",
        "colab_type": "code",
        "colab": {}
      },
      "source": [
        "#Note: This cell is copied from squad.util.py, I don't have it linked so I just copied and pasted\n",
        "\n",
        "import re\n",
        "from collections import Counter\n",
        "\n",
        "def normalize_answer(s):\n",
        "    \"\"\"Convert to lowercase and remove punctuation, articles and extra whitespace.\"\"\"\n",
        "\n",
        "    def remove_articles(text):\n",
        "        regex = re.compile(r'\\b(a|an|the)\\b', re.UNICODE)\n",
        "        return re.sub(regex, ' ', text)\n",
        "\n",
        "    def white_space_fix(text):\n",
        "        return ' '.join(text.split())\n",
        "\n",
        "    def remove_punc(text):\n",
        "        exclude = set(string.punctuation)\n",
        "        return ''.join(ch for ch in text if ch not in exclude)\n",
        "\n",
        "    def lower(text):\n",
        "        return text.lower()\n",
        "\n",
        "    return white_space_fix(remove_articles(remove_punc(lower(s))))\n",
        "\n",
        "def get_tokens(s):\n",
        "    if not s:\n",
        "        return []\n",
        "    return normalize_answer(s).split()\n",
        "    \n",
        "def compute_em(a_gold, a_pred):\n",
        "    gold_toks = get_tokens(a_gold)\n",
        "    pred_toks = get_tokens(a_pred)\n",
        "    return int(gold_toks == pred_toks)\n",
        "\n",
        "def compute_f1(a_gold, a_pred):\n",
        "    gold_toks = get_tokens(a_gold)\n",
        "    pred_toks = get_tokens(a_pred)\n",
        "    common = Counter(gold_toks) & Counter(pred_toks)\n",
        "    num_same = sum(common.values())\n",
        "    if len(gold_toks) == 0 or len(pred_toks) == 0:\n",
        "        # If either is no-answer, then F1 is 1 if they agree, 0 otherwise\n",
        "        return int(gold_toks == pred_toks)\n",
        "    if num_same == 0:\n",
        "        return 0\n",
        "    precision = 1.0 * num_same / len(pred_toks)\n",
        "    recall = 1.0 * num_same / len(gold_toks)\n",
        "    f1 = (2 * precision * recall) / (precision + recall)\n",
        "    return f1\n",
        "\n",
        "def metric_max_over_ground_truths(metric_fn, prediction, ground_truths):\n",
        "    if not ground_truths:\n",
        "        return metric_fn(prediction, '')\n",
        "    scores_for_ground_truths = []\n",
        "    for ground_truth in ground_truths:\n",
        "        score = metric_fn(prediction, ground_truth)\n",
        "        scores_for_ground_truths.append(score)\n",
        "    return max(scores_for_ground_truths)\n",
        "    "
      ],
      "execution_count": 0,
      "outputs": []
    },
    {
      "cell_type": "code",
      "metadata": {
        "id": "iPvgqzgOVSnV",
        "colab_type": "code",
        "outputId": "37de155e-3999-4453-e3f7-7f5264bfb812",
        "colab": {
          "base_uri": "https://localhost:8080/",
          "height": 54
        }
      },
      "source": [
        "import numpy as np\n",
        "\n",
        "## find F1 and EM on Dev Set\n",
        "F1=np.zeros(100)\n",
        "EM=np.zeros(100)\n",
        "for i in range(100):\n",
        "    dev_pred=random_QA(dev_flat, alpha=alpha_hat_train)\n",
        "    n=len(dev_pred)\n",
        "    for entry in dev_pred:\n",
        "        f1=metric_max_over_ground_truths(compute_f1, entry[\"prediction\"], entry[\"answers\"])\n",
        "        F1[i]+=f1/n\n",
        "        em=metric_max_over_ground_truths(compute_em, entry[\"prediction\"], entry[\"answers\"])\n",
        "        EM[i]+=em/n\n",
        "mean_f1=np.mean(F1)\n",
        "std_f1=np.std(F1)\n",
        "mean_em=np.mean(EM)\n",
        "std_em=np.std(EM)\n",
        "print(\"F1: mean\",mean_f1,\"std\",std_f1,\"EM: mean\",mean_em,\"std\",std_em)"
      ],
      "execution_count": 0,
      "outputs": [
        {
          "output_type": "stream",
          "text": [
            "F1: mean 0.20012870638238212 std 0.004118457489855428 EM: mean 0.1754228364593569 std 0.004085168086318939\n"
          ],
          "name": "stdout"
        }
      ]
    },
    {
      "cell_type": "markdown",
      "metadata": {
        "id": "Xm-g8jFJcgVQ",
        "colab_type": "text"
      },
      "source": [
        "\n",
        "##### F1 Score on Dev Set: $0.28994 \\pm 0.00485$\n",
        "##### EM on Dev Set: $0.27228 \\pm 0.00472$"
      ]
    },
    {
      "cell_type": "code",
      "metadata": {
        "id": "2_tY2A1KTsBL",
        "colab_type": "code",
        "outputId": "3b0a457e-bb3b-480c-b626-cc3337908b11",
        "colab": {
          "base_uri": "https://localhost:8080/",
          "height": 370
        }
      },
      "source": [
        "import matplotlib.pyplot as plt\n",
        "\n",
        "rrr=np.arange(100)\n",
        "plt.plot(rrr,[np.mean(F1[:i]) for i in range(len(F1))])\n",
        "plt.plot(rrr,[np.mean(EM[:i]) for i in range(len(EM))])"
      ],
      "execution_count": 0,
      "outputs": [
        {
          "output_type": "stream",
          "text": [
            "/usr/local/lib/python3.6/dist-packages/numpy/core/fromnumeric.py:3257: RuntimeWarning: Mean of empty slice.\n",
            "  out=out, **kwargs)\n",
            "/usr/local/lib/python3.6/dist-packages/numpy/core/_methods.py:161: RuntimeWarning: invalid value encountered in double_scalars\n",
            "  ret = ret.dtype.type(ret / rcount)\n"
          ],
          "name": "stderr"
        },
        {
          "output_type": "execute_result",
          "data": {
            "text/plain": [
              "[<matplotlib.lines.Line2D at 0x7f6728257860>]"
            ]
          },
          "metadata": {
            "tags": []
          },
          "execution_count": 35
        },
        {
          "output_type": "display_data",
          "data": {
            "image/png": "[encoded data removed]",
            "text/plain": [
              "<Figure size 432x288 with 1 Axes>"
            ]
          },
          "metadata": {
            "tags": []
          }
        }
      ]
    },
    {
      "cell_type": "markdown",
      "metadata": {
        "id": "hmhtUvYdcgVR",
        "colab_type": "text"
      },
      "source": [
        "\n",
        "## RNN Based Model"
      ]
    },
    {
      "cell_type": "markdown",
      "metadata": {
        "id": "PKPAJnFzcgVU",
        "colab_type": "text"
      },
      "source": [
        "### 2.1.1 Diagram of Baseline"
      ]
    },
    {
      "cell_type": "code",
      "metadata": {
        "id": "MJ2y1_8UcgVW",
        "colab_type": "code",
        "colab": {}
      },
      "source": [
        "from IPython.display import Image"
      ],
      "execution_count": 0,
      "outputs": []
    },
    {
      "cell_type": "code",
      "metadata": {
        "id": "adw_hys0cgVe",
        "colab_type": "code",
        "outputId": "0199a95d-0116-487f-88fa-de2286f915e6",
        "colab": {
          "base_uri": "https://localhost:8080/",
          "height": 460
        }
      },
      "source": [
        "Image('https://raw.githubusercontent.com/ravichoudharyds/Natural-Language-Processing/master/HW5/bidaf_baseline.PNG')"
      ],
      "execution_count": 0,
      "outputs": [
        {
          "output_type": "execute_result",
          "data": {
            "image/png": "[encoded data removed]",
            "text/plain": [
              "<IPython.core.display.Image object>"
            ]
          },
          "metadata": {
            "tags": []
          },
          "execution_count": 7
        }
      ]
    },
    {
      "cell_type": "markdown",
      "metadata": {
        "id": "1JDK3gXFcgVo",
        "colab_type": "text"
      },
      "source": [
        "### 2.1.2 Performance of Baseline"
      ]
    },
    {
      "cell_type": "code",
      "metadata": {
        "id": "0V9QMoTigKvz",
        "colab_type": "code",
        "outputId": "6e8c5b04-fdac-4791-deca-1df290bbab02",
        "colab": {
          "base_uri": "https://localhost:8080/",
          "height": 121
        }
      },
      "source": [
        "from google.colab import drive\n",
        "drive.mount('/content/drive')"
      ],
      "execution_count": 1,
      "outputs": [
        {
          "output_type": "stream",
          "text": [
            "Go to this URL in a browser: https://accounts.google.com/o/oauth2/auth?client_id=947318989803-6bn6qk8qdgf4n4g3pfee6491hc0brc4i.apps.googleusercontent.com&redirect_uri=urn%3aietf%3awg%3aoauth%3a2.0%3aoob&response_type=code&scope=email%20https%3a%2f%2fwww.googleapis.com%2fauth%2fdocs.test%20https%3a%2f%2fwww.googleapis.com%2fauth%2fdrive%20https%3a%2f%2fwww.googleapis.com%2fauth%2fdrive.photos.readonly%20https%3a%2f%2fwww.googleapis.com%2fauth%2fpeopleapi.readonly\n",
            "\n",
            "Enter your authorization code:\n",
            "··········\n",
            "Mounted at /content/drive\n"
          ],
          "name": "stdout"
        }
      ]
    },
    {
      "cell_type": "code",
      "metadata": {
        "id": "KX4nkSkoSOhJ",
        "colab_type": "code",
        "outputId": "d8c4b692-acf6-4897-9cbf-f2b3c8c5d38c",
        "colab": {
          "base_uri": "https://localhost:8080/",
          "height": 205
        }
      },
      "source": [
        "!pip install ujson"
      ],
      "execution_count": 2,
      "outputs": [
        {
          "output_type": "stream",
          "text": [
            "Collecting ujson\n",
            "\u001b[?25l  Downloading https://files.pythonhosted.org/packages/16/c4/79f3409bc710559015464e5f49b9879430d8f87498ecdc335899732e5377/ujson-1.35.tar.gz (192kB)\n",
            "\r\u001b[K     |█▊                              | 10kB 27.9MB/s eta 0:00:01\r\u001b[K     |███▍                            | 20kB 1.8MB/s eta 0:00:01\r\u001b[K     |█████▏                          | 30kB 2.6MB/s eta 0:00:01\r\u001b[K     |██████▉                         | 40kB 1.7MB/s eta 0:00:01\r\u001b[K     |████████▌                       | 51kB 2.1MB/s eta 0:00:01\r\u001b[K     |██████████▎                     | 61kB 2.5MB/s eta 0:00:01\r\u001b[K     |████████████                    | 71kB 2.9MB/s eta 0:00:01\r\u001b[K     |█████████████▋                  | 81kB 3.3MB/s eta 0:00:01\r\u001b[K     |███████████████▍                | 92kB 3.7MB/s eta 0:00:01\r\u001b[K     |█████████████████               | 102kB 2.8MB/s eta 0:00:01\r\u001b[K     |██████████████████▊             | 112kB 2.8MB/s eta 0:00:01\r\u001b[K     |████████████████████▌           | 122kB 2.8MB/s eta 0:00:01\r\u001b[K     |██████████████████████▏         | 133kB 2.8MB/s eta 0:00:01\r\u001b[K     |████████████████████████        | 143kB 2.8MB/s eta 0:00:01\r\u001b[K     |█████████████████████████▋      | 153kB 2.8MB/s eta 0:00:01\r\u001b[K     |███████████████████████████▎    | 163kB 2.8MB/s eta 0:00:01\r\u001b[K     |█████████████████████████████   | 174kB 2.8MB/s eta 0:00:01\r\u001b[K     |██████████████████████████████▊ | 184kB 2.8MB/s eta 0:00:01\r\u001b[K     |████████████████████████████████| 194kB 2.8MB/s \n",
            "\u001b[?25hBuilding wheels for collected packages: ujson\n",
            "  Building wheel for ujson (setup.py) ... \u001b[?25l\u001b[?25hdone\n",
            "  Created wheel for ujson: filename=ujson-1.35-cp36-cp36m-linux_x86_64.whl size=68020 sha256=ba21d17bc2ea426ff76b36e0dbdbc0652ccffa5d3b9707f20b16eaea41d075b4\n",
            "  Stored in directory: /root/.cache/pip/wheels/28/77/e4/0311145b9c2e2f01470e744855131f9e34d6919687550f87d1\n",
            "Successfully built ujson\n",
            "Installing collected packages: ujson\n",
            "Successfully installed ujson-1.35\n"
          ],
          "name": "stdout"
        }
      ]
    },
    {
      "cell_type": "code",
      "metadata": {
        "id": "m47q2JtxcgVr",
        "colab_type": "code",
        "colab": {}
      },
      "source": [
        "import os\n",
        "import sys\n",
        "module_path = os.path.abspath(os.path.join('/content/drive/My Drive/NLP_HW/HW5/'))\n",
        "if module_path not in sys.path:\n",
        "    sys.path.append(module_path)\n",
        "    \n",
        "import numpy as np\n",
        "import random\n",
        "import torch\n",
        "import torch.nn as nn\n",
        "import torch.nn.functional as F\n",
        "import torch.optim as optim\n",
        "import torch.optim.lr_scheduler as sched\n",
        "import torch.utils.data as data\n",
        "\n",
        "from squad.util import collate_fn, SQuAD\n",
        "from collections import OrderedDict\n",
        "from json import dumps\n",
        "from tqdm import tqdm\n",
        "from ujson import load as json_load\n",
        "from squad import util, layers\n",
        "import os\n",
        "import copy\n",
        "\n",
        "DIR = '/content/drive/My Drive/NLP_HW/HW5/'\n",
        "if torch.cuda.is_available():\n",
        "    device = torch.device('cuda')\n",
        "else:\n",
        "    device = torch.device('cpu')"
      ],
      "execution_count": 0,
      "outputs": []
    },
    {
      "cell_type": "code",
      "metadata": {
        "id": "_zh_PYzUcgVz",
        "colab_type": "code",
        "colab": {}
      },
      "source": [
        "class BiDAF(nn.Module):\n",
        "    \"\"\"Baseline BiDAF model for SQuAD.\n",
        "\n",
        "    Based on the paper:\n",
        "    \"Bidirectional Attention Flow for Machine Comprehension\"\n",
        "    by Minjoon Seo, Aniruddha Kembhavi, Ali Farhadi, Hannaneh Hajishirzi\n",
        "    (https://arxiv.org/abs/1611.01603).\n",
        "\n",
        "    Follows a high-level structure commonly found in SQuAD models:\n",
        "        - Embedding layer: Embed word indices to get word vectors.\n",
        "        - Encoder layer: Encode the embedded sequence.\n",
        "        - Attention layer: Apply an attention mechanism to the encoded sequence.\n",
        "        - Model encoder layer: Encode the sequence again.\n",
        "        - Output layer: Simple layer (e.g., fc + softmax) to get final outputs.\n",
        "\n",
        "    Args:\n",
        "        word_vectors (torch.Tensor): Pre-trained word vectors.\n",
        "        hidden_size (int): Number of features in the hidden state at each layer.\n",
        "        drop_prob (float): Dropout probability.\n",
        "    \"\"\"\n",
        "    def __init__(self, word_vectors, hidden_size, drop_prob=0.):\n",
        "        super(BiDAF, self).__init__()\n",
        "        self.emb = layers.Embedding(word_vectors=word_vectors,\n",
        "                                    hidden_size=hidden_size,\n",
        "                                    drop_prob=drop_prob)\n",
        "\n",
        "        self.enc = layers.RNNEncoder(input_size=hidden_size,\n",
        "                                     hidden_size=hidden_size,\n",
        "                                     num_layers=1,\n",
        "                                     drop_prob=drop_prob)\n",
        "\n",
        "        self.att = layers.BiDAFAttention(hidden_size=2 * hidden_size,\n",
        "                                         drop_prob=drop_prob)\n",
        "\n",
        "        self.mod = layers.RNNEncoder(input_size=8 * hidden_size,\n",
        "                                     hidden_size=hidden_size,\n",
        "                                     num_layers=2,\n",
        "                                     drop_prob=drop_prob)\n",
        "\n",
        "        self.out = layers.BiDAFOutput(hidden_size=hidden_size,\n",
        "                                      drop_prob=drop_prob)\n",
        "\n",
        "    def forward(self, cw_idxs, qw_idxs):\n",
        "        c_mask = torch.zeros_like(cw_idxs) != cw_idxs\n",
        "        q_mask = torch.zeros_like(qw_idxs) != qw_idxs\n",
        "        c_len, q_len = c_mask.sum(-1), q_mask.sum(-1)\n",
        "\n",
        "        c_emb = self.emb(cw_idxs)         # (batch_size, c_len, hidden_size)\n",
        "        q_emb = self.emb(qw_idxs)         # (batch_size, q_len, hidden_size)\n",
        "\n",
        "        c_enc = self.enc(c_emb, c_len)    # (batch_size, c_len, 2 * hidden_size)\n",
        "        q_enc = self.enc(q_emb, q_len)    # (batch_size, q_len, 2 * hidden_size)\n",
        "\n",
        "        att = self.att(c_enc, q_enc,\n",
        "                       c_mask, q_mask)    # (batch_size, c_len, 8 * hidden_size)\n",
        "\n",
        "        mod = self.mod(att, c_len)        # (batch_size, c_len, 2 * hidden_size)\n",
        "\n",
        "        out = self.out(att, mod, c_mask)  # 2 tensors, each (batch_size, c_len)\n",
        "\n",
        "        return out\n"
      ],
      "execution_count": 0,
      "outputs": []
    },
    {
      "cell_type": "code",
      "metadata": {
        "id": "ZLYTZWoUcgV6",
        "colab_type": "code",
        "colab": {}
      },
      "source": [
        "def main(num_epochs, hidden_size, drop_prob, word_emb_file):\n",
        "\n",
        "    word_vectors = util.torch_from_json(word_emb_file)\n",
        "\n",
        "    model = BiDAF(word_vectors=word_vectors,\n",
        "                  hidden_size=hidden_size,\n",
        "                  drop_prob=drop_prob)\n",
        "    model = model.to(device)\n",
        "    model.train()\n",
        "\n",
        "    # Get optimizer and scheduler\n",
        "    optimizer = optim.Adadelta(model.parameters(), 0.1,\n",
        "                               weight_decay=0.01)\n",
        "    scheduler = sched.ReduceLROnPlateau(optimizer, patience=5, verbose=True, threshold=0.01)  # Constant LR\n",
        "\n",
        "    # Get data loader\n",
        "    train_path = os.path.join(DIR, 'squad/data/train.npz')\n",
        "    train_loader = data.DataLoader(SQuAD(train_path),\n",
        "                                   batch_size=64,\n",
        "                                   shuffle=True,\n",
        "                                   drop_last=True,\n",
        "                                   collate_fn=collate_fn)\n",
        "\n",
        "    dev_path = os.path.join(DIR, 'squad/data/dev.npz')\n",
        "    dev_loader = data.DataLoader(SQuAD(dev_path),\n",
        "                                   batch_size=64,\n",
        "                                   shuffle=True,\n",
        "                                   drop_last=True,\n",
        "                                   collate_fn=collate_fn)\n",
        "\n",
        "    # Train\n",
        "    best_f1_score = 0\n",
        "    \n",
        "    for epoch in range(num_epochs):\n",
        "        loss_val = 0\n",
        "        step = 0\n",
        "        num = 0\n",
        "        print(\"Epoch:{}\".format(epoch))\n",
        "        with torch.enable_grad():\n",
        "            for cw_idxs, cc_idxs, qw_idxs, qc_idxs, y1, y2, ids in train_loader:\n",
        "                # Setup for forward\n",
        "                cw_idxs = cw_idxs.to(device)\n",
        "                qw_idxs = qw_idxs.to(device)\n",
        "                optimizer.zero_grad()\n",
        "\n",
        "                # Forward\n",
        "                log_p1, log_p2 = model(cw_idxs, qw_idxs)\n",
        "                y1, y2 = y1.to(device), y2.to(device)\n",
        "                loss = F.nll_loss(log_p1, y1, reduction ='sum') + F.nll_loss(log_p2, y2, reduction ='sum')\n",
        "                loss_val += loss.item()\n",
        "                num += cw_idxs.size(0)\n",
        "\n",
        "                # Backward\n",
        "                loss.backward()\n",
        "                optimizer.step()\n",
        "                \n",
        "                step += 1\n",
        "                if step % 100 == 0:\n",
        "                    print(\"Training: step: {} loss: {}\".format(step, loss_val/num))\n",
        "            F1_Score, EM, val_loss = evaluate(model, dev_loader,\n",
        "                                          os.path.join(DIR, 'squad/data/dev_eval.json'),\n",
        "                                          15,\n",
        "                                          True)\n",
        "            scheduler.step(val_loss)\n",
        "            print(\"Validation: F1_score: {}, EM:{}, Val Loss: {}\".format(F1_Score, EM, val_loss))\n",
        "            if F1_Score > best_f1_score:\n",
        "                model_state_dict = copy.deepcopy(model.state_dict())\n",
        "                best_f1_score = F1_Score\n",
        "                best_EM = EM\n",
        "    torch.save(model_state_dict,'/scratch/rc3620/NLP_HW/Baseline_model.p')\n",
        "    return best_EM, best_f1_score\n",
        "            \n",
        "\n",
        "def evaluate(model, data_loader, eval_file, max_len, use_squad_v2):\n",
        "    \n",
        "    model.eval()\n",
        "    pred_dict = {}\n",
        "    num = 0\n",
        "    loss_val = 0\n",
        "    with open(eval_file, 'r') as fh:\n",
        "        gold_dict = json_load(fh)\n",
        "    with torch.no_grad():\n",
        "        for cw_idxs, cc_idxs, qw_idxs, qc_idxs, y1, y2, ids in data_loader:\n",
        "            # Setup for forward\n",
        "            cw_idxs = cw_idxs.to(device)\n",
        "            qw_idxs = qw_idxs.to(device)\n",
        "            batch_size = cw_idxs.size(0)\n",
        "            num += batch_size\n",
        "\n",
        "            # Forward\n",
        "            log_p1, log_p2 = model(cw_idxs, qw_idxs)\n",
        "            y1, y2 = y1.to(device), y2.to(device)\n",
        "            loss = F.nll_loss(log_p1, y1, reduction ='sum') + F.nll_loss(log_p2, y2, reduction ='sum')\n",
        "            loss_val +=loss.item()\n",
        "\n",
        "            # Get F1 and EM scores\n",
        "            p1, p2 = log_p1.exp(), log_p2.exp()\n",
        "            starts, ends = util.discretize(p1, p2, max_len, use_squad_v2)\n",
        "\n",
        "            preds, _ = util.convert_tokens(gold_dict,\n",
        "                                           ids.tolist(),\n",
        "                                           starts.tolist(),\n",
        "                                           ends.tolist(),\n",
        "                                           use_squad_v2)\n",
        "            pred_dict.update(preds)\n",
        "\n",
        "    model.train()\n",
        "\n",
        "    results = util.eval_dicts(gold_dict, pred_dict, use_squad_v2)\n",
        "    F1_Score = results['F1']\n",
        "    EM = results['EM']\n",
        "    \n",
        "    return F1_Score, EM, loss_val/num"
      ],
      "execution_count": 0,
      "outputs": []
    },
    {
      "cell_type": "code",
      "metadata": {
        "scrolled": true,
        "id": "YH6lgoU-cgWJ",
        "colab_type": "code",
        "colab": {}
      },
      "source": [
        "glove = os.path.join(DIR, 'squad/data/word_emb.json')\n",
        "pretrained = True\n",
        "if pretrained == False:\n",
        "    F1_Score, EM = main(20, 512, 0.2, glove)\n",
        "else:\n",
        "    word_vectors = util.torch_from_json(glove)\n",
        "\n",
        "    model = BiDAF(word_vectors=word_vectors,\n",
        "                  hidden_size=512,\n",
        "                  drop_prob=0.2)\n",
        "    model = model.to(device)\n",
        "    model.load_state_dict(torch.load('/content/drive/My Drive/NLP_HW/HW5/Baseline_model.p'))"
      ],
      "execution_count": 0,
      "outputs": []
    },
    {
      "cell_type": "code",
      "metadata": {
        "id": "rHkI2qAhcgWV",
        "colab_type": "code",
        "outputId": "9403d09c-2618-46ab-8539-842d9f93a157",
        "colab": {}
      },
      "source": [
        "### code to load your model and evaluate on the dev set\n",
        "\n",
        "def evaluate_on_dev_set(model, devloader):\n",
        "    F1_Score, EM, loss = evaluate(model, dev_loader,\n",
        "          os.path.join(DIR, 'squad/data/dev_eval.json'),\n",
        "          15,\n",
        "          True)\n",
        "    return F1_Score, EM, loss\n",
        "\n",
        "dev_path = os.path.join(DIR, 'squad/data/dev.npz')\n",
        "dev_loader = data.DataLoader(SQuAD(dev_path),\n",
        "                               batch_size=64,\n",
        "                               shuffle=True,\n",
        "                               drop_last=True,\n",
        "                               collate_fn=collate_fn)\n",
        "evaluate_on_dev_set(model, dev_loader)"
      ],
      "execution_count": 0,
      "outputs": [
        {
          "output_type": "execute_result",
          "data": {
            "text/plain": [
              "(62.14621456158585, 58.95040760869565, 2.8437921495541283)"
            ]
          },
          "metadata": {
            "tags": []
          },
          "execution_count": 10
        }
      ]
    },
    {
      "cell_type": "markdown",
      "metadata": {
        "id": "S4q294DKcgWe",
        "colab_type": "text"
      },
      "source": [
        "##### F1 Score on Dev Set: 62.14\n",
        "##### EM on Dev Set: 58.95"
      ]
    },
    {
      "cell_type": "markdown",
      "metadata": {
        "id": "35P2BrmacgWg",
        "colab_type": "text"
      },
      "source": [
        "## Improving the Baseline"
      ]
    },
    {
      "cell_type": "markdown",
      "metadata": {
        "id": "BWFFZ3BBcgWj",
        "colab_type": "text"
      },
      "source": [
        "### 2.2.1 Diagram of your architecture"
      ]
    },
    {
      "cell_type": "code",
      "metadata": {
        "id": "aCjlBYCMcgWl",
        "colab_type": "code",
        "outputId": "5e25724c-b484-4492-9e36-a6e89c844428",
        "colab": {
          "base_uri": "https://localhost:8080/",
          "height": 611
        }
      },
      "source": [
        "Image('https://raw.githubusercontent.com/ravichoudharyds/Natural-Language-Processing/master/HW5/qanet.PNG')"
      ],
      "execution_count": 0,
      "outputs": [
        {
          "output_type": "execute_result",
          "data": {
            "image/png": "[encoded data removed]",
            "text/plain": [
              "<IPython.core.display.Image object>"
            ]
          },
          "metadata": {
            "tags": []
          },
          "execution_count": 6
        }
      ]
    },
    {
      "cell_type": "markdown",
      "metadata": {
        "id": "CG8nN0pucgWs",
        "colab_type": "text"
      },
      "source": [
        "### 2.2.2 Performance of your Architecture"
      ]
    },
    {
      "cell_type": "code",
      "metadata": {
        "id": "do6_DjS7cgWx",
        "colab_type": "code",
        "colab": {}
      },
      "source": [
        "# -*- coding: utf-8 -*-\n",
        "\"\"\"\n",
        "Main file for training SQuAD reading comprehension model.\n",
        "\"\"\"\n",
        "from datetime import datetime\n",
        "from QANet_PyTorch.model.QANet import QANet\n",
        "from QANet_PyTorch.model.modules.ema import EMA\n",
        "import shutil\n",
        "import time\n",
        "import math"
      ],
      "execution_count": 0,
      "outputs": []
    },
    {
      "cell_type": "code",
      "metadata": {
        "id": "orRxTcv2cgW6",
        "colab_type": "code",
        "colab": {}
      },
      "source": [
        "# -*- coding: utf-8 -*-\n",
        "\"\"\"\n",
        "Trainer file for SQuAD dataset.\n",
        "\"\"\"\n",
        "\n",
        "class Trainer(object):\n",
        "\n",
        "    def __init__(self, model, loss,\n",
        "                 train_data_loader, dev_data_loader,\n",
        "                 optimizer, scheduler, use_scheduler, epochs,\n",
        "                 save_dir, use_ema, ema, resume):\n",
        "        self.device = device\n",
        "\n",
        "        self.model = model\n",
        "        self.loss = loss\n",
        "        self.optimizer = optimizer\n",
        "        self.epochs = epochs\n",
        "        self.save_dir = save_dir\n",
        "        \n",
        "        self.use_ema = use_ema\n",
        "        self.ema = ema\n",
        "        \n",
        "        self.train_data_loader = train_data_loader\n",
        "        self.dev_data_loader = dev_data_loader\n",
        "\n",
        "        self.use_scheduler = use_scheduler\n",
        "        self.scheduler = scheduler\n",
        "\n",
        "        self.start_time = datetime.now().strftime('%b-%d_%H-%M')\n",
        "        self.start_epoch = 1\n",
        "\n",
        "        self.best_em = 0\n",
        "        self.best_f1 = 0\n",
        "        if resume:\n",
        "            self._resume_checkpoint(resume)\n",
        "            self.model = self.model.to(self.device)\n",
        "            for state in self.optimizer.state.values():\n",
        "                for k, v in state.items():\n",
        "                    if isinstance(v, torch.Tensor):\n",
        "                        state[k] = v.to(self.device)\n",
        "\n",
        "    def train(self):\n",
        "        patience = 0\n",
        "        for epoch in range(self.start_epoch, self.epochs + 1):\n",
        "            self.step = 0\n",
        "            result = self._train_epoch(epoch)\n",
        "            if self.use_scheduler:\n",
        "                if self.scheduler.__class__ == torch.optim.lr_scheduler.MultiStepLR:\n",
        "                    self.scheduler.step()\n",
        "            is_best = False\n",
        "            if result[\"f1\"] > self.best_f1:\n",
        "                is_best = True\n",
        "            if result[\"f1\"] == self.best_f1 and result[\"em\"] > self.best_em:\n",
        "                is_best = True\n",
        "            self.best_f1 = max(self.best_f1, result[\"f1\"])\n",
        "            self.best_em = max(self.best_em, result[\"em\"])\n",
        "\n",
        "            if is_best:\n",
        "                self._save_checkpoint(\n",
        "                    epoch, result[\"f1\"], result[\"em\"], is_best)\n",
        "\n",
        "    def _train_epoch(self, epoch):\n",
        "        self.model.train()\n",
        "        self.model.to(self.device)\n",
        "\n",
        "        # initialize\n",
        "        global_loss = 0.0\n",
        "        last_step = self.step - 1\n",
        "        last_time = time.time()\n",
        "\n",
        "        # train over batches\n",
        "        for batch_idx, batch in enumerate(self.train_data_loader):\n",
        "            # get batch\n",
        "            (context_wids,\n",
        "             context_cids,\n",
        "             question_wids,\n",
        "             question_cids,\n",
        "             y1,\n",
        "             y2,\n",
        "             ids) = batch\n",
        "            batch_num, question_len = question_wids.size()\n",
        "            _, context_len = context_wids.size()\n",
        "            context_wids = context_wids.to(self.device)\n",
        "            context_cids = context_cids.to(self.device)\n",
        "            question_wids = question_wids.to(self.device)\n",
        "            question_cids = question_cids.to(self.device)\n",
        "            y1 = y1.to(self.device)\n",
        "            y2 = y2.to(self.device)\n",
        "\n",
        "            # calculate loss\n",
        "            self.optimizer.zero_grad()\n",
        "            p1, p2 = self.model(\n",
        "                context_wids,\n",
        "                context_cids,\n",
        "                question_wids,\n",
        "                question_cids)\n",
        "\n",
        "            loss1 = self.loss(p1, y1)\n",
        "            loss2 = self.loss(p2, y2)\n",
        "            loss = torch.mean(loss1 + loss2)\n",
        "            loss.backward()\n",
        "            global_loss += loss.item()\n",
        "\n",
        "            # update model\n",
        "            self.optimizer.step()\n",
        "\n",
        "            # update learning rate\n",
        "            if self.use_scheduler:\n",
        "                if self.scheduler.__class__ == torch.optim.lr_scheduler.LambdaLR:\n",
        "                    self.scheduler.step()\n",
        "                \n",
        "            if self.use_ema and self.ema is not None:\n",
        "                self.ema(self.model, self.step)\n",
        "\n",
        "            # print training info\n",
        "            if self.step % 500 == 499:\n",
        "                used_time = time.time() - last_time\n",
        "                step_num = self.step - last_step\n",
        "                speed = self.train_data_loader.batch_size * \\\n",
        "                    step_num / used_time\n",
        "                batch_loss = global_loss / step_num\n",
        "                print((\"step: {}/{} \\t \"\n",
        "                       \"epoch: {} \\t \"\n",
        "                       \"lr: {} \\t \"\n",
        "                       \"loss: {} \\t \"\n",
        "                       \"speed: {} examples/sec\").format(\n",
        "                           batch_idx, len(self.train_data_loader),\n",
        "                           epoch,\n",
        "                           self.optimizer.param_groups[0]['lr'],\n",
        "                           batch_loss,\n",
        "                           speed))\n",
        "                global_loss = 0.0\n",
        "                last_step = self.step\n",
        "                last_time = time.time()\n",
        "            self.step += 1\n",
        "\n",
        "        metrics = self._valid_epoch(self.dev_data_loader)\n",
        "        print(\"dev_em: %f \\t dev_f1: %f\" % (\n",
        "              metrics[\"EM\"], metrics[\"F1\"]))\n",
        "\n",
        "        result = {}\n",
        "        result[\"em\"] = metrics[\"EM\"]\n",
        "        result[\"f1\"] = metrics[\"F1\"]\n",
        "        return result\n",
        "\n",
        "    def _valid_epoch(self, data_loader):\n",
        "        \"\"\"\n",
        "        Evaluate model over development dataset.\n",
        "        Return the metrics: em, f1.\n",
        "        \"\"\"\n",
        "        \n",
        "        if self.use_ema and self.ema is not None:\n",
        "            self.ema.assign(self.model)\n",
        "        \n",
        "        pred_dict = {}\n",
        "        self.model.eval()\n",
        "        answer_dict = {}\n",
        "        with open(os.path.join(DIR, 'squad/data/dev_eval.json'), 'r') as fh:\n",
        "            gold_dict = json_load(fh)\n",
        "        with torch.no_grad():\n",
        "            for batch_idx, batch in enumerate(data_loader):\n",
        "                (context_wids,\n",
        "                 context_cids,\n",
        "                 question_wids,\n",
        "                 question_cids,\n",
        "                 y1,\n",
        "                 y2,\n",
        "                 ids) = batch\n",
        "                context_wids = context_wids.to(self.device)\n",
        "                context_cids = context_cids.to(self.device)\n",
        "                question_wids = question_wids.to(self.device)\n",
        "                question_cids = question_cids.to(self.device)\n",
        "                y1 = y1.to(self.device)\n",
        "                y2 = y2.to(self.device)\n",
        "\n",
        "                p1, p2 = self.model(\n",
        "                    context_wids,\n",
        "                    context_cids,\n",
        "                    question_wids,\n",
        "                    question_cids)\n",
        "\n",
        "                p1 = F.softmax(p1, dim=1)\n",
        "                p2 = F.softmax(p2, dim=1)\n",
        "                \n",
        "\n",
        "            # Get F1 and EM scores\n",
        "                starts, ends = util.discretize(p1, p2, 15, True)\n",
        "\n",
        "                preds, _ = util.convert_tokens(gold_dict,\n",
        "                                               ids.tolist(),\n",
        "                                               starts.tolist(),\n",
        "                                               ends.tolist(),\n",
        "                                               True)\n",
        "                pred_dict.update(preds)\n",
        "        if self.use_ema and self.ema is not None:\n",
        "            self.ema.resume(self.model)\n",
        "        self.model.train()\n",
        "\n",
        "        results = util.eval_dicts(gold_dict, pred_dict, True)\n",
        "        return results\n",
        "\n",
        "\n",
        "    def _save_checkpoint(self, epoch, f1, em, is_best):\n",
        "        if self.use_ema and self.ema is not None:\n",
        "            self.ema.assign(self.model)\n",
        "        state = {\n",
        "            'epoch': epoch,\n",
        "            'state_dict': self.model.state_dict(),\n",
        "            'optimizer': self.optimizer.state_dict(),\n",
        "            'best_f1': self.best_f1,\n",
        "            'best_em': self.best_em,\n",
        "            'step': self.step + 1,\n",
        "            'start_time': self.start_time}\n",
        "        filename = os.path.join(\n",
        "            self.save_dir,\n",
        "            'QA_NET_' +\n",
        "            'checkpoint_epoch{:02d}_f1_{:.5f}_em_{:.5f}.pth.tar'.format(\n",
        "                epoch, f1, em))\n",
        "        print(\"Saving checkpoint: {} ...\".format(filename))\n",
        "        if not os.path.exists(self.save_dir):\n",
        "            os.makedirs(self.save_dir)\n",
        "        torch.save(state, filename)\n",
        "        if is_best:\n",
        "            shutil.copyfile(\n",
        "                filename, os.path.join(self.save_dir, 'qa_net_model_best.pth.tar'))\n",
        "        if self.use_ema and self.ema is not None:\n",
        "            self.ema.resume(self.model)\n",
        "        return filename\n",
        "    \n",
        "    def _resume_checkpoint(self, resume_path):\n",
        "        print(\"Loading checkpoint: {} ...\".format(resume_path))\n",
        "        checkpoint = torch.load(resume_path)\n",
        "        self.start_epoch = checkpoint['epoch'] + 1\n",
        "        self.model.load_state_dict(checkpoint['state_dict'])\n",
        "        self.optimizer.load_state_dict(checkpoint['optimizer'])\n",
        "        self.best_f1 = checkpoint['best_f1']\n",
        "        self.best_em = checkpoint['best_em']\n",
        "        self.step = checkpoint['step']\n",
        "        self.start_time = checkpoint['start_time']\n",
        "        self.scheduler.last_epoch = checkpoint['epoch']\n",
        "        print(\"Checkpoint '{}' (epoch {}) loaded\".format(\n",
        "            resume_path, self.start_epoch))\n"
      ],
      "execution_count": 0,
      "outputs": []
    },
    {
      "cell_type": "code",
      "metadata": {
        "scrolled": true,
        "id": "ztVEr7OtcgXB",
        "colab_type": "code",
        "colab": {}
      },
      "source": [
        "def main():\n",
        "    glove_word = os.path.join(DIR, 'squad/data/word_emb.json')\n",
        "    word_vectors = util.torch_from_json(glove_word)\n",
        "\n",
        "    glove_char = os.path.join(DIR, 'squad/data/char_emb.json')\n",
        "    char_vectors = util.torch_from_json(glove_char)\n",
        "\n",
        "    # construct model\n",
        "    model = QANet(\n",
        "        word_vectors,\n",
        "        char_vectors,\n",
        "        400,\n",
        "        50,\n",
        "        128,\n",
        "        num_head=8,\n",
        "        train_cemb=True)\n",
        "    model.summary()\n",
        "    model.to(device)\n",
        "    \n",
        "    ema = EMA(0.9999)\n",
        "    for name, param in model.named_parameters():\n",
        "        if param.requires_grad:\n",
        "            ema.register(name, param.data)\n",
        "    \n",
        "    train_path = os.path.join(DIR, 'squad/data/train.npz')\n",
        "    train_loader = data.DataLoader(SQuAD(train_path),\n",
        "                                   batch_size=8,\n",
        "                                   shuffle=True,\n",
        "                                   drop_last=True,\n",
        "                                   collate_fn=collate_fn)\n",
        "\n",
        "    dev_path = os.path.join(DIR, 'squad/data/dev.npz')\n",
        "    dev_loader = data.DataLoader(SQuAD(dev_path),\n",
        "                                   batch_size=64,\n",
        "                                   shuffle=True,\n",
        "                                   drop_last=True,\n",
        "                                   collate_fn=collate_fn)\n",
        "\n",
        "\n",
        "    # set optimizer and scheduler\n",
        "    parameters = filter(lambda p: p.requires_grad, model.parameters())\n",
        "    optimizer = optim.Adam(\n",
        "        params=parameters,\n",
        "        lr=0.001,\n",
        "        betas=(0.8, 0.999),\n",
        "        eps=1e-8,\n",
        "        weight_decay=3e-6)\n",
        "    cr = 1.0 / math.log(1000)\n",
        "    scheduler = optim.lr_scheduler.LambdaLR(\n",
        "        optimizer,\n",
        "        lr_lambda=lambda ee: cr * math.log(ee + 1)\n",
        "        if ee < 1000 else 1)\n",
        "    \n",
        "#     scheduler = optim.lr_scheduler.MultiStepLR(optimizer, [3,6,10])\n",
        "\n",
        "    # set loss, metrics\n",
        "    loss = torch.nn.CrossEntropyLoss()\n",
        "\n",
        "\n",
        "    # construct trainer\n",
        "    # an identifier (prefix) for saved model\n",
        "    identifier = type(model).__name__ + '_'\n",
        "    trainer = Trainer(\n",
        "    model, loss,\n",
        "    train_data_loader=train_loader,\n",
        "    dev_data_loader=dev_loader,\n",
        "    optimizer=optimizer,\n",
        "    scheduler=scheduler,\n",
        "    use_scheduler = False,\n",
        "    epochs=30,\n",
        "    save_dir='/scratch/rc3620/NLP_HW/Model_Files/128_EMA',\n",
        "    use_ema = True,\n",
        "    ema = ema,\n",
        "    resume = '/scratch/rc3620/NLP_HW/Model_Files/128_EMA/qa_net_model_best.pth.tar')\n",
        "    \n",
        "    for param_group in trainer.optimizer.param_groups:\n",
        "        param_group['lr'] = 0.0001\n",
        "    \n",
        "    \n",
        "    # start training!\n",
        "    start = datetime.now()\n",
        "    trainer.train()\n",
        "    print(\"Time of training model \", datetime.now() - start)\n"
      ],
      "execution_count": 0,
      "outputs": []
    },
    {
      "cell_type": "code",
      "metadata": {
        "id": "BIUr1AiWoD2-",
        "colab_type": "code",
        "colab": {}
      },
      "source": [
        "pretrained = True\n",
        "if pretrained == False:\n",
        "    main()\n",
        "else:\n",
        "    glove_word = os.path.join(DIR, 'squad/data/word_emb.json')\n",
        "    word_vectors = util.torch_from_json(glove_word)\n",
        "\n",
        "    glove_char = os.path.join(DIR, 'squad/data/char_emb.json')\n",
        "    char_vectors = util.torch_from_json(glove_char)\n",
        "\n",
        "    dev_path = os.path.join(DIR, 'squad/data/dev.npz')\n",
        "    dev_loader = data.DataLoader(SQuAD(dev_path),\n",
        "                                    batch_size=64,\n",
        "                                    shuffle=True,\n",
        "                                    drop_last=True,\n",
        "                                    collate_fn=collate_fn)\n",
        "\n",
        "    # construct model\n",
        "    model = QANet(\n",
        "        word_vectors,\n",
        "        char_vectors,\n",
        "        400,\n",
        "        50,\n",
        "        128,\n",
        "        num_head=8,\n",
        "        train_cemb=True)\n",
        "    model = model.to(device)\n",
        "    best_model = torch.load('/content/drive/My Drive/NLP_HW/HW5/QA_NET_checkpoint_epoch23_f1_67.61268_em_63.92663.pth.tar')\n",
        "    model.load_state_dict(best_model['state_dict'])"
      ],
      "execution_count": 0,
      "outputs": []
    },
    {
      "cell_type": "markdown",
      "metadata": {
        "id": "VgV-DAN4f6G9",
        "colab_type": "text"
      },
      "source": [
        "###Ensembling Models"
      ]
    },
    {
      "cell_type": "code",
      "metadata": {
        "id": "weuZ6TOXf3aN",
        "colab_type": "code",
        "colab": {}
      },
      "source": [
        "def evaluate_ensemble(model_list, bidaf_mask, data_loader, ensemble_model):\n",
        "    \"\"\"\n",
        "    Evaluate model over development dataset.\n",
        "    Return the metrics: em, f1.\n",
        "    \"\"\"\n",
        "        \n",
        "    pred_dict = {}\n",
        "    ensemble_model.eval()\n",
        "    for model in model_list:\n",
        "        model.eval()\n",
        "    answer_dict = {}\n",
        "    with open(os.path.join(DIR, 'squad/data/dev_eval.json'), 'r') as fh:\n",
        "        gold_dict = json_load(fh)\n",
        "    with torch.no_grad():\n",
        "        for batch_idx, batch in enumerate(data_loader):\n",
        "            p1_list = []\n",
        "            p2_list = []\n",
        "            (context_wids,\n",
        "            context_cids,\n",
        "            question_wids,\n",
        "            question_cids,\n",
        "            y1,\n",
        "            y2,\n",
        "            ids) = batch\n",
        "            context_wids = context_wids.to(device)\n",
        "            context_cids = context_cids.to(device)\n",
        "            question_wids = question_wids.to(device)\n",
        "            question_cids = question_cids.to(device)\n",
        "            y1 = y1.to(device)\n",
        "            y2 = y2.to(device)\n",
        "            for i, model in enumerate(model_list):\n",
        "                if bidaf_mask[i]:\n",
        "                    p1, p2 = model(\n",
        "                    context_wids,\n",
        "                    question_wids)\n",
        "                    p1 = p1.exp()\n",
        "                    p2 = p2.exp()\n",
        "                else:\n",
        "                    p1, p2 = model(\n",
        "                    context_wids,\n",
        "                    context_cids,\n",
        "                    question_wids,\n",
        "                    question_cids)\n",
        "                p1_list.append(p1)\n",
        "                p2_list.append(p2)\n",
        "\n",
        "            p1 = F.softmax(ensemble_model(torch.stack(p1_list, dim = 2)).squeeze(), dim=1)\n",
        "            p2 = F.softmax(ensemble_model(torch.stack(p2_list, dim = 2)).squeeze(), dim=1)\n",
        "            \n",
        "        # Get F1 and EM scores\n",
        "            starts, ends = util.discretize(p1, p2, 15, True)\n",
        "\n",
        "            preds, _ = util.convert_tokens(gold_dict,\n",
        "                                            ids.tolist(),\n",
        "                                            starts.tolist(),\n",
        "                                            ends.tolist(),\n",
        "                                            True)\n",
        "            pred_dict.update(preds)\n",
        "\n",
        "    results = util.eval_dicts(gold_dict, pred_dict, True)\n",
        "    return results"
      ],
      "execution_count": 0,
      "outputs": []
    },
    {
      "cell_type": "code",
      "metadata": {
        "id": "r7ZVGR6Yf_dD",
        "colab_type": "code",
        "colab": {}
      },
      "source": [
        "## load your saved model\n",
        "\n",
        "class ensemble_w(nn.Module):\n",
        "    def __init__(self, model_num):\n",
        "        super(ensemble_w, self).__init__()\n",
        "        self.alpha = nn.Parameter(torch.ones([model_num, 1], requires_grad=True))\n",
        "#         nn.init.xavier_normal_(self.alpha)\n",
        "    \n",
        "    def forward(self, p):\n",
        "        return torch.matmul(p, self.alpha)\n",
        "        \n",
        "\n",
        "def ensemble_pred(model_list, bidaf_mask, train_loader, dev_loader, num_epoch = 10):\n",
        "    \"\"\"\n",
        "    Evaluate model over development dataset.\n",
        "    Return the metrics: em, f1.\n",
        "    \"\"\"\n",
        "        \n",
        "    for model in model_list:\n",
        "        model.eval()\n",
        "    \n",
        "    ensemble_model = ensemble_w(len(model_list)).to(device)\n",
        "    optimizer = optim.SGD(params=ensemble_model.parameters(),\n",
        "                            lr=0.0001,\n",
        "                            weight_decay=5e-2)\n",
        "    criterion = torch.nn.CrossEntropyLoss()\n",
        "\n",
        "    results = evaluate_ensemble(model_list, bidaf_mask, dev_loader, ensemble_model)\n",
        "    print(results)\n",
        "    best_f1 = results['F1']\n",
        "\n",
        "    for i in range(num_epoch):\n",
        "        ensemble_model.train()\n",
        "        for batch_idx, batch in enumerate(train_loader):\n",
        "            with torch.no_grad():\n",
        "                p1_list = []\n",
        "                p2_list = []\n",
        "#                 print(batch_idx)\n",
        "                (context_wids,\n",
        "                context_cids,\n",
        "                question_wids,\n",
        "                question_cids,\n",
        "                y1,\n",
        "                y2,\n",
        "                ids) = batch\n",
        "                context_wids = context_wids.to(device)\n",
        "                context_cids = context_cids.to(device)\n",
        "                question_wids = question_wids.to(device)\n",
        "                question_cids = question_cids.to(device)\n",
        "                y1 = y1.to(device)\n",
        "                y2 = y2.to(device)\n",
        "                for i, model in enumerate(model_list):\n",
        "                    if bidaf_mask[i]:\n",
        "                        p1, p2 = model(\n",
        "                        context_wids,\n",
        "                        question_wids)\n",
        "                        p1 = p1.exp()\n",
        "                        p2 = p2.exp()\n",
        "                    else:\n",
        "                        p1, p2 = model(\n",
        "                        context_wids,\n",
        "                        context_cids,\n",
        "                        question_wids,\n",
        "                        question_cids)\n",
        "\n",
        "\n",
        "                    p1_list.append(p1)\n",
        "                    p2_list.append(p2)\n",
        "        \n",
        "            p1 = ensemble_model(torch.stack(p1_list, dim = 2)).squeeze()\n",
        "            p2 = ensemble_model(torch.stack(p2_list, dim = 2)).squeeze()\n",
        "\n",
        "            optimizer.zero_grad()\n",
        "            \n",
        "            loss1 = criterion(p1, y1)\n",
        "            loss2 = criterion(p2, y2)\n",
        "            loss = torch.mean(loss1 + loss2)\n",
        "            if batch_idx%500 == 0:\n",
        "                print(batch_idx,\" : \",loss.item())\n",
        "            loss.backward()\n",
        "            optimizer.step()\n",
        "\n",
        "        results = evaluate_ensemble(model_list, bidaf_mask, dev_loader, ensemble_model)\n",
        "        if results['F1'] > best_f1:\n",
        "            best_model = ensemble_model.state_dict()\n",
        "            best_f1 = results['F1']\n",
        "        print(results)\n",
        "    return best_model\n",
        "\n"
      ],
      "execution_count": 0,
      "outputs": []
    },
    {
      "cell_type": "code",
      "metadata": {
        "id": "EbUPcbI-gDm4",
        "colab_type": "code",
        "colab": {
          "base_uri": "https://localhost:8080/",
          "height": 34
        },
        "outputId": "6f714629-1b6d-40ca-98e8-13e6b11c6bda"
      },
      "source": [
        "glove_word = os.path.join(DIR, 'squad/data/word_emb.json')\n",
        "word_vectors = util.torch_from_json(glove_word)\n",
        "\n",
        "glove_char = os.path.join(DIR, 'squad/data/char_emb.json')\n",
        "char_vectors = util.torch_from_json(glove_char)\n",
        "model = QANet(\n",
        "        word_vectors,\n",
        "        char_vectors,\n",
        "        400,\n",
        "        50,\n",
        "        128,\n",
        "        num_head=8,\n",
        "        train_cemb=False)\n",
        "model = model.to(device)\n",
        "best_model = torch.load('/content/drive/My Drive/NLP_HW/HW5/QA_NET_checkpoint_epoch22_f1_67.87415_em_64.11345.pth.tar')\n",
        "model.load_state_dict(best_model['state_dict'])\n",
        "model1 = QANet(\n",
        "        word_vectors,\n",
        "        char_vectors,\n",
        "        400,\n",
        "        50,\n",
        "        128,\n",
        "        num_head=8,\n",
        "        train_cemb=True)\n",
        "model1 = model1.to(device)\n",
        "best_model = torch.load('/content/drive/My Drive/NLP_HW/HW5/QA_NET_checkpoint_epoch23_f1_67.61268_em_63.92663.pth.tar')\n",
        "model1.load_state_dict(best_model['state_dict'])\n",
        "\n",
        "model2 = BiDAF(word_vectors=word_vectors,\n",
        "                  hidden_size=512,\n",
        "                  drop_prob=0.2)\n",
        "model2 = model2.to(device)\n",
        "model2.load_state_dict(torch.load('/content/drive/My Drive/NLP_HW/HW5/Baseline_model.p'))\n",
        "\n",
        "model3 = QANet(\n",
        "        word_vectors,\n",
        "        char_vectors,\n",
        "        400,\n",
        "        50,\n",
        "        128,\n",
        "        num_head=8,\n",
        "        train_cemb=False)\n",
        "model3 = model3.to(device)\n",
        "best_model = torch.load('/content/drive/My Drive/NLP_HW/HW5/qa_net_model_best.pth.tar')\n",
        "model3.load_state_dict(best_model['state_dict'])\n",
        "\n",
        "model_list =[model, model1, model2, model3]\n",
        "train_path = os.path.join(DIR, 'squad/data/train.npz')\n",
        "train_loader = data.DataLoader(SQuAD(train_path),\n",
        "                               batch_size=128,\n",
        "                               shuffle=True,\n",
        "                               drop_last=True,\n",
        "                               collate_fn=collate_fn)\n",
        "dev_path = os.path.join(DIR, 'squad/data/dev.npz')\n",
        "dev_loader = data.DataLoader(SQuAD(dev_path),\n",
        "                                batch_size=128,\n",
        "                                shuffle=True,\n",
        "                                drop_last=True,\n",
        "                                collate_fn=collate_fn)\n",
        "# ensemble_model = ensemble_pred(model_list, [False, False, True], train_loader, dev_loader)\n",
        "ensemble_model = ensemble_w(len(model_list)).to(device)\n",
        "evaluate_ensemble(model_list, [False, False, False], dev_loader, ensemble_model)"
      ],
      "execution_count": 7,
      "outputs": [
        {
          "output_type": "execute_result",
          "data": {
            "text/plain": [
              "{'AvNA': 74.76222826086956, 'EM': 66.42323369565217, 'F1': 69.54282558264745}"
            ]
          },
          "metadata": {
            "tags": []
          },
          "execution_count": 7
        }
      ]
    },
    {
      "cell_type": "code",
      "metadata": {
        "id": "7IRji4bXcgXI",
        "colab_type": "code",
        "outputId": "c805cf93-cd0c-4a96-86fe-a8451bd22005",
        "colab": {
          "base_uri": "https://localhost:8080/",
          "height": 34
        }
      },
      "source": [
        "## load your saved model\n",
        "\n",
        "def evaluate(model, data_loader):\n",
        "    \"\"\"\n",
        "    Evaluate model over development dataset.\n",
        "    Return the metrics: em, f1.\n",
        "    \"\"\"\n",
        "        \n",
        "    pred_dict = {}\n",
        "    model.eval()\n",
        "    answer_dict = {}\n",
        "    with open(os.path.join(DIR, 'squad/data/dev_eval.json'), 'r') as fh:\n",
        "        gold_dict = json_load(fh)\n",
        "    with torch.no_grad():\n",
        "        for batch_idx, batch in enumerate(data_loader):\n",
        "            (context_wids,\n",
        "              context_cids,\n",
        "              question_wids,\n",
        "              question_cids,\n",
        "              y1,\n",
        "              y2,\n",
        "              ids) = batch\n",
        "            context_wids = context_wids.to(device)\n",
        "            context_cids = context_cids.to(device)\n",
        "            question_wids = question_wids.to(device)\n",
        "            question_cids = question_cids.to(device)\n",
        "            y1 = y1.to(device)\n",
        "            y2 = y2.to(device)\n",
        "\n",
        "            p1, p2 = model(\n",
        "                context_wids,\n",
        "                context_cids,\n",
        "                question_wids,\n",
        "                question_cids)\n",
        "\n",
        "            p1 = F.softmax(p1, dim=1)\n",
        "            p2 = F.softmax(p2, dim=1)\n",
        "            \n",
        "\n",
        "        # Get F1 and EM scores\n",
        "            starts, ends = util.discretize(p1, p2, 15, True)\n",
        "\n",
        "            preds, _ = util.convert_tokens(gold_dict,\n",
        "                                            ids.tolist(),\n",
        "                                            starts.tolist(),\n",
        "                                            ends.tolist(),\n",
        "                                            True)\n",
        "            pred_dict.update(preds)\n",
        "\n",
        "    results = util.eval_dicts(gold_dict, pred_dict, True)\n",
        "    return results\n",
        "\n",
        "def evaluate_on_dev_set(model, devloader):\n",
        "    results = evaluate(model, devloader)\n",
        "    return results\n",
        "\n",
        "evaluate_on_dev_set(model, dev_loader)"
      ],
      "execution_count": 0,
      "outputs": [
        {
          "output_type": "execute_result",
          "data": {
            "text/plain": [
              "{'AvNA': 74.20176630434783, 'EM': 63.994565217391305, 'F1': 67.68150163244056}"
            ]
          },
          "metadata": {
            "tags": []
          },
          "execution_count": 9
        }
      ]
    },
    {
      "cell_type": "markdown",
      "metadata": {
        "id": "xnaiQYi3cgXO",
        "colab_type": "text"
      },
      "source": [
        "##### F1 Score on Dev Set: 67.68\n",
        "##### EM on Dev Set: 63.99"
      ]
    },
    {
      "cell_type": "markdown",
      "metadata": {
        "id": "tprLN-4ScgXQ",
        "colab_type": "text"
      },
      "source": [
        "## 3 Fine Tuning Bert"
      ]
    },
    {
      "cell_type": "code",
      "metadata": {
        "id": "VgbCAhA3cgXU",
        "colab_type": "code",
        "colab": {}
      },
      "source": [
        "## load your saved model\n",
        "\n",
        "# evaluate_on_dev_set(your_bert_model, dev_set)"
      ],
      "execution_count": 0,
      "outputs": []
    },
    {
      "cell_type": "markdown",
      "metadata": {
        "id": "3eB1WiD9cgXb",
        "colab_type": "text"
      },
      "source": [
        "##### F1 Score on Dev Set:\n",
        "##### EM on Dev Set: "
      ]
    },
    {
      "cell_type": "markdown",
      "metadata": {
        "id": "cT3jsSmKcgXh",
        "colab_type": "text"
      },
      "source": [
        "## 4 Analysis"
      ]
    },
    {
      "cell_type": "markdown",
      "metadata": {
        "id": "15wUepCMcgXn",
        "colab_type": "text"
      },
      "source": [
        "Example 1\n",
        "\n",
        "Example 2\n",
        "\n",
        "Example 3"
      ]
    },
    {
      "cell_type": "code",
      "metadata": {
        "id": "vA1aZjRMcgXu",
        "colab_type": "code",
        "colab": {}
      },
      "source": [
        ""
      ],
      "execution_count": 0,
      "outputs": []
    }
  ]
}