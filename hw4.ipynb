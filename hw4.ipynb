{
  "nbformat": 4,
  "nbformat_minor": 0,
  "metadata": {
    "accelerator": "GPU",
    "colab": {
      "name": "hw4.ipynb",
      "provenance": [],
      "collapsed_sections": [],
      "toc_visible": true,
      "include_colab_link": true
    },
    "kernelspec": {
      "display_name": "Python 3",
      "language": "python",
      "name": "python3"
    },
    "language_info": {
      "codemirror_mode": {
        "name": "ipython",
        "version": 3
      },
      "file_extension": ".py",
      "mimetype": "text/x-python",
      "name": "python",
      "nbconvert_exporter": "python",
      "pygments_lexer": "ipython3",
      "version": "3.7.2"
    }
  },
  "cells": [
    {
      "cell_type": "markdown",
      "metadata": {
        "id": "view-in-github",
        "colab_type": "text"
      },
      "source": [
        "<a href=\"https://colab.research.google.com/github/ravichoudharyds/Natural-Language-Processing/blob/master/hw4.ipynb\" target=\"_parent\"><img src=\"https://colab.research.google.com/assets/colab-badge.svg\" alt=\"Open In Colab\"/></a>"
      ]
    },
    {
      "cell_type": "markdown",
      "metadata": {
        "colab_type": "text",
        "id": "OlNSnarNMuQh"
      },
      "source": [
        "# Homework 4: Conversation Modeling and decoding"
      ]
    },
    {
      "cell_type": "markdown",
      "metadata": {
        "colab_type": "text",
        "id": "orXuZRSHMuQq"
      },
      "source": [
        "# Part 1 Modeling"
      ]
    },
    {
      "cell_type": "markdown",
      "metadata": {
        "colab_type": "text",
        "id": "RCCGPMktMuQu"
      },
      "source": [
        "## 1.1 Attention visulization"
      ]
    },
    {
      "cell_type": "code",
      "metadata": {
        "colab_type": "code",
        "id": "SHeJtW4-MuQy",
        "colab": {}
      },
      "source": [
        "### set up the model and complete the corresponding task\n",
        "\n",
        "### the pretrained model was trained in ~2 hours, i.e. you can expect attention maps\n",
        "### to look quite 'hard' (less soft spreading) i.e. attending to some particular token in the input\n",
        "\n",
        "import re\n",
        "from collections import Counter\n",
        "from tqdm import tqdm\n",
        "import json\n",
        "from torch.utils.data import Dataset, DataLoader\n",
        "import torch\n",
        "import torch.nn.functional as F\n",
        "\n",
        "RETOK = re.compile(r'\\w+|[^\\w\\s]|\\n', re.UNICODE)\n",
        "\n",
        "class ChatDictionary(object):\n",
        "    \"\"\"\n",
        "    Simple dict loader\n",
        "    \"\"\"\n",
        "    def __init__(self, dict_file_path):\n",
        "        self.word2ind = {}  # word:index\n",
        "        self.ind2word = {}  # index:word\n",
        "        self.counts = {}  # word:count\n",
        "\n",
        "        dict_raw = open(dict_file_path, 'r').readlines()\n",
        "        \n",
        "        for i, w in enumerate(dict_raw):\n",
        "            _word, _count = w.strip().split('\\t')\n",
        "            if _word == '\\\\n':\n",
        "                _word = '\\n'\n",
        "            self.word2ind[_word] = i\n",
        "            self.ind2word[i] = _word\n",
        "            self.counts[_word] = _count\n",
        "            \n",
        "    def t2v(self, tokenized_text):\n",
        "        return [self.word2ind[w] if w in self.counts else self.word2ind['__unk__'] for w in tokenized_text]\n",
        "\n",
        "    def v2t(self, list_ids):\n",
        "        return ' '.join([self.ind2word[i] for i in list_ids])\n",
        "    \n",
        "    def pred2text(self, tensor):\n",
        "        result = []\n",
        "        for i in range(tensor.size(0)):\n",
        "            if tensor[i].item() == '__end__'  or tensor[i].item() == '__null__':  # null is pad\n",
        "                break\n",
        "            else:\n",
        "                result.append(self.ind2word[tensor[i].item()])\n",
        "        return ' '.join(result)\n",
        "    \n",
        "    def __len__(self):\n",
        "        return len(self.counts)"
      ],
      "execution_count": 0,
      "outputs": []
    },
    {
      "cell_type": "code",
      "metadata": {
        "colab_type": "code",
        "id": "eY6xYvTFN5o-",
        "colab": {}
      },
      "source": [
        "class ChatDataset(Dataset):\n",
        "    \"\"\"\n",
        "    Json dataset wrapper\n",
        "    \"\"\"\n",
        "    \n",
        "    def __init__(self, dataset_file_path, dictionary, dt='train'):\n",
        "        super().__init__()\n",
        "        \n",
        "        json_text = open(dataset_file_path, 'r').readlines()\n",
        "        self.samples = []\n",
        "        \n",
        "        for sample in tqdm(json_text):\n",
        "            sample = sample.rstrip()\n",
        "            sample = json.loads(sample)\n",
        "            _inp_toked = RETOK.findall(sample['text'])\n",
        "            _inp_toked_id = dictionary.t2v(_inp_toked)\n",
        "\n",
        "            sample['text_vec'] = torch.tensor(_inp_toked_id, dtype=torch.long)\n",
        "            \n",
        "            # train and valid have different key names for target\n",
        "            if dt == 'train':\n",
        "                _tar_toked = RETOK.findall(sample['labels'][0]) + ['__end__']\n",
        "            elif dt == 'valid':\n",
        "                _tar_toked = RETOK.findall(sample['eval_labels'][0]) + ['__end__']\n",
        "                \n",
        "            _tar_toked_id = dictionary.t2v(_tar_toked)\n",
        "            \n",
        "            sample['target_vec'] = torch.tensor(_tar_toked_id, dtype=torch.long)\n",
        "            \n",
        "            self.samples.append(sample)\n",
        "            \n",
        "    def __getitem__(self, i):\n",
        "        return self.samples[i]['text_vec'], self.samples[i]['target_vec']\n",
        "    \n",
        "    def __len__(self):\n",
        "        return len(self.samples)"
      ],
      "execution_count": 0,
      "outputs": []
    },
    {
      "cell_type": "code",
      "metadata": {
        "colab_type": "code",
        "id": "ekmwMTGUN9LB",
        "colab": {}
      },
      "source": [
        "def pad_tensor(tensors, sort=True, pad_token=0):\n",
        "    rows = len(tensors)\n",
        "    lengths = [len(i) for i in tensors]\n",
        "    max_t = max(lengths)\n",
        "        \n",
        "    output = tensors[0].new(rows, max_t)\n",
        "    output.fill_(pad_token)  # 0 is a pad token here\n",
        "    \n",
        "    for i, (tensor, length) in enumerate(zip(tensors, lengths)):\n",
        "        output[i,:length] = tensor\n",
        "\n",
        "    return output, lengths\n",
        "\n",
        "def argsort(keys, *lists, descending=False):\n",
        "    \"\"\"Reorder each list in lists by the (descending) sorted order of keys.\n",
        "    :param iter keys: Keys to order by.\n",
        "    :param list[list] lists: Lists to reordered by keys's order.\n",
        "                             Correctly handles lists and 1-D tensors.\n",
        "    :param bool descending: Use descending order if true.\n",
        "    :returns: The reordered items.\n",
        "    \"\"\"\n",
        "    ind_sorted = sorted(range(len(keys)), key=lambda k: keys[k])\n",
        "    if descending:\n",
        "        ind_sorted = list(reversed(ind_sorted))\n",
        "    output = []\n",
        "    for lst in lists:\n",
        "        if isinstance(lst, torch.Tensor):\n",
        "            output.append(lst[ind_sorted])\n",
        "        else:\n",
        "            output.append([lst[i] for i in ind_sorted])\n",
        "    return output\n",
        "\n",
        "def batchify(batch):\n",
        "    inputs = [i[0] for i in batch]\n",
        "    labels = [i[1] for i in batch]\n",
        "    \n",
        "    input_vecs, input_lens = pad_tensor(inputs)\n",
        "    label_vecs, label_lens = pad_tensor(labels)\n",
        "    \n",
        "    # sort only wrt inputs here for encoder packinng\n",
        "    input_vecs, input_lens, label_vecs, label_lens = argsort(input_lens, input_vecs, input_lens, label_vecs, label_lens, descending=True)\n",
        "\n",
        "    return {\n",
        "        \"text_vecs\": input_vecs,\n",
        "        \"text_lens\": input_lens,\n",
        "        \"target_vecs\": label_vecs,\n",
        "        \"target_lens\": label_lens,\n",
        "        'use_packed': True\n",
        "    }"
      ],
      "execution_count": 0,
      "outputs": []
    },
    {
      "cell_type": "code",
      "metadata": {
        "colab_type": "code",
        "id": "p5A_LBqUOA7d",
        "outputId": "7f889e2d-f7c5-4e4f-cba6-3e465abb9472",
        "colab": {
          "base_uri": "https://localhost:8080/",
          "height": 50
        }
      },
      "source": [
        "# loading datasets and dictionary\n",
        "\n",
        "# downloading pretrained models and data\n",
        "\n",
        "### DOWNLOADING THE FILES\n",
        "import os\n",
        "\n",
        "### persona chat dataset\n",
        "if not os.path.exists('./dict'):\n",
        "    !wget \"https://nyu.box.com/shared/static/sj9f87tofpicll89xbc154pmbztu5q4h\" -O './dict'\n",
        "if not os.path.exists('./train.jsonl'):\n",
        "    !wget \"https://nyu.box.com/shared/static/aqp0jyjaixjmukm5asasivq2bcfze075.jsonl\" -O './train.jsonl'\n",
        "if not os.path.exists('./valid.jsonl'):\n",
        "    !wget \"https://nyu.box.com/shared/static/eg4ivddtqib2hkf1k8rkxnmzmo0cq27p.jsonl\" -O './valid.jsonl'\n",
        "\n",
        "if not os.path.exists('./chat_model_best_22.pt'):\n",
        "    !wget \"https://nyu.box.com/shared/static/24zsynuks8nzg7530tgakzh8o62id9xa.pt\" -O './chat_model_best_22.pt'\n",
        "\n",
        "chat_dict = ChatDictionary('./dict')\n",
        "train_dataset = ChatDataset('./train.jsonl', chat_dict)\n",
        "valid_dataset = ChatDataset('./valid.jsonl', chat_dict, 'valid')"
      ],
      "execution_count": 0,
      "outputs": [
        {
          "output_type": "stream",
          "text": [
            "100%|██████████| 131438/131438 [00:13<00:00, 9499.39it/s] \n",
            "100%|██████████| 7801/7801 [00:01<00:00, 7418.71it/s]\n"
          ],
          "name": "stderr"
        }
      ]
    },
    {
      "cell_type": "code",
      "metadata": {
        "colab_type": "code",
        "id": "p2Nz9dP5OG7F",
        "colab": {}
      },
      "source": [
        "train_loader = DataLoader(train_dataset, shuffle=True, collate_fn=batchify, batch_size=256)\n",
        "valid_loader = DataLoader(valid_dataset, shuffle=False, collate_fn=batchify, batch_size=256)"
      ],
      "execution_count": 0,
      "outputs": []
    },
    {
      "cell_type": "code",
      "metadata": {
        "colab_type": "code",
        "id": "Y_m8bpUdOK1B",
        "colab": {}
      },
      "source": [
        "import torch.nn as nn\n",
        "from torch.nn.utils.rnn import pack_padded_sequence, pad_packed_sequence\n",
        "\n",
        "class EncoderRNN(nn.Module):\n",
        "    \"\"\"Encodes the input context.\"\"\"\n",
        "\n",
        "    def __init__(self, vocab_size, embed_size, hidden_size, num_layers, pad_idx=0, dropout=0, shared_lt=None):\n",
        "        super().__init__()\n",
        "        self.vocab_size = vocab_size\n",
        "        self.embed_size = embed_size\n",
        "        self.hidden_size = hidden_size\n",
        "        self.num_layers = num_layers\n",
        "        self.dropout = nn.Dropout(p=dropout)\n",
        "        self.pad_idx = pad_idx\n",
        "        \n",
        "        if shared_lt is None:\n",
        "            self.embedding = nn.Embedding(self.vocab_size, self.embed_size, pad_idx)\n",
        "        else:\n",
        "            self.embedding = shared_lt\n",
        "            \n",
        "        self.gru = nn.GRU(\n",
        "            self.embed_size, self.hidden_size, num_layers=self.num_layers, batch_first=True, dropout=dropout if num_layers > 1 else 0,\n",
        "        )\n",
        "        \n",
        "        \n",
        "    def forward(self, text_vec, text_lens, hidden=None, use_packed=True):\n",
        "        embedded = self.embedding(text_vec)\n",
        "        attention_mask = text_vec.ne(self.pad_idx)\n",
        "\n",
        "        embedded = self.dropout(embedded)\n",
        "        if use_packed is True:\n",
        "            embedded = pack_padded_sequence(embedded, text_lens, batch_first=True)\n",
        "        output, hidden = self.gru(embedded, hidden)\n",
        "        if use_packed is True:\n",
        "            output, output_lens = pad_packed_sequence(output, batch_first=True)\n",
        "        \n",
        "        return output, hidden, attention_mask\n",
        "\n",
        "    \n",
        "class DecoderRNN(nn.Module):\n",
        "    \"\"\"Generates a sequence of tokens in response to context.\"\"\"\n",
        "\n",
        "    def __init__(self, vocab_size, embed_size, hidden_size, num_layers, dropout=0):\n",
        "        super().__init__()\n",
        "        self.vocab_size = vocab_size\n",
        "        self.embed_size = embed_size\n",
        "        self.hidden_size = hidden_size\n",
        "        self.num_layers = num_layers\n",
        "        self.dropout = nn.Dropout(p=dropout)\n",
        "        \n",
        "        self.embedding = nn.Embedding(self.vocab_size, self.embed_size, 0)\n",
        "        \n",
        "        self.gru = nn.GRU(\n",
        "            self.embed_size, self.hidden_size, num_layers=self.num_layers, batch_first=True, dropout=dropout if num_layers > 1 else 0,\n",
        "        )\n",
        "        \n",
        "        self.attention = AttentionLayer(self.hidden_size, self.embed_size)\n",
        "\n",
        "        self.out = nn.Linear(self.hidden_size, self.vocab_size)\n",
        "        self.longest_label = 100\n",
        "\n",
        "    def forward(self, text_vec, decoder_hidden, encoder_states):\n",
        "        emb = self.embedding(text_vec)\n",
        "        emb = self.dropout(emb)\n",
        "        seqlen = text_vec.size(1)\n",
        "        encoder_output, encoder_hidden, attention_mask = encoder_states\n",
        "        \n",
        "        decoder_hidden = decoder_hidden\n",
        "        output = []\n",
        "        attn_w_log = []\n",
        "\n",
        "        for i in range(seqlen):\n",
        "            decoder_output, decoder_hidden = self.gru(emb[:,i,:].unsqueeze(1), decoder_hidden)\n",
        "            \n",
        "            # compute attention at each time step\n",
        "            decoder_output_attended, attn_weights = self.attention(decoder_output, decoder_hidden, encoder_output, attention_mask)\n",
        "            output.append(decoder_output_attended)\n",
        "            attn_w_log.append(attn_weights)\n",
        "            \n",
        "        output = torch.cat(output, dim=1).to(text_vec.device)\n",
        "        scores = self.out(output)\n",
        "        \n",
        "        return scores, decoder_hidden, attn_w_log\n",
        "    \n",
        "    def decode_forced(self, ys, encoder_states, xs_lens):\n",
        "        encoder_output, encoder_hidden, attention_mask = encoder_states\n",
        "        \n",
        "        batch_size = ys.size(0)\n",
        "        target_length = ys.size(1)\n",
        "        longest_label = max(target_length, self.longest_label)\n",
        "        \n",
        "        starts = torch.Tensor([1]).long().to(self.embedding.weight.device).expand(batch_size, 1).long()  # expand to batch size\n",
        "        \n",
        "        # Teacher forcing: Feed the target as the next input\n",
        "        y_in = ys.narrow(1, 0, ys.size(1) - 1)\n",
        "        decoder_input = torch.cat([starts, y_in], 1)\n",
        "        decoder_output, decoder_hidden, attn_w_log = self.forward(decoder_input, encoder_hidden, encoder_states)\n",
        "        _, preds = decoder_output.max(dim=2)\n",
        "        \n",
        "        return decoder_output, preds, attn_w_log\n",
        "    \n",
        "    \n",
        "class AttentionLayer(nn.Module):\n",
        "\n",
        "    def __init__(self, hidden_size, embedding_size):\n",
        "        super().__init__()\n",
        "        input_dim = hidden_size\n",
        "\n",
        "        self.linear_out = nn.Linear(hidden_size+input_dim, input_dim, bias=False)\n",
        "        self.softmax = nn.Softmax(dim=-1)\n",
        "        self.tanh = nn.Tanh()\n",
        "\n",
        "    def forward(self, decoder_output, decoder_hidden, encoder_output, attention_mask):\n",
        "\n",
        "        batch_size, seq_length, hidden_size = encoder_output.size()\n",
        "\n",
        "        encoder_output_t = encoder_output.transpose(1,2)\n",
        "        \n",
        "        attention_scores = torch.bmm(decoder_output, encoder_output_t).squeeze(1)\n",
        "\n",
        "        attention_scores.masked_fill_((~attention_mask), -10e5)\n",
        "        attention_weights = self.softmax(attention_scores)\n",
        "\n",
        "        mix = torch.bmm(attention_weights.unsqueeze(1), encoder_output)\n",
        "\n",
        "        combined = torch.cat((decoder_output.squeeze(1), mix.squeeze(1)), dim=1)\n",
        "\n",
        "        output = self.linear_out(combined).unsqueeze(1)\n",
        "        output = self.tanh(output)\n",
        "\n",
        "        return output, attention_weights\n",
        "    \n",
        "    \n",
        "class seq2seq(nn.Module):\n",
        "    \"\"\"\n",
        "    Generic seq2seq model with attention mechanism.\n",
        "    \"\"\"\n",
        "    def __init__(self, opts):\n",
        "\n",
        "        super().__init__()\n",
        "        self.opts = opts\n",
        "        \n",
        "        self.decoder = DecoderRNN(\n",
        "                                    vocab_size=self.opts['vocab_size'],\n",
        "                                    embed_size=self.opts['embedding_size'],\n",
        "                                    hidden_size=self.opts['hidden_size'],\n",
        "                                    num_layers=self.opts['num_layers_dec'],\n",
        "                                    dropout=self.opts['dropout'],\n",
        "                                )\n",
        "        \n",
        "        self.encoder = EncoderRNN(\n",
        "                                    vocab_size=self.opts['vocab_size'],\n",
        "                                    embed_size=self.opts['embedding_size'],\n",
        "                                    hidden_size=self.opts['hidden_size'],\n",
        "                                    num_layers=self.opts['num_layers_enc'],\n",
        "                                    dropout=self.opts['dropout'],\n",
        "                                    shared_lt=self.decoder.embedding\n",
        "        )\n",
        "        \n",
        "    def train(self):\n",
        "        self.encoder.train()\n",
        "        self.decoder.train()\n",
        "        \n",
        "    def eval(self):\n",
        "        self.encoder.eval()\n",
        "        self.decoder.eval()"
      ],
      "execution_count": 0,
      "outputs": []
    },
    {
      "cell_type": "code",
      "metadata": {
        "colab_type": "code",
        "id": "elppTaHjOTO6",
        "colab": {}
      },
      "source": [
        "num_gpus = torch.cuda.device_count()\n",
        "if num_gpus > 0:\n",
        "    current_device = 'cuda'\n",
        "else:\n",
        "    current_device = 'cpu'\n",
        "\n",
        "load_pretrained = True\n",
        "    \n",
        "if load_pretrained is True:\n",
        "    if current_device == 'cuda':\n",
        "        model_pt = torch.load('./chat_model_best_22.pt')\n",
        "    else:\n",
        "        model_pt = torch.load('./chat_model_best_22.pt', map_location=torch.device('cpu'))\n",
        "    opts = model_pt['opts']\n",
        "    \n",
        "    model = seq2seq(opts)\n",
        "    model.load_state_dict(model_pt['state_dict'])\n",
        "    model.to(current_device)\n",
        "    \n",
        "else:\n",
        "    \n",
        "    opts = {}\n",
        "\n",
        "    opts['vocab_size'] = len(chat_dict)\n",
        "    opts['hidden_size'] = 512\n",
        "    opts['embedding_size'] = 256\n",
        "    opts['num_layers_enc'] = 2\n",
        "    opts['num_layers_dec'] = 2\n",
        "    opts['dropout'] = 0.3\n",
        "    opts['encoder_shared_lt'] = True\n",
        "\n",
        "    model = seq2seq(opts)\n",
        "    model.to(current_device)"
      ],
      "execution_count": 0,
      "outputs": []
    },
    {
      "cell_type": "code",
      "metadata": {
        "colab_type": "code",
        "id": "kJ0HeF1Cxtto",
        "colab": {}
      },
      "source": [
        "import matplotlib.pyplot as plt\n",
        "import seaborn\n",
        "seaborn.set_context(context=\"talk\")\n",
        "import matplotlib.ticker as ticker\n",
        "%matplotlib inline\n",
        "\n",
        "def showAttention(input_sentence, output_words, attentions):\n",
        "    # Set up figure with colorbar\n",
        "    fig = plt.figure(figsize = (18,5))\n",
        "    ax = fig.add_subplot(111)\n",
        "    cax = ax.matshow(attentions, cmap='bone', aspect='auto')\n",
        "    fig.colorbar(cax)\n",
        "\n",
        "    # Set up axes\n",
        "    ax.set_xticklabels([''] + input_sentence.split(' ') , rotation=90, fontsize=10)\n",
        "    ax.set_yticklabels([''] + output_words.split(' '), fontsize=10);\n",
        "  \n",
        "    # Show label at every tick\n",
        "    ax.xaxis.set_major_locator(ticker.MultipleLocator(1))\n",
        "    ax.yaxis.set_major_locator(ticker.MultipleLocator(1))\n",
        "\n",
        "    plt.show()"
      ],
      "execution_count": 0,
      "outputs": []
    },
    {
      "cell_type": "code",
      "metadata": {
        "colab_type": "code",
        "id": "GQjUpLNqJtp-",
        "outputId": "11646056-131d-4ce7-ff0d-2ea96627b296",
        "colab": {
          "base_uri": "https://localhost:8080/",
          "height": 34
        }
      },
      "source": [
        "import numpy as np\n",
        "len_vec = []\n",
        "for text_vec, target_vec in valid_dataset:\n",
        "    len_vec.append(len(text_vec))\n",
        "\n",
        "np.argsort(len_vec)[100:105]"
      ],
      "execution_count": 0,
      "outputs": [
        {
          "output_type": "execute_result",
          "data": {
            "text/plain": [
              "array([ 758, 4276, 6972, 4745,  425])"
            ]
          },
          "metadata": {
            "tags": []
          },
          "execution_count": 9
        }
      ]
    },
    {
      "cell_type": "markdown",
      "metadata": {
        "colab_type": "text",
        "id": "KsBepGS4MuQ-"
      },
      "source": [
        "### You present here:"
      ]
    },
    {
      "cell_type": "code",
      "metadata": {
        "colab_type": "code",
        "id": "3bHS3vylMuRB",
        "outputId": "945436fb-004f-4a9c-a595-4f896e79974b",
        "colab": {
          "base_uri": "https://localhost:8080/",
          "height": 1000
        }
      },
      "source": [
        "# this is some example attention map here, \n",
        "# *make sure you add text tokens on the axes to make it readable!*\n",
        "\n",
        "for i in [883,   23, 5257, 1376, 1556]:\n",
        "    inputs = [valid_dataset[i][0]]\n",
        "    labels = [valid_dataset[i][1]]\n",
        "    \n",
        "    input_vecs, input_lens = pad_tensor(inputs)\n",
        "    label_vecs, label_lens = pad_tensor(labels)\n",
        "    \n",
        "    # sort only wrt inputs here for encoder packinng\n",
        "    input_vecs, input_lens, label_vecs, label_lens = argsort(input_lens, input_vecs, input_lens, label_vecs, label_lens, descending=True)\n",
        "    model.eval()\n",
        "    text_vecs = input_vecs.to(current_device)\n",
        "    target_vecs = label_vecs.to(current_device)\n",
        "    \n",
        "    encoded = model.encoder(text_vecs, input_lens, use_packed=True)        \n",
        "    decoder_output, preds, attn_w_log = model.decoder.decode_forced(target_vecs, encoded, label_lens)\n",
        "    attn_w_log = [attn.clone().detach().cpu().numpy() for attn in attn_w_log]\n",
        "    attn_w_log = np.concatenate(attn_w_log)\n",
        "    print('Input')\n",
        "    print(chat_dict.v2t(input_vecs[0].tolist()))\n",
        "    print('Target')\n",
        "    print(chat_dict.v2t(label_vecs[0].tolist()))\n",
        "    print('Attention Maps')\n",
        "    showAttention(chat_dict.v2t(input_vecs[0].cpu().numpy().tolist()),chat_dict.v2t(label_vecs[0].cpu().numpy().tolist()),attn_w_log)"
      ],
      "execution_count": 0,
      "outputs": [
        {
          "output_type": "stream",
          "text": [
            "Input\n",
            "your persona : i work from home . \n",
            " your persona : i watch too much tv in spare time . \n",
            " your persona : i like to spend my money on cars . \n",
            " your persona : i ' ve never had a steady relationship . \n",
            " hi how are you today \n",
            " i ' m doing well how about you ? \n",
            " doing good just waiting on the baby birth \n",
            " aww congratulations . it must be exciting . \n",
            " we are having triplets so very excited\n",
            "Target\n",
            "ow wow now that will be hard task __end__\n",
            "Attention Maps\n"
          ],
          "name": "stdout"
        },
        {
          "output_type": "display_data",
          "data": {
            "image/png": "[encoded data removed]",
            "text/plain": [
              "<Figure size 1296x360 with 2 Axes>"
            ]
          },
          "metadata": {
            "tags": [],
            "needs_background": "light"
          }
        },
        {
          "output_type": "stream",
          "text": [
            "Input\n",
            "your persona : i love to drink fancy tea . \n",
            " your persona : i have a big library at home . \n",
            " your persona : i ' m a museum tour guide . \n",
            " your persona : i ' m partly deaf . \n",
            " hi how are you doing ? i am okay how about you ? \n",
            " i am doing good . just sipping tea . what do you do for work ? \n",
            " i used to do home health aide but now i am disabled .\n",
            "Target\n",
            "i am sorry to hear that . what happened __end__\n",
            "Attention Maps\n"
          ],
          "name": "stdout"
        },
        {
          "output_type": "display_data",
          "data": {
            "image/png": "[encoded data removed]",
            "text/plain": [
              "<Figure size 1296x360 with 2 Axes>"
            ]
          },
          "metadata": {
            "tags": [],
            "needs_background": "light"
          }
        },
        {
          "output_type": "stream",
          "text": [
            "Input\n",
            "your persona : my mother is a dentist . \n",
            " your persona : my favourite artist is travis scott . \n",
            " your persona : i like playing basketball . \n",
            " your persona : i ' m currently looking for a job preferably at a restaurant . \n",
            " hi ! i don ' t like the color orange . \n",
            " hello . i like to shoot hoops , so orange balls are good with me . \n",
            " that ' s amazing . i like dancing on weekends . you ?\n",
            "Target\n",
            "right now i am applying for jobs , i want to work in a restaurant . __end__\n",
            "Attention Maps\n"
          ],
          "name": "stdout"
        },
        {
          "output_type": "display_data",
          "data": {
            "image/png": "[encoded data removed]",
            "text/plain": [
              "<Figure size 1296x360 with 2 Axes>"
            ]
          },
          "metadata": {
            "tags": [],
            "needs_background": "light"
          }
        },
        {
          "output_type": "stream",
          "text": [
            "Input\n",
            "your persona : my boyfriend and i are moving into an apartment together next week . \n",
            " your persona : my favorite colors are red and silver . \n",
            " your persona : i ' m fluent in english spanish and french . \n",
            " your persona : i ' m an elementary school teacher . \n",
            " hello how are you ? \n",
            " hi . good . i am just picking out paint for my new apartment with my boyfriend . \n",
            " sounds like a good way to end the weekend\n",
            "Target\n",
            "yeah . he won ' t go for red even though i love it . what is your favorite color ? __end__\n",
            "Attention Maps\n"
          ],
          "name": "stdout"
        },
        {
          "output_type": "display_data",
          "data": {
            "image/png": "[encoded data removed]",
            "text/plain": [
              "<Figure size 1296x360 with 2 Axes>"
            ]
          },
          "metadata": {
            "tags": [],
            "needs_background": "light"
          }
        },
        {
          "output_type": "stream",
          "text": [
            "Input\n",
            "your persona : i live in colorado . \n",
            " your persona : i am a mechanical engineer . \n",
            " your persona : i like to go hiking in the spring . \n",
            " your persona : my favorite activity is rock climbing . \n",
            " your persona : i have a black lab named trooper . \n",
            " hi there , do you love taylor swift ? \n",
            " you know it . i wish it was still summer . \n",
            " not me , i ' m ready for the cuddle weather .\n",
            "Target\n",
            "cool ! i love to go rock climbing my fav summer activity . __end__\n",
            "Attention Maps\n"
          ],
          "name": "stdout"
        },
        {
          "output_type": "display_data",
          "data": {
            "image/png": "[encoded data removed]",
            "text/plain": [
              "<Figure size 1296x360 with 2 Axes>"
            ]
          },
          "metadata": {
            "tags": [],
            "needs_background": "light"
          }
        }
      ]
    },
    {
      "cell_type": "markdown",
      "metadata": {
        "colab_type": "text",
        "id": "kjuoR5_iMuRL"
      },
      "source": [
        "![Imgur](https://i.imgur.com/xodciCU.png)"
      ]
    },
    {
      "cell_type": "markdown",
      "metadata": {
        "colab_type": "text",
        "id": "hCGl4oxUMuRO"
      },
      "source": [
        "## 1.2 Encoder Transformer"
      ]
    },
    {
      "cell_type": "code",
      "metadata": {
        "colab_type": "code",
        "id": "ntHBae5kMuRS",
        "colab": {}
      },
      "source": [
        "### add transformer encoder as optional encoder in seq2seq model.\n",
        "\n",
        "# code below can help you to start it, but feel free to start from scratch\n",
        "\n",
        "from torch.nn import TransformerEncoder, TransformerEncoderLayer\n",
        "import math\n",
        "\n",
        "class EncoderTransformer(nn.Module):\n",
        "\n",
        "    def __init__(self, ntoken, ninp, nhead, nhid, nlayers = 1, pad_idx = 0, dropout=0, max_len = 5000):\n",
        "        super(EncoderTransformer, self).__init__()\n",
        "        self.pos_encoder = nn.Embedding(max_len, ninp)\n",
        "        encoder_layers = TransformerEncoderLayer(ninp, nhead, nhid, dropout)\n",
        "        self.transformer_encoder = TransformerEncoder(encoder_layers, nlayers)\n",
        "        self.encoder = nn.Embedding(ntoken, ninp, pad_idx)\n",
        "        self.ninp = ninp\n",
        "        self.pad_idx = pad_idx\n",
        "        self.dropout = nn.Dropout(p=dropout)\n",
        "\n",
        "    def forward(self, src):\n",
        "        mask = src.eq(self.pad_idx)\n",
        "        src = self.encoder(src)\n",
        "        src = self.dropout(src) + self.dropout(self.pos_encoder(torch.arange(src.shape[1]).to(current_device)).unsqueeze(0))\n",
        "        output = self.transformer_encoder(src.transpose(0,1), src_key_padding_mask = mask)\n",
        "        return output, mask\n",
        "\n",
        "class DecoderTransformerRNN(nn.Module):\n",
        "    \"\"\"Generates a sequence of tokens in response to context.\"\"\"\n",
        "\n",
        "    def __init__(self, vocab_size, embed_size, hidden_size, num_layers, dropout=0):\n",
        "        super().__init__()\n",
        "        self.vocab_size = vocab_size\n",
        "        self.embed_size = embed_size\n",
        "        self.hidden_size = hidden_size\n",
        "        self.num_layers = num_layers\n",
        "        self.dropout = nn.Dropout(p=dropout)\n",
        "        \n",
        "        self.embedding = nn.Embedding(self.vocab_size, self.embed_size, 0)\n",
        "        \n",
        "        self.gru = nn.GRU(\n",
        "            self.embed_size, self.hidden_size, num_layers=self.num_layers, batch_first=True, dropout=dropout if num_layers > 1 else 0,\n",
        "        )\n",
        "        \n",
        "        self.attention = AttentionLayer(self.hidden_size, self.embed_size)\n",
        "\n",
        "        self.out = nn.Linear(self.hidden_size, self.vocab_size)\n",
        "        self.longest_label = 100\n",
        "\n",
        "    def forward(self, text_vec, decoder_hidden, encoder_states):\n",
        "        emb = self.embedding(text_vec)\n",
        "        emb = self.dropout(emb)\n",
        "        seqlen = text_vec.size(1)\n",
        "        encoder_hidden, attention_mask = encoder_states\n",
        "        \n",
        "        output = []\n",
        "        attn_w_log = []\n",
        "\n",
        "        for i in range(seqlen):\n",
        "            decoder_output, decoder_hidden = self.gru(emb[:,i,:].unsqueeze(1), decoder_hidden)\n",
        "            \n",
        "            # compute attention at each time step\n",
        "            decoder_output_attended, attn_weights = self.attention(decoder_output, decoder_hidden, encoder_hidden.transpose(0,1), ~attention_mask)\n",
        "            output.append(decoder_output_attended)\n",
        "            attn_w_log.append(attn_weights)\n",
        "            \n",
        "        output = torch.cat(output, dim=1).to(text_vec.device)\n",
        "        scores = self.out(output)\n",
        "        \n",
        "        return scores, decoder_hidden, attn_w_log\n",
        "    \n",
        "    def decode_forced(self, ys, encoder_states, xs_lens):\n",
        "        encoder_hidden, _ = encoder_states\n",
        "        \n",
        "        batch_size = ys.size(0)\n",
        "        target_length = ys.size(1)\n",
        "        longest_label = max(target_length, self.longest_label)\n",
        "        \n",
        "        starts = torch.Tensor([1]).long().to(self.embedding.weight.device).expand(batch_size, 1).long()  # expand to batch size\n",
        "        \n",
        "        # Teacher forcing: Feed the target as the next input\n",
        "        y_in = ys.narrow(1, 0, ys.size(1) - 1)\n",
        "        decoder_input = torch.cat([starts, y_in], 1)\n",
        "        len_vecs = torch.Tensor(xs_lens).unsqueeze(1).to(current_device)\n",
        "        encoder_output = torch.sum(encoder_hidden,dim=0)/len_vecs\n",
        "        if self.num_layers > 1:\n",
        "            tensor_list = [encoder_output for i in range(self.num_layers)]\n",
        "            encoder_output = torch.stack(tensor_list)\n",
        "        else:\n",
        "            encoder_output = encoder_output.unsqueeze(0)\n",
        "        decoder_output, decoder_hidden, attn_w_log = self.forward(decoder_input, encoder_output, encoder_states)\n",
        "        _, preds = decoder_output.max(dim=2)\n",
        "        \n",
        "        return decoder_output, preds, attn_w_log\n"
      ],
      "execution_count": 0,
      "outputs": []
    },
    {
      "cell_type": "code",
      "metadata": {
        "colab_type": "code",
        "id": "qOYd3raoJ8zM",
        "colab": {}
      },
      "source": [
        "class Transformer2seq(nn.Module):\n",
        "    \"\"\"\n",
        "    Generic seq2seq model with attention mechanism.\n",
        "    \"\"\"\n",
        "    def __init__(self, opts):\n",
        "\n",
        "        super().__init__()\n",
        "        self.opts = opts\n",
        "        \n",
        "        self.decoder = DecoderTransformerRNN(\n",
        "                                    vocab_size=self.opts['vocab_size'],\n",
        "                                    embed_size=self.opts['embedding_size'],\n",
        "                                    hidden_size=self.opts['hidden_size'],\n",
        "                                    num_layers=self.opts['num_layers_dec'],\n",
        "                                    dropout=self.opts['dropout'],\n",
        "                                )\n",
        "        \n",
        "        self.encoder = EncoderTransformer(\n",
        "                                    ntoken = self.opts['vocab_size'],\n",
        "                                    ninp = self.opts['embedding_size'],\n",
        "                                    nhead = 4,\n",
        "                                    nhid = 1024,\n",
        "                                    nlayers=self.opts['num_layers_enc'],\n",
        "                                    dropout=self.opts['dropout']\n",
        "        )\n",
        "        \n",
        "    def train(self):\n",
        "        self.encoder.train()\n",
        "        self.decoder.train()\n",
        "        \n",
        "    def eval(self):\n",
        "        self.encoder.eval()\n",
        "        self.decoder.eval()"
      ],
      "execution_count": 0,
      "outputs": []
    },
    {
      "cell_type": "code",
      "metadata": {
        "colab_type": "code",
        "id": "Na9R0oOpglpT",
        "colab": {}
      },
      "source": [
        "num_gpus = torch.cuda.device_count()\n",
        "if num_gpus > 0:\n",
        "    current_device = 'cuda'\n",
        "else:\n",
        "    current_device = 'cpu'\n",
        "\n",
        "load_pretrained = True\n",
        "    \n",
        "if load_pretrained is True:\n",
        "    if current_device == 'cuda':\n",
        "        model_pt = torch.load('/home/rc3620/NLP_HW/HW4/transformer_model_best_11.pt')\n",
        "    else:\n",
        "        model_pt = torch.load('/home/rc3620/NLP_HW/HW4/transformer_model_best_11.pt', map_location=torch.device('cpu'))\n",
        "    opts = model_pt['opts']\n",
        "    \n",
        "    model_t = Transformer2seq(opts)\n",
        "    model_t.load_state_dict(model_pt['state_dict'])\n",
        "    model_t.to(current_device)\n",
        "    \n",
        "else:\n",
        "    \n",
        "    opts = {}\n",
        "\n",
        "    opts['vocab_size'] = len(chat_dict)\n",
        "    opts['hidden_size'] = 512\n",
        "    opts['embedding_size'] = 512\n",
        "    opts['num_layers_enc'] = 1\n",
        "    opts['num_layers_dec'] = 2\n",
        "    opts['dropout'] = 0.2\n",
        "\n",
        "    model_t = Transformer2seq(opts)\n",
        "    model_t.to(current_device)"
      ],
      "execution_count": 0,
      "outputs": []
    },
    {
      "cell_type": "code",
      "metadata": {
        "colab_type": "code",
        "id": "3oNcfbsGHpl6",
        "colab": {}
      },
      "source": [
        "criterion = nn.CrossEntropyLoss(ignore_index=0, reduction='sum')\n",
        "optimizer = torch.optim.Adam(model_t.parameters(), 0.001, amsgrad=True)\n",
        "scheduler = torch.optim.lr_scheduler.ReduceLROnPlateau(optimizer, 'min', patience=2, threshold=0.01)"
      ],
      "execution_count": 0,
      "outputs": []
    },
    {
      "cell_type": "code",
      "metadata": {
        "colab_type": "code",
        "id": "za6ZqFBrHwyL",
        "colab": {}
      },
      "source": [
        "def val_loss_cal(model_t, criterion, valid_loader):\n",
        "    val_loss = 0\n",
        "    val_tokens = 0\n",
        "    for i, batch in enumerate(valid_loader):\n",
        "        model_t.eval()\n",
        "        \n",
        "        text_vecs = batch['text_vecs'].to(current_device)\n",
        "        target_vecs = batch['target_vecs'].to(current_device)        \n",
        "        encoded = model_t.encoder(text_vecs)\n",
        "        decoder_output, preds, attn_w_log = model_t.decoder.decode_forced(target_vecs, encoded, batch['text_lens'])\n",
        "        \n",
        "        scores = decoder_output.view(-1, decoder_output.size(-1))\n",
        "        \n",
        "        loss = criterion(scores, target_vecs.view(-1))\n",
        "        \n",
        "        num_tokens = target_vecs.ne(0).long().sum().item()\n",
        "        \n",
        "        val_tokens += num_tokens\n",
        "        val_loss += loss.item()\n",
        "    return val_loss/val_tokens\n",
        "\n",
        "\n",
        "def train_model(model_t, criterion, optimizer, scheduler, train_loader, valid_loader):\n",
        "    best_val_loss = 100\n",
        "    plot_cache = []\n",
        "    for epoch in range(15):\n",
        "        \n",
        "        model_t.train()\n",
        "        sum_loss = 0\n",
        "        sum_tokens = 0\n",
        "        \n",
        "        for i, batch in enumerate(train_loader):\n",
        "            optimizer.zero_grad()\n",
        "            \n",
        "            text_vecs = batch['text_vecs'].to(current_device)\n",
        "            target_vecs = batch['target_vecs'].to(current_device)\n",
        "\n",
        "            encoded = model_t.encoder(text_vecs)\n",
        "\n",
        "            decoder_output, preds, attn_w_log = model_t.decoder.decode_forced(target_vecs, encoded, batch['text_lens'])\n",
        "            \n",
        "            scores = decoder_output.view(-1, decoder_output.size(-1))\n",
        "            \n",
        "            loss = criterion(scores, target_vecs.view(-1))\n",
        "            \n",
        "            num_tokens = target_vecs.ne(0).long().sum().item()\n",
        "            sum_loss += loss.item()\n",
        "            loss /= num_tokens\n",
        "            \n",
        "            loss.backward()\n",
        "            optimizer.step()\n",
        "\n",
        "            sum_tokens += num_tokens\n",
        "            \n",
        "            if i % 100 == 0:\n",
        "                avg_train_loss = sum_loss/sum_tokens\n",
        "                print(\"iter {} train loss = {}\".format(i, sum_loss/sum_tokens))\n",
        "        \n",
        "        avg_val_loss = val_loss_cal(model_t, criterion, valid_loader)\n",
        "        scheduler.step(avg_val_loss)\n",
        "        torch.cuda.empty_cache()\n",
        "        print(\"Epoch {} valid loss = {}\".format(epoch, avg_val_loss))\n",
        "        \n",
        "        plot_cache.append( (avg_train_loss, avg_val_loss) )\n",
        "        \n",
        "        if avg_val_loss < best_val_loss:\n",
        "            best_val_loss = avg_val_loss\n",
        "            \n",
        "            torch.save({\n",
        "            'state_dict': model_t.state_dict(),\n",
        "            'opts': opts,\n",
        "            'plot_cache': plot_cache,\n",
        "                }, f'/home/rc3620/NLP_HW/HW4/transformer_model_best_{epoch}.pt')"
      ],
      "execution_count": 0,
      "outputs": []
    },
    {
      "cell_type": "code",
      "metadata": {
        "colab_type": "code",
        "id": "jnGUySMWYTZ4",
        "outputId": "17bbd329-e700-4729-b51e-2eb9c7043e28",
        "scrolled": false,
        "colab": {
          "base_uri": "https://localhost:8080/",
          "height": 34
        }
      },
      "source": [
        "if load_pretrained == False:\n",
        "    train_model(model_t, criterion, optimizer, scheduler, train_loader, valid_loader)"
      ],
      "execution_count": 0,
      "outputs": [
        {
          "output_type": "stream",
          "text": [
            "iter 0 train loss = 9.84813648756864\n",
            "iter 100 train loss = 5.489887177493359\n",
            "iter 200 train loss = 4.985257000297439\n",
            "iter 300 train loss = 4.713562813428969\n",
            "iter 400 train loss = 4.537210634427126\n",
            "iter 500 train loss = 4.4144269992853085\n",
            "Epoch 0 valid loss = 3.929049723641192\n",
            "iter 0 train loss = 3.7714917021496097\n",
            "iter 100 train loss = 3.7758587019829433\n",
            "iter 200 train loss = 3.765133294236461\n",
            "iter 300 train loss = 3.7509245005242167\n",
            "iter 400 train loss = 3.735830665406298\n",
            "iter 500 train loss = 3.721979901114221\n",
            "Epoch 1 valid loss = 3.775365655192729\n",
            "iter 0 train loss = 3.5169310266505147\n",
            "iter 100 train loss = 3.533445308758717\n",
            "iter 200 train loss = 3.532823638856501\n",
            "iter 300 train loss = 3.5332308323643242\n",
            "iter 400 train loss = 3.5331768583713177\n",
            "iter 500 train loss = 3.5306849608047832\n",
            "Epoch 2 valid loss = 3.7100219450918726\n",
            "iter 0 train loss = 3.349690482868117\n",
            "iter 100 train loss = 3.3970679519508855\n",
            "iter 200 train loss = 3.3983164507912167\n",
            "iter 300 train loss = 3.4024181399061137\n",
            "iter 400 train loss = 3.4020956437716805\n",
            "iter 500 train loss = 3.4033007966567785\n",
            "Epoch 3 valid loss = 3.6826555524218443\n",
            "iter 0 train loss = 3.269857073361989\n",
            "iter 100 train loss = 3.2813449965684547\n",
            "iter 200 train loss = 3.286394925722841\n",
            "iter 300 train loss = 3.2949159974431814\n",
            "iter 400 train loss = 3.300453618650056\n",
            "iter 500 train loss = 3.306555419329554\n",
            "Epoch 4 valid loss = 3.6802781096033597\n",
            "iter 0 train loss = 3.1533011810124267\n",
            "iter 100 train loss = 3.1936777916384647\n",
            "iter 200 train loss = 3.2028690171689913\n",
            "iter 300 train loss = 3.214644688222275\n",
            "iter 400 train loss = 3.2200124317182883\n",
            "iter 500 train loss = 3.2277258168733804\n",
            "Epoch 5 valid loss = 3.6748720431093918\n",
            "iter 0 train loss = 3.082043417198161\n",
            "iter 100 train loss = 3.0679844361744446\n",
            "iter 200 train loss = 3.066122640703913\n",
            "iter 300 train loss = 3.0638184041625594\n",
            "iter 400 train loss = 3.059266088589691\n",
            "iter 500 train loss = 3.058890379263247\n",
            "Epoch 6 valid loss = 3.6334465041444064\n",
            "iter 0 train loss = 3.0182333981352523\n",
            "iter 100 train loss = 3.0228609646050413\n",
            "iter 200 train loss = 3.026071210815587\n",
            "iter 300 train loss = 3.024818280130364\n",
            "iter 400 train loss = 3.0256357082301095\n",
            "iter 500 train loss = 3.0259647441889816\n",
            "Epoch 7 valid loss = 3.6273539556228442\n",
            "iter 0 train loss = 3.031831194282201\n",
            "iter 100 train loss = 3.001787306856453\n",
            "iter 200 train loss = 3.0036845896999043\n",
            "iter 300 train loss = 3.0038427896737088\n",
            "iter 400 train loss = 3.0075203499085323\n",
            "iter 500 train loss = 3.0084659738658117\n",
            "Epoch 8 valid loss = 3.6281289720854635\n",
            "iter 0 train loss = 2.955521164200496\n",
            "iter 100 train loss = 2.9923869644801555\n",
            "iter 200 train loss = 2.9924643695711977\n",
            "iter 300 train loss = 2.9917565750720576\n",
            "iter 400 train loss = 2.995404646157764\n",
            "iter 500 train loss = 2.995125800983093\n",
            "Epoch 9 valid loss = 3.6303532179578726\n",
            "iter 0 train loss = 2.900775420654959\n",
            "iter 100 train loss = 2.968721364225405\n",
            "iter 200 train loss = 2.971358158757418\n",
            "iter 300 train loss = 2.9715245507399346\n",
            "iter 400 train loss = 2.9733353213630433\n",
            "iter 500 train loss = 2.971794385327314\n",
            "Epoch 10 valid loss = 3.6274528589556647\n",
            "iter 0 train loss = 2.9994739350818453\n",
            "iter 100 train loss = 2.9693045436390544\n",
            "iter 200 train loss = 2.9742662302211733\n",
            "iter 300 train loss = 2.9725396002666487\n",
            "iter 400 train loss = 2.971946333774656\n",
            "iter 500 train loss = 2.969847939354032\n",
            "Epoch 11 valid loss = 3.6268820769369587\n",
            "iter 0 train loss = 2.8992545513838475\n",
            "iter 100 train loss = 2.9644691908873804\n",
            "iter 200 train loss = 2.972432204742189\n",
            "iter 300 train loss = 2.973939607413262\n",
            "iter 400 train loss = 2.970428501549582\n",
            "iter 500 train loss = 2.969527730383551\n",
            "Epoch 12 valid loss = 3.628000228847674\n",
            "iter 0 train loss = 3.024832167170953\n",
            "iter 100 train loss = 2.9666086630786506\n",
            "iter 200 train loss = 2.965827308346775\n",
            "iter 300 train loss = 2.964409040347086\n",
            "iter 400 train loss = 2.964843056933954\n",
            "iter 500 train loss = 2.9659252899880784\n",
            "Epoch 13 valid loss = 3.6274613652053045\n",
            "iter 0 train loss = 2.935225069934665\n",
            "iter 100 train loss = 2.959838553491606\n",
            "iter 200 train loss = 2.9646839194382535\n",
            "iter 300 train loss = 2.9691759714548214\n",
            "iter 400 train loss = 2.9684593430054287\n",
            "iter 500 train loss = 2.965658708810868\n",
            "Epoch 14 valid loss = 3.6274265942091217\n"
          ],
          "name": "stdout"
        }
      ]
    },
    {
      "cell_type": "markdown",
      "metadata": {
        "colab_type": "text",
        "id": "s0rEAfGlMuRc"
      },
      "source": [
        "## You present here:"
      ]
    },
    {
      "cell_type": "code",
      "metadata": {
        "colab_type": "code",
        "id": "XBZjuTwwMuRg",
        "outputId": "085df804-1f68-4838-e46a-b7ac5d527ba9",
        "colab": {
          "base_uri": "https://localhost:8080/",
          "height": 545
        }
      },
      "source": [
        "# check pdf to see what you expected to present\n",
        "import matplotlib.pyplot as plt\n",
        "import numpy as np\n",
        "\n",
        "loss = model_pt['plot_cache']\n",
        "train_loss = [loss[i][0] for i in range(len(loss))]\n",
        "train_perp = [2**(loss[i][0]/np.log(2)) for i in range(len(loss))]\n",
        "val_loss = [loss[i][1] for i in range(len(loss))]\n",
        "val_perp = [2**(loss[i][1]/np.log(2)) for i in range(len(loss))]\n",
        "\n",
        "plt.title('Loss Curves')\n",
        "plt.plot(train_loss, label = 'Training Loss')\n",
        "plt.plot(val_loss, label = 'Validation Loss')\n",
        "plt.legend()\n",
        "plt.show()\n",
        "\n",
        "plt.title('Perplexity Curves')\n",
        "plt.plot(train_perp, label = 'Training Perplexity')\n",
        "plt.plot(val_perp, label = 'Validation Perplexity')\n",
        "plt.legend()\n",
        "plt.show()"
      ],
      "execution_count": 0,
      "outputs": [
        {
          "output_type": "display_data",
          "data": {
            "image/png": "[encoded data removed]",
            "text/plain": [
              "<Figure size 432x288 with 1 Axes>"
            ]
          },
          "metadata": {
            "tags": [],
            "needs_background": "light"
          }
        },
        {
          "output_type": "display_data",
          "data": {
            "image/png": "[encoded data removed]",
            "text/plain": [
              "<Figure size 432x288 with 1 Axes>"
            ]
          },
          "metadata": {
            "tags": [],
            "needs_background": "light"
          }
        }
      ]
    },
    {
      "cell_type": "markdown",
      "metadata": {
        "colab_type": "text",
        "id": "jnMGqOeqMuR9"
      },
      "source": [
        "# Part 2 Decoding"
      ]
    },
    {
      "cell_type": "markdown",
      "metadata": {
        "colab_type": "text",
        "id": "87xkKJlzMuSB"
      },
      "source": [
        "# 2.1 Nucleus Sampling"
      ]
    },
    {
      "cell_type": "code",
      "metadata": {
        "colab_type": "code",
        "id": "OLomPxYSMuSE",
        "colab": {}
      },
      "source": [
        "# implement nucleus sampling here.\n",
        "# you must cite any code you use from other sources!\n",
        "# Source: https://gist.github.com/thomwolf/1a5a29f6962089e871b94cbd09daf317\n",
        "def get_samples(sample_space, p):\n",
        "    sample_sorted, sorted_indices = torch.sort(sample_space, dim=-1, descending=True)\n",
        "    sample_sorted = torch.cumsum(F.softmax(sample_sorted, -1), -1)\n",
        "    # Remove tokens with cumulative probability above the threshold\n",
        "    sorted_indices_to_remove = sample_sorted > p\n",
        "    # Shift the indices to the right to keep also the first token above the threshold\n",
        "    sorted_indices_to_remove[..., 1:] = sorted_indices_to_remove[..., :-1].clone()\n",
        "    sorted_indices_to_remove[..., 0] = 0\n",
        "\n",
        "    indices_to_remove = sorted_indices[sorted_indices_to_remove]\n",
        "    sample_space[indices_to_remove] = -10**(9)\n",
        "    sample = torch.multinomial(F.softmax(sample_space, -1), 1)\n",
        "    return sample\n",
        "    "
      ],
      "execution_count": 0,
      "outputs": []
    },
    {
      "cell_type": "markdown",
      "metadata": {
        "colab_type": "text",
        "id": "rYFwtifnMuSN"
      },
      "source": [
        "## You present here:"
      ]
    },
    {
      "cell_type": "code",
      "metadata": {
        "colab_type": "code",
        "id": "SXAFU_SUMuSQ",
        "colab": {}
      },
      "source": [
        "# check pdf to see what you expected to present"
      ],
      "execution_count": 0,
      "outputs": []
    },
    {
      "cell_type": "code",
      "metadata": {
        "colab_type": "code",
        "id": "a8o1Iv6uMuSY",
        "colab": {}
      },
      "source": [
        ""
      ],
      "execution_count": 0,
      "outputs": []
    },
    {
      "cell_type": "markdown",
      "metadata": {
        "colab_type": "text",
        "id": "n9CM8kATMuSg"
      },
      "source": [
        "## 2.2 N-Gram blocking"
      ]
    },
    {
      "cell_type": "code",
      "metadata": {
        "colab_type": "code",
        "id": "CJslpwDdMuSj",
        "colab": {}
      },
      "source": [
        "# implement n-gram blocking\n",
        "# carefully read instructions in pdf\n",
        "\n",
        "# we give you some small hint code here which can be helpful\n",
        "\n",
        "l = [1,2,3,4,5,6,4,5,6]\n",
        "\n",
        "history = tuple(l[-2:])\n",
        "\n",
        "print(history)\n",
        "\n",
        "banned = []\n",
        "\n",
        "for ngram in zip(*[l[i:] for i in range(3)]):\n",
        "    if ngram[:-1] == history:\n",
        "        banned.append(ngram[-1])\n",
        "        \n",
        "print(banned)"
      ],
      "execution_count": 0,
      "outputs": []
    },
    {
      "cell_type": "markdown",
      "metadata": {
        "colab_type": "text",
        "id": "iSZbFCN9MuSu"
      },
      "source": [
        "## You present here:"
      ]
    },
    {
      "cell_type": "code",
      "metadata": {
        "colab_type": "code",
        "id": "-gLRV26DMuSx",
        "colab": {}
      },
      "source": [
        "# check pdf to see what you expected to present"
      ],
      "execution_count": 0,
      "outputs": []
    },
    {
      "cell_type": "code",
      "metadata": {
        "colab_type": "code",
        "id": "STzxec0fMuS3",
        "colab": {}
      },
      "source": [
        ""
      ],
      "execution_count": 0,
      "outputs": []
    },
    {
      "cell_type": "markdown",
      "metadata": {
        "colab_type": "text",
        "id": "v9dMtzFwMuS8"
      },
      "source": [
        "# Part 3 Interactive chat"
      ]
    },
    {
      "cell_type": "code",
      "metadata": {
        "colab_type": "code",
        "id": "9bwhc6U5MuS9",
        "colab": {}
      },
      "source": [
        "# implement logic for interactive chat here\n",
        "# the easiest is to just use python input functionality\n",
        "\n",
        "def model_decoder_seq(model, output, encoder_output, encoded):\n",
        "    with torch.no_grad():\n",
        "        emb = model.decoder.embedding(output)\n",
        "        seqlen = output.size(1)\n",
        "        encoder_hidden, attention_mask = encoded\n",
        "        decoder_hidden = encoder_output\n",
        "        decoder_output_arr = []\n",
        "        for i in range(seqlen):\n",
        "            decoder_output, decoder_hidden = model.decoder.gru(emb[:,i,:].unsqueeze(1), decoder_hidden)\n",
        "\n",
        "            # compute attention at each time step\n",
        "            decoder_output_attended, attn_weights = model.decoder.attention(decoder_output, decoder_hidden, encoder_hidden.transpose(0,1), ~attention_mask)\n",
        "            decoder_output_arr.append(decoder_output_attended)\n",
        "        decoder_output_arr = torch.cat(decoder_output_arr, dim=1).to(current_device)\n",
        "        scores = model.decoder.out(decoder_output_arr)\n",
        "    return scores\n",
        "\n",
        "def get_reply(batch, model):\n",
        "    model.eval()\n",
        "    with torch.no_grad():\n",
        "        output = [1]\n",
        "        batch = batch.to(current_device)\n",
        "        encoded = model.encoder(batch)\n",
        "        encoder_hidden, _ = encoded\n",
        "        len_vecs = batch.shape[0]\n",
        "        encoder_output = torch.sum(encoder_hidden,dim=0)/len_vecs\n",
        "        if opts['num_layers_dec'] > 1:\n",
        "            tensor_list = [encoder_output for i in range(opts['num_layers_dec'])]\n",
        "            encoder_output = torch.stack(tensor_list)\n",
        "        else:\n",
        "            encoder_output = encoder_output.unsqueeze(0)\n",
        "        while(output[-1] != 2):\n",
        "            output_tensor = torch.Tensor(output).long().to(current_device).unsqueeze(0)\n",
        "            decoder_output = model_decoder_seq(model, output_tensor, encoder_output, encoded)\n",
        "            preds = get_samples(decoder_output[0,-1,:], 0.5)\n",
        "            output.append(preds.item())  \n",
        "            print(preds.item())\n",
        "    return output[1:-1]\n",
        "\n",
        "\n",
        "def get_encoded_batch(sentence, text_dict):\n",
        "    \"\"\" accepts only bsz = 1.\n",
        "        input: one sentence as a string\n",
        "        output: named tuple with vector and length\"\"\"\n",
        "    \n",
        "    sentence = sentence.rstrip()\n",
        "    tokens = RETOK.findall(sentence)\n",
        "    _inp_toked_id = text_dict.t2v(tokens)\n",
        "    \n",
        "    tensor = torch.tensor(_inp_toked_id, dtype=torch.long).unsqueeze(0)\n",
        "\n",
        "    return tensor\n",
        "\n",
        "\n",
        "\n",
        "def chat_bot(model, text_dict):\n",
        "#     personality = input('Please input Personality of the bot\\n')\n",
        "    personality = \"your persona : i work from home . \\n  your persona : i watch too much tv in spare time . \\n  your persona : i like to spend my money on cars . \\n  your persona : i ' ve never had a steady relationship .\"\n",
        "    input_sentence = personality\n",
        "    for i in range(3):\n",
        "        new_sentence = input('You:')\n",
        "        input_sentence = input_sentence + '\\n' + new_sentence\n",
        "        batch = get_encoded_batch(input_sentence, text_dict)\n",
        "        print(input_sentence)\n",
        "        print(batch)\n",
        "        prediction = get_reply(batch, model)\n",
        "        bot_sent = text_dict.v2t(prediction)\n",
        "        print('Bot says: ', bot_sent)\n",
        "        input_sentence = input_sentence + '\\n' + bot_sent\n",
        "    \n"
      ],
      "execution_count": 0,
      "outputs": []
    },
    {
      "cell_type": "markdown",
      "metadata": {
        "id": "M3cXOee48805",
        "colab_type": "text"
      },
      "source": [
        "## You present here:"
      ]
    },
    {
      "cell_type": "code",
      "metadata": {
        "colab_type": "code",
        "id": "jGidF2aHMuTC",
        "scrolled": true,
        "colab": {},
        "outputId": "1038ed4a-8d9b-46fc-a231-1191abbd11ac"
      },
      "source": [
        "chat_bot(model_t, chat_dict)"
      ],
      "execution_count": 0,
      "outputs": [
        {
          "output_type": "stream",
          "text": [
            "You:Hi Wassup?\n",
            "your persona : i work from home . \n",
            "  your persona : i watch too much tv in spare time . \n",
            "  your persona : i like to spend my money on cars . \n",
            "  your persona : i ' ve never had a steady relationship .\n",
            "Hi Wassup?\n",
            "tensor([[   7,   10,   12,    5,   38,   59,  126,    4,   11,    7,   10,   12,\n",
            "            5,  145,   49,  100,  258,   24,  435,   62,    4,   11,    7,   10,\n",
            "           12,    5,   21,   14,  288,   15,  231,   45,  316,    4,   11,    7,\n",
            "           10,   12,    5,   16,   47,  121,  146,    8, 6860,  788,    4,   11,\n",
            "            3,    3,    9]])\n",
            "86\n",
            "95\n",
            "5544\n",
            "36\n",
            "34\n",
            "5\n",
            "765\n",
            "5624\n",
            "518\n",
            "82\n",
            "82\n",
            "82\n",
            "20\n",
            "2\n",
            "Bot says:  hello day dong me how i saw snacking tired today today today !\n",
            "You:Oh, why tired?\n",
            "your persona : i work from home . \n",
            "  your persona : i watch too much tv in spare time . \n",
            "  your persona : i like to spend my money on cars . \n",
            "  your persona : i ' ve never had a steady relationship .\n",
            "Hi Wassup?\n",
            "hello day dong me how i saw snacking tired today today today !\n",
            "Oh, why tired?\n",
            "tensor([[   7,   10,   12,    5,   38,   59,  126,    4,   11,    7,   10,   12,\n",
            "            5,  145,   49,  100,  258,   24,  435,   62,    4,   11,    7,   10,\n",
            "           12,    5,   21,   14,  288,   15,  231,   45,  316,    4,   11,    7,\n",
            "           10,   12,    5,   16,   47,  121,  146,    8, 6860,  788,    4,   11,\n",
            "            3,    3,    9,   11,   86,   95, 5544,   36,   34,    5,  765, 5624,\n",
            "          518,   82,   82,   82,   20,   11,    3,   13,  170,  518,    9]])\n",
            "86\n",
            "8816\n",
            "350\n",
            "176\n",
            "7055\n",
            "4217\n",
            "8520\n",
            "15895\n",
            "24\n",
            "1602\n",
            "10019\n",
            "2018\n",
            "7183\n",
            "475\n",
            "21\n",
            "808\n",
            "16459\n",
            "2\n",
            "Bot says:  hello solves yet because slipped faked mea perrys in broken gentry sunset casserole woman like cookies restricting\n",
            "You:hmm, sounds like a mystery to me\n",
            "your persona : i work from home . \n",
            "  your persona : i watch too much tv in spare time . \n",
            "  your persona : i like to spend my money on cars . \n",
            "  your persona : i ' ve never had a steady relationship .\n",
            "Hi Wassup?\n",
            "hello day dong me how i saw snacking tired today today today !\n",
            "Oh, why tired?\n",
            "hello solves yet because slipped faked mea perrys in broken gentry sunset casserole woman like cookies restricting\n",
            "hmm, sounds like a mystery to me\n",
            "tensor([[    7,    10,    12,     5,    38,    59,   126,     4,    11,     7,\n",
            "            10,    12,     5,   145,    49,   100,   258,    24,   435,    62,\n",
            "             4,    11,     7,    10,    12,     5,    21,    14,   288,    15,\n",
            "           231,    45,   316,     4,    11,     7,    10,    12,     5,    16,\n",
            "            47,   121,   146,     8,  6860,   788,     4,    11,     3,     3,\n",
            "             9,    11,    86,    95,  5544,    36,    34,     5,   765,  5624,\n",
            "           518,    82,    82,    82,    20,    11,     3,    13,   170,   518,\n",
            "             9,    11,    86,  8816,   350,   176,  7055,  4217,  8520, 15895,\n",
            "            24,  1602, 10019,  2018,  7183,   475,    21,   808, 16459,    11,\n",
            "          1286,    13,    93,    21,     8,  1218,    14,    36]])\n",
            "58\n",
            "1470\n",
            "4753\n",
            "3471\n",
            "518\n",
            "7183\n",
            "2791\n",
            "82\n",
            "4031\n",
            "2328\n",
            "9685\n",
            "8460\n",
            "7183\n",
            "120\n",
            "1406\n",
            "8816\n",
            "1624\n",
            "1583\n",
            "16528\n",
            "8095\n",
            "1635\n",
            "518\n",
            "82\n",
            "82\n",
            "6790\n",
            "3939\n",
            "518\n",
            "430\n",
            "9329\n",
            "11116\n",
            "45\n",
            "1617\n",
            "2791\n",
            "7727\n",
            "518\n",
            "82\n",
            "7468\n",
            "16067\n",
            "82\n",
            "7183\n",
            "13\n",
            "3422\n",
            "8968\n",
            "3471\n",
            "5624\n",
            "82\n",
            "1635\n",
            "82\n",
            "4\n",
            "3997\n",
            "518\n",
            "6703\n",
            "2791\n",
            "8304\n",
            "3679\n",
            "14\n",
            "82\n",
            "256\n",
            "518\n",
            "82\n",
            "82\n",
            "82\n",
            "82\n",
            "82\n",
            "86\n",
            "8968\n",
            "5624\n",
            "243\n",
            "6306\n",
            "8460\n",
            "6204\n",
            "2911\n",
            "3422\n",
            "16067\n",
            "3415\n",
            "82\n",
            "4\n",
            "192\n",
            "8816\n",
            "5302\n",
            "82\n",
            "82\n",
            "4\n",
            "4768\n",
            "7183\n",
            "518\n",
            "265\n",
            "82\n",
            "9329\n",
            "1701\n",
            "15895\n",
            "1749\n",
            "2155\n",
            "24\n",
            "16459\n",
            "3415\n",
            "4\n",
            "4477\n",
            "13\n",
            "6\n",
            "82\n",
            "1687\n",
            "3485\n",
            "15124\n",
            "36\n",
            "5624\n",
            "82\n",
            "8968\n",
            "518\n",
            "2328\n",
            "8956\n",
            "4797\n",
            "8968\n",
            "256\n",
            "2\n",
            "Bot says:  hi tom forgive annoyed tired casserole usual today omar kevin creamy knocked casserole this saturday solves tomatoes brownies roc chrome quick tired today today port connor tired ready amigo tot on halo usual wrecked tired today nite pow today casserole , emmy wiped annoyed snacking today quick today . alphabet tired kim usual footbal waves to today tonight tired today today today today today hello wiped snacking off sumba knocked laps greetings emmy pow coors today . reading solves chillin today today . kitties casserole tired football today amigo katy perrys fingers chilling in restricting coors . sigh , you today treat coupons mae me snacking today wiped tired kevin whatcha returned wiped tonight\n"
          ],
          "name": "stdout"
        }
      ]
    },
    {
      "cell_type": "code",
      "metadata": {
        "id": "S2zZztsp8xj5",
        "colab_type": "code",
        "colab": {}
      },
      "source": [
        ""
      ],
      "execution_count": 0,
      "outputs": []
    }
  ]
}