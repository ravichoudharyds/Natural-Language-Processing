{
  "nbformat": 4,
  "nbformat_minor": 0,
  "metadata": {
    "accelerator": "GPU",
    "colab": {
      "name": "hw4.ipynb",
      "provenance": [],
      "collapsed_sections": [],
      "toc_visible": true,
      "include_colab_link": true
    },
    "kernelspec": {
      "display_name": "Python 3",
      "language": "python",
      "name": "python3"
    },
    "language_info": {
      "codemirror_mode": {
        "name": "ipython",
        "version": 3
      },
      "file_extension": ".py",
      "mimetype": "text/x-python",
      "name": "python",
      "nbconvert_exporter": "python",
      "pygments_lexer": "ipython3",
      "version": "3.7.2"
    }
  },
  "cells": [
    {
      "cell_type": "markdown",
      "metadata": {
        "id": "view-in-github",
        "colab_type": "text"
      },
      "source": [
        "<a href=\"https://colab.research.google.com/github/ravichoudharyds/Natural-Language-Processing/blob/master/hw4.ipynb\" target=\"_parent\"><img src=\"https://colab.research.google.com/assets/colab-badge.svg\" alt=\"Open In Colab\"/></a>"
      ]
    },
    {
      "cell_type": "markdown",
      "metadata": {
        "colab_type": "text",
        "id": "OlNSnarNMuQh"
      },
      "source": [
        "# Homework 4: Conversation Modeling and decoding"
      ]
    },
    {
      "cell_type": "markdown",
      "metadata": {
        "colab_type": "text",
        "id": "orXuZRSHMuQq"
      },
      "source": [
        "# Part 1 Modeling"
      ]
    },
    {
      "cell_type": "markdown",
      "metadata": {
        "colab_type": "text",
        "id": "RCCGPMktMuQu"
      },
      "source": [
        "## 1.1 Attention visulization"
      ]
    },
    {
      "cell_type": "code",
      "metadata": {
        "colab_type": "code",
        "id": "SHeJtW4-MuQy",
        "colab": {}
      },
      "source": [
        "### set up the model and complete the corresponding task\n",
        "\n",
        "### the pretrained model was trained in ~2 hours, i.e. you can expect attention maps\n",
        "### to look quite 'hard' (less soft spreading) i.e. attending to some particular token in the input\n",
        "\n",
        "import re\n",
        "from collections import Counter\n",
        "from tqdm import tqdm\n",
        "import json\n",
        "from torch.utils.data import Dataset, DataLoader\n",
        "import torch\n",
        "\n",
        "RETOK = re.compile(r'\\w+|[^\\w\\s]|\\n', re.UNICODE)\n",
        "\n",
        "class ChatDictionary(object):\n",
        "    \"\"\"\n",
        "    Simple dict loader\n",
        "    \"\"\"\n",
        "    def __init__(self, dict_file_path):\n",
        "        self.word2ind = {}  # word:index\n",
        "        self.ind2word = {}  # index:word\n",
        "        self.counts = {}  # word:count\n",
        "\n",
        "        dict_raw = open(dict_file_path, 'r').readlines()\n",
        "        \n",
        "        for i, w in enumerate(dict_raw):\n",
        "            _word, _count = w.strip().split('\\t')\n",
        "            if _word == '\\\\n':\n",
        "                _word = '\\n'\n",
        "            self.word2ind[_word] = i\n",
        "            self.ind2word[i] = _word\n",
        "            self.counts[_word] = _count\n",
        "            \n",
        "    def t2v(self, tokenized_text):\n",
        "        return [self.word2ind[w] if w in self.counts else self.word2ind['__unk__'] for w in tokenized_text]\n",
        "\n",
        "    def v2t(self, list_ids):\n",
        "        return ' '.join([self.ind2word[i] for i in list_ids])\n",
        "    \n",
        "    def pred2text(self, tensor):\n",
        "        result = []\n",
        "        for i in range(tensor.size(0)):\n",
        "            if tensor[i].item() == '__end__'  or tensor[i].item() == '__null__':  # null is pad\n",
        "                break\n",
        "            else:\n",
        "                result.append(self.ind2word[tensor[i].item()])\n",
        "        return ' '.join(result)\n",
        "    \n",
        "    def __len__(self):\n",
        "        return len(self.counts)"
      ],
      "execution_count": 0,
      "outputs": []
    },
    {
      "cell_type": "code",
      "metadata": {
        "colab_type": "code",
        "id": "eY6xYvTFN5o-",
        "colab": {}
      },
      "source": [
        "class ChatDataset(Dataset):\n",
        "    \"\"\"\n",
        "    Json dataset wrapper\n",
        "    \"\"\"\n",
        "    \n",
        "    def __init__(self, dataset_file_path, dictionary, dt='train'):\n",
        "        super().__init__()\n",
        "        \n",
        "        json_text = open(dataset_file_path, 'r').readlines()\n",
        "        self.samples = []\n",
        "        \n",
        "        for sample in tqdm(json_text):\n",
        "            sample = sample.rstrip()\n",
        "            sample = json.loads(sample)\n",
        "            _inp_toked = RETOK.findall(sample['text'])\n",
        "            _inp_toked_id = dictionary.t2v(_inp_toked)\n",
        "\n",
        "            sample['text_vec'] = torch.tensor(_inp_toked_id, dtype=torch.long)\n",
        "            \n",
        "            # train and valid have different key names for target\n",
        "            if dt == 'train':\n",
        "                _tar_toked = RETOK.findall(sample['labels'][0]) + ['__end__']\n",
        "            elif dt == 'valid':\n",
        "                _tar_toked = RETOK.findall(sample['eval_labels'][0]) + ['__end__']\n",
        "                \n",
        "            _tar_toked_id = dictionary.t2v(_tar_toked)\n",
        "            \n",
        "            sample['target_vec'] = torch.tensor(_tar_toked_id, dtype=torch.long)\n",
        "            \n",
        "            self.samples.append(sample)\n",
        "            \n",
        "    def __getitem__(self, i):\n",
        "        return self.samples[i]['text_vec'], self.samples[i]['target_vec']\n",
        "    \n",
        "    def __len__(self):\n",
        "        return len(self.samples)"
      ],
      "execution_count": 0,
      "outputs": []
    },
    {
      "cell_type": "code",
      "metadata": {
        "colab_type": "code",
        "id": "ekmwMTGUN9LB",
        "colab": {}
      },
      "source": [
        "def pad_tensor(tensors, sort=True, pad_token=0):\n",
        "    rows = len(tensors)\n",
        "    lengths = [len(i) for i in tensors]\n",
        "    max_t = max(lengths)\n",
        "        \n",
        "    output = tensors[0].new(rows, max_t)\n",
        "    output.fill_(pad_token)  # 0 is a pad token here\n",
        "    \n",
        "    for i, (tensor, length) in enumerate(zip(tensors, lengths)):\n",
        "        output[i,:length] = tensor\n",
        "\n",
        "    return output, lengths\n",
        "\n",
        "def argsort(keys, *lists, descending=False):\n",
        "    \"\"\"Reorder each list in lists by the (descending) sorted order of keys.\n",
        "    :param iter keys: Keys to order by.\n",
        "    :param list[list] lists: Lists to reordered by keys's order.\n",
        "                             Correctly handles lists and 1-D tensors.\n",
        "    :param bool descending: Use descending order if true.\n",
        "    :returns: The reordered items.\n",
        "    \"\"\"\n",
        "    ind_sorted = sorted(range(len(keys)), key=lambda k: keys[k])\n",
        "    if descending:\n",
        "        ind_sorted = list(reversed(ind_sorted))\n",
        "    output = []\n",
        "    for lst in lists:\n",
        "        if isinstance(lst, torch.Tensor):\n",
        "            output.append(lst[ind_sorted])\n",
        "        else:\n",
        "            output.append([lst[i] for i in ind_sorted])\n",
        "    return output\n",
        "\n",
        "def batchify(batch):\n",
        "    inputs = [i[0] for i in batch]\n",
        "    labels = [i[1] for i in batch]\n",
        "    \n",
        "    input_vecs, input_lens = pad_tensor(inputs)\n",
        "    label_vecs, label_lens = pad_tensor(labels)\n",
        "    \n",
        "    # sort only wrt inputs here for encoder packinng\n",
        "    input_vecs, input_lens, label_vecs, label_lens = argsort(input_lens, input_vecs, input_lens, label_vecs, label_lens, descending=True)\n",
        "\n",
        "    return {\n",
        "        \"text_vecs\": input_vecs,\n",
        "        \"text_lens\": input_lens,\n",
        "        \"target_vecs\": label_vecs,\n",
        "        \"target_lens\": label_lens,\n",
        "        'use_packed': True\n",
        "    }"
      ],
      "execution_count": 0,
      "outputs": []
    },
    {
      "cell_type": "code",
      "metadata": {
        "colab_type": "code",
        "id": "p5A_LBqUOA7d",
        "outputId": "7f889e2d-f7c5-4e4f-cba6-3e465abb9472",
        "colab": {
          "base_uri": "https://localhost:8080/",
          "height": 50
        }
      },
      "source": [
        "# loading datasets and dictionary\n",
        "\n",
        "# downloading pretrained models and data\n",
        "\n",
        "### DOWNLOADING THE FILES\n",
        "import os\n",
        "\n",
        "### persona chat dataset\n",
        "if not os.path.exists('./dict'):\n",
        "    !wget \"https://nyu.box.com/shared/static/sj9f87tofpicll89xbc154pmbztu5q4h\" -O './dict'\n",
        "if not os.path.exists('./train.jsonl'):\n",
        "    !wget \"https://nyu.box.com/shared/static/aqp0jyjaixjmukm5asasivq2bcfze075.jsonl\" -O './train.jsonl'\n",
        "if not os.path.exists('./valid.jsonl'):\n",
        "    !wget \"https://nyu.box.com/shared/static/eg4ivddtqib2hkf1k8rkxnmzmo0cq27p.jsonl\" -O './valid.jsonl'\n",
        "\n",
        "if not os.path.exists('./chat_model_best_22.pt'):\n",
        "    !wget \"https://nyu.box.com/shared/static/24zsynuks8nzg7530tgakzh8o62id9xa.pt\" -O './chat_model_best_22.pt'\n",
        "\n",
        "chat_dict = ChatDictionary('./dict')\n",
        "train_dataset = ChatDataset('./train.jsonl', chat_dict)\n",
        "valid_dataset = ChatDataset('./valid.jsonl', chat_dict, 'valid')"
      ],
      "execution_count": 0,
      "outputs": [
        {
          "output_type": "stream",
          "text": [
            "100%|██████████| 131438/131438 [00:13<00:00, 9836.02it/s] \n",
            "100%|██████████| 7801/7801 [00:00<00:00, 7847.49it/s]\n"
          ],
          "name": "stderr"
        }
      ]
    },
    {
      "cell_type": "code",
      "metadata": {
        "colab_type": "code",
        "id": "p2Nz9dP5OG7F",
        "colab": {}
      },
      "source": [
        "train_loader = DataLoader(train_dataset, shuffle=True, collate_fn=batchify, batch_size=256)\n",
        "valid_loader = DataLoader(valid_dataset, shuffle=False, collate_fn=batchify, batch_size=256)"
      ],
      "execution_count": 0,
      "outputs": []
    },
    {
      "cell_type": "code",
      "metadata": {
        "colab_type": "code",
        "id": "Y_m8bpUdOK1B",
        "colab": {}
      },
      "source": [
        "import torch.nn as nn\n",
        "from torch.nn.utils.rnn import pack_padded_sequence, pad_packed_sequence\n",
        "\n",
        "class EncoderRNN(nn.Module):\n",
        "    \"\"\"Encodes the input context.\"\"\"\n",
        "\n",
        "    def __init__(self, vocab_size, embed_size, hidden_size, num_layers, pad_idx=0, dropout=0, shared_lt=None):\n",
        "        super().__init__()\n",
        "        self.vocab_size = vocab_size\n",
        "        self.embed_size = embed_size\n",
        "        self.hidden_size = hidden_size\n",
        "        self.num_layers = num_layers\n",
        "        self.dropout = nn.Dropout(p=dropout)\n",
        "        self.pad_idx = pad_idx\n",
        "        \n",
        "        if shared_lt is None:\n",
        "            self.embedding = nn.Embedding(self.vocab_size, self.embed_size, pad_idx)\n",
        "        else:\n",
        "            self.embedding = shared_lt\n",
        "            \n",
        "        self.gru = nn.GRU(\n",
        "            self.embed_size, self.hidden_size, num_layers=self.num_layers, batch_first=True, dropout=dropout if num_layers > 1 else 0,\n",
        "        )\n",
        "        \n",
        "        \n",
        "    def forward(self, text_vec, text_lens, hidden=None, use_packed=True):\n",
        "        embedded = self.embedding(text_vec)\n",
        "        attention_mask = text_vec.ne(self.pad_idx)\n",
        "\n",
        "        embedded = self.dropout(embedded)\n",
        "        if use_packed is True:\n",
        "            embedded = pack_padded_sequence(embedded, text_lens, batch_first=True)\n",
        "        output, hidden = self.gru(embedded, hidden)\n",
        "        if use_packed is True:\n",
        "            output, output_lens = pad_packed_sequence(output, batch_first=True)\n",
        "        \n",
        "        return output, hidden, attention_mask\n",
        "\n",
        "    \n",
        "class DecoderRNN(nn.Module):\n",
        "    \"\"\"Generates a sequence of tokens in response to context.\"\"\"\n",
        "\n",
        "    def __init__(self, vocab_size, embed_size, hidden_size, num_layers, dropout=0):\n",
        "        super().__init__()\n",
        "        self.vocab_size = vocab_size\n",
        "        self.embed_size = embed_size\n",
        "        self.hidden_size = hidden_size\n",
        "        self.num_layers = num_layers\n",
        "        self.dropout = nn.Dropout(p=dropout)\n",
        "        \n",
        "        self.embedding = nn.Embedding(self.vocab_size, self.embed_size, 0)\n",
        "        \n",
        "        self.gru = nn.GRU(\n",
        "            self.embed_size, self.hidden_size, num_layers=self.num_layers, batch_first=True, dropout=dropout if num_layers > 1 else 0,\n",
        "        )\n",
        "        \n",
        "        self.attention = AttentionLayer(self.hidden_size, self.embed_size)\n",
        "\n",
        "        self.out = nn.Linear(self.hidden_size, self.vocab_size)\n",
        "        self.longest_label = 100\n",
        "\n",
        "    def forward(self, text_vec, decoder_hidden, encoder_states):\n",
        "        emb = self.embedding(text_vec)\n",
        "        emb = self.dropout(emb)\n",
        "        seqlen = text_vec.size(1)\n",
        "        encoder_output, encoder_hidden, attention_mask = encoder_states\n",
        "        \n",
        "        decoder_hidden = decoder_hidden\n",
        "        output = []\n",
        "        attn_w_log = []\n",
        "\n",
        "        for i in range(seqlen):\n",
        "            decoder_output, decoder_hidden = self.gru(emb[:,i,:].unsqueeze(1), decoder_hidden)\n",
        "            \n",
        "            # compute attention at each time step\n",
        "            decoder_output_attended, attn_weights = self.attention(decoder_output, decoder_hidden, encoder_output, attention_mask)\n",
        "            output.append(decoder_output_attended)\n",
        "            attn_w_log.append(attn_weights)\n",
        "            \n",
        "        output = torch.cat(output, dim=1).to(text_vec.device)\n",
        "        scores = self.out(output)\n",
        "        \n",
        "        return scores, decoder_hidden, attn_w_log\n",
        "    \n",
        "    def decode_forced(self, ys, encoder_states, xs_lens):\n",
        "        encoder_output, encoder_hidden, attention_mask = encoder_states\n",
        "        \n",
        "        batch_size = ys.size(0)\n",
        "        target_length = ys.size(1)\n",
        "        longest_label = max(target_length, self.longest_label)\n",
        "        \n",
        "        starts = torch.Tensor([1]).long().to(self.embedding.weight.device).expand(batch_size, 1).long()  # expand to batch size\n",
        "        \n",
        "        # Teacher forcing: Feed the target as the next input\n",
        "        y_in = ys.narrow(1, 0, ys.size(1) - 1)\n",
        "        decoder_input = torch.cat([starts, y_in], 1)\n",
        "        decoder_output, decoder_hidden, attn_w_log = self.forward(decoder_input, encoder_hidden, encoder_states)\n",
        "        _, preds = decoder_output.max(dim=2)\n",
        "        \n",
        "        return decoder_output, preds, attn_w_log\n",
        "    \n",
        "    \n",
        "class AttentionLayer(nn.Module):\n",
        "\n",
        "    def __init__(self, hidden_size, embedding_size):\n",
        "        super().__init__()\n",
        "        input_dim = hidden_size\n",
        "\n",
        "        self.linear_out = nn.Linear(hidden_size+input_dim, input_dim, bias=False)\n",
        "        self.softmax = nn.Softmax(dim=-1)\n",
        "        self.tanh = nn.Tanh()\n",
        "\n",
        "    def forward(self, decoder_output, decoder_hidden, encoder_output, attention_mask):\n",
        "\n",
        "        batch_size, seq_length, hidden_size = encoder_output.size()\n",
        "\n",
        "        encoder_output_t = encoder_output.transpose(1,2)\n",
        "        \n",
        "        attention_scores = torch.bmm(decoder_output, encoder_output_t).squeeze(1)\n",
        "\n",
        "        attention_scores.masked_fill_((~attention_mask), -10e5)\n",
        "        attention_weights = self.softmax(attention_scores)\n",
        "\n",
        "        mix = torch.bmm(attention_weights.unsqueeze(1), encoder_output)\n",
        "\n",
        "        combined = torch.cat((decoder_output.squeeze(1), mix.squeeze(1)), dim=1)\n",
        "\n",
        "        output = self.linear_out(combined).unsqueeze(1)\n",
        "        output = self.tanh(output)\n",
        "\n",
        "        return output, attention_weights\n",
        "    \n",
        "    \n",
        "class seq2seq(nn.Module):\n",
        "    \"\"\"\n",
        "    Generic seq2seq model with attention mechanism.\n",
        "    \"\"\"\n",
        "    def __init__(self, opts):\n",
        "\n",
        "        super().__init__()\n",
        "        self.opts = opts\n",
        "        \n",
        "        self.decoder = DecoderRNN(\n",
        "                                    vocab_size=self.opts['vocab_size'],\n",
        "                                    embed_size=self.opts['embedding_size'],\n",
        "                                    hidden_size=self.opts['hidden_size'],\n",
        "                                    num_layers=self.opts['num_layers_dec'],\n",
        "                                    dropout=self.opts['dropout'],\n",
        "                                )\n",
        "        \n",
        "        self.encoder = EncoderRNN(\n",
        "                                    vocab_size=self.opts['vocab_size'],\n",
        "                                    embed_size=self.opts['embedding_size'],\n",
        "                                    hidden_size=self.opts['hidden_size'],\n",
        "                                    num_layers=self.opts['num_layers_enc'],\n",
        "                                    dropout=self.opts['dropout'],\n",
        "                                    shared_lt=self.decoder.embedding\n",
        "        )\n",
        "        \n",
        "    def train(self):\n",
        "        self.encoder.train()\n",
        "        self.decoder.train()\n",
        "        \n",
        "    def eval(self):\n",
        "        self.encoder.eval()\n",
        "        self.decoder.eval()"
      ],
      "execution_count": 0,
      "outputs": []
    },
    {
      "cell_type": "code",
      "metadata": {
        "colab_type": "code",
        "id": "elppTaHjOTO6",
        "colab": {}
      },
      "source": [
        "num_gpus = torch.cuda.device_count()\n",
        "if num_gpus > 0:\n",
        "    current_device = 'cuda'\n",
        "else:\n",
        "    current_device = 'cpu'\n",
        "\n",
        "load_pretrained = True\n",
        "    \n",
        "if load_pretrained is True:\n",
        "    if current_device == 'cuda':\n",
        "        model_pt = torch.load('./chat_model_best_22.pt')\n",
        "    else:\n",
        "        model_pt = torch.load('./chat_model_best_22.pt', map_location=torch.device('cpu'))\n",
        "    opts = model_pt['opts']\n",
        "    \n",
        "    model = seq2seq(opts)\n",
        "    model.load_state_dict(model_pt['state_dict'])\n",
        "    model.to(current_device)\n",
        "    \n",
        "else:\n",
        "    \n",
        "    opts = {}\n",
        "\n",
        "    opts['vocab_size'] = len(chat_dict)\n",
        "    opts['hidden_size'] = 512\n",
        "    opts['embedding_size'] = 256\n",
        "    opts['num_layers_enc'] = 2\n",
        "    opts['num_layers_dec'] = 2\n",
        "    opts['dropout'] = 0.3\n",
        "    opts['encoder_shared_lt'] = True\n",
        "\n",
        "    model = seq2seq(opts)\n",
        "    model.to(current_device)"
      ],
      "execution_count": 0,
      "outputs": []
    },
    {
      "cell_type": "code",
      "metadata": {
        "colab_type": "code",
        "id": "kJ0HeF1Cxtto",
        "colab": {}
      },
      "source": [
        "import matplotlib.pyplot as plt\n",
        "import seaborn\n",
        "seaborn.set_context(context=\"talk\")\n",
        "import matplotlib.ticker as ticker\n",
        "%matplotlib inline\n",
        "\n",
        "def showAttention(input_sentence, output_words, attentions):\n",
        "    # Set up figure with colorbar\n",
        "    fig = plt.figure(figsize = (18,5))\n",
        "    ax = fig.add_subplot(111)\n",
        "    cax = ax.matshow(attentions, cmap='bone', aspect='auto')\n",
        "    fig.colorbar(cax)\n",
        "\n",
        "    # Set up axes\n",
        "    ax.set_xticklabels([''] + input_sentence.split(' ') , rotation=90, fontsize=10)\n",
        "    ax.set_yticklabels([''] + output_words.split(' '), fontsize=10);\n",
        "  \n",
        "    # Show label at every tick\n",
        "    ax.xaxis.set_major_locator(ticker.MultipleLocator(1))\n",
        "    ax.yaxis.set_major_locator(ticker.MultipleLocator(1))\n",
        "\n",
        "    plt.show()"
      ],
      "execution_count": 0,
      "outputs": []
    },
    {
      "cell_type": "code",
      "metadata": {
        "colab_type": "code",
        "id": "GQjUpLNqJtp-",
        "outputId": "11646056-131d-4ce7-ff0d-2ea96627b296",
        "colab": {
          "base_uri": "https://localhost:8080/",
          "height": 34
        }
      },
      "source": [
        "import numpy as np\n",
        "len_vec = []\n",
        "for text_vec, target_vec in valid_dataset:\n",
        "    len_vec.append(len(text_vec))\n",
        "\n",
        "np.argsort(len_vec)[100:105]"
      ],
      "execution_count": 0,
      "outputs": [
        {
          "output_type": "execute_result",
          "data": {
            "text/plain": [
              "array([ 758, 4276, 6972, 4745,  425])"
            ]
          },
          "metadata": {
            "tags": []
          },
          "execution_count": 9
        }
      ]
    },
    {
      "cell_type": "markdown",
      "metadata": {
        "colab_type": "text",
        "id": "KsBepGS4MuQ-"
      },
      "source": [
        "### You present here:"
      ]
    },
    {
      "cell_type": "code",
      "metadata": {
        "colab_type": "code",
        "id": "3bHS3vylMuRB",
        "outputId": "945436fb-004f-4a9c-a595-4f896e79974b",
        "colab": {
          "base_uri": "https://localhost:8080/",
          "height": 1000
        }
      },
      "source": [
        "# this is some example attention map here, \n",
        "# *make sure you add text tokens on the axes to make it readable!*\n",
        "\n",
        "for i in [883,   23, 5257, 1376, 1556]:\n",
        "    inputs = [valid_dataset[i][0]]\n",
        "    labels = [valid_dataset[i][1]]\n",
        "    \n",
        "    input_vecs, input_lens = pad_tensor(inputs)\n",
        "    label_vecs, label_lens = pad_tensor(labels)\n",
        "    \n",
        "    # sort only wrt inputs here for encoder packinng\n",
        "    input_vecs, input_lens, label_vecs, label_lens = argsort(input_lens, input_vecs, input_lens, label_vecs, label_lens, descending=True)\n",
        "    model.eval()\n",
        "    text_vecs = input_vecs.to('cuda')\n",
        "    target_vecs = label_vecs.to('cuda')\n",
        "    \n",
        "    encoded = model.encoder(text_vecs, input_lens, use_packed=True)        \n",
        "    decoder_output, preds, attn_w_log = model.decoder.decode_forced(target_vecs, encoded, label_lens)\n",
        "    attn_w_log = [attn.clone().detach().cpu().numpy() for attn in attn_w_log]\n",
        "    attn_w_log = np.concatenate(attn_w_log)\n",
        "    print('Input')\n",
        "    print(chat_dict.v2t(input_vecs[0].tolist()))\n",
        "    print('Target')\n",
        "    print(chat_dict.v2t(label_vecs[0].tolist()))\n",
        "    print('Attention Maps')\n",
        "    showAttention(chat_dict.v2t(input_vecs[0].cpu().numpy().tolist()),chat_dict.v2t(label_vecs[0].cpu().numpy().tolist()),attn_w_log)"
      ],
      "execution_count": 0,
      "outputs": [
        {
          "output_type": "stream",
          "text": [
            "Input\n",
            "your persona : i work from home . \n",
            " your persona : i watch too much tv in spare time . \n",
            " your persona : i like to spend my money on cars . \n",
            " your persona : i ' ve never had a steady relationship . \n",
            " hi how are you today \n",
            " i ' m doing well how about you ? \n",
            " doing good just waiting on the baby birth \n",
            " aww congratulations . it must be exciting . \n",
            " we are having triplets so very excited\n",
            "Target\n",
            "ow wow now that will be hard task __end__\n",
            "Attention Maps\n"
          ],
          "name": "stdout"
        },
        {
          "output_type": "display_data",
          "data": {
            "image/png": "[encoded data removed]",
            "text/plain": [
              "<Figure size 1296x360 with 2 Axes>"
            ]
          },
          "metadata": {
            "tags": [],
            "needs_background": "light"
          }
        },
        {
          "output_type": "stream",
          "text": [
            "Input\n",
            "your persona : i love to drink fancy tea . \n",
            " your persona : i have a big library at home . \n",
            " your persona : i ' m a museum tour guide . \n",
            " your persona : i ' m partly deaf . \n",
            " hi how are you doing ? i am okay how about you ? \n",
            " i am doing good . just sipping tea . what do you do for work ? \n",
            " i used to do home health aide but now i am disabled .\n",
            "Target\n",
            "i am sorry to hear that . what happened __end__\n",
            "Attention Maps\n"
          ],
          "name": "stdout"
        },
        {
          "output_type": "display_data",
          "data": {
            "image/png": "[encoded data removed]",
            "text/plain": [
              "<Figure size 1296x360 with 2 Axes>"
            ]
          },
          "metadata": {
            "tags": [],
            "needs_background": "light"
          }
        },
        {
          "output_type": "stream",
          "text": [
            "Input\n",
            "your persona : my mother is a dentist . \n",
            " your persona : my favourite artist is travis scott . \n",
            " your persona : i like playing basketball . \n",
            " your persona : i ' m currently looking for a job preferably at a restaurant . \n",
            " hi ! i don ' t like the color orange . \n",
            " hello . i like to shoot hoops , so orange balls are good with me . \n",
            " that ' s amazing . i like dancing on weekends . you ?\n",
            "Target\n",
            "right now i am applying for jobs , i want to work in a restaurant . __end__\n",
            "Attention Maps\n"
          ],
          "name": "stdout"
        },
        {
          "output_type": "display_data",
          "data": {
            "image/png": "[encoded data removed]",
            "text/plain": [
              "<Figure size 1296x360 with 2 Axes>"
            ]
          },
          "metadata": {
            "tags": [],
            "needs_background": "light"
          }
        },
        {
          "output_type": "stream",
          "text": [
            "Input\n",
            "your persona : my boyfriend and i are moving into an apartment together next week . \n",
            " your persona : my favorite colors are red and silver . \n",
            " your persona : i ' m fluent in english spanish and french . \n",
            " your persona : i ' m an elementary school teacher . \n",
            " hello how are you ? \n",
            " hi . good . i am just picking out paint for my new apartment with my boyfriend . \n",
            " sounds like a good way to end the weekend\n",
            "Target\n",
            "yeah . he won ' t go for red even though i love it . what is your favorite color ? __end__\n",
            "Attention Maps\n"
          ],
          "name": "stdout"
        },
        {
          "output_type": "display_data",
          "data": {
            "image/png": "[encoded data removed]",
            "text/plain": [
              "<Figure size 1296x360 with 2 Axes>"
            ]
          },
          "metadata": {
            "tags": [],
            "needs_background": "light"
          }
        },
        {
          "output_type": "stream",
          "text": [
            "Input\n",
            "your persona : i live in colorado . \n",
            " your persona : i am a mechanical engineer . \n",
            " your persona : i like to go hiking in the spring . \n",
            " your persona : my favorite activity is rock climbing . \n",
            " your persona : i have a black lab named trooper . \n",
            " hi there , do you love taylor swift ? \n",
            " you know it . i wish it was still summer . \n",
            " not me , i ' m ready for the cuddle weather .\n",
            "Target\n",
            "cool ! i love to go rock climbing my fav summer activity . __end__\n",
            "Attention Maps\n"
          ],
          "name": "stdout"
        },
        {
          "output_type": "display_data",
          "data": {
            "image/png": "[encoded data removed]",
            "text/plain": [
              "<Figure size 1296x360 with 2 Axes>"
            ]
          },
          "metadata": {
            "tags": [],
            "needs_background": "light"
          }
        }
      ]
    },
    {
      "cell_type": "markdown",
      "metadata": {
        "colab_type": "text",
        "id": "kjuoR5_iMuRL"
      },
      "source": [
        "![Imgur](https://i.imgur.com/xodciCU.png)"
      ]
    },
    {
      "cell_type": "markdown",
      "metadata": {
        "colab_type": "text",
        "id": "hCGl4oxUMuRO"
      },
      "source": [
        "## 1.2 Encoder Transformer"
      ]
    },
    {
      "cell_type": "code",
      "metadata": {
        "colab_type": "code",
        "id": "ntHBae5kMuRS",
        "colab": {}
      },
      "source": [
        "### add transformer encoder as optional encoder in seq2seq model.\n",
        "\n",
        "# code below can help you to start it, but feel free to start from scratch\n",
        "\n",
        "from torch.nn import TransformerEncoder, TransformerEncoderLayer\n",
        "import math\n",
        "\n",
        "class EncoderTransformer(nn.Module):\n",
        "\n",
        "    def __init__(self, ntoken, ninp, nhead, nhid, nlayers = 1, pad_idx = 0, dropout=0, max_len = 5000):\n",
        "        super(EncoderTransformer, self).__init__()\n",
        "        # self.pos_encoder = PositionalEncoding(ninp, dropout)\n",
        "        self.pos_encoder = nn.Embedding(max_len, ninp, pad_idx)\n",
        "        encoder_layers = TransformerEncoderLayer(ninp, nhead, nhid, dropout)\n",
        "        self.transformer_encoder = TransformerEncoder(encoder_layers, nlayers)\n",
        "        self.encoder = nn.Embedding(ntoken, ninp, pad_idx)\n",
        "        self.ninp = ninp\n",
        "        self.pad_idx = pad_idx\n",
        "        self.dropout = nn.Dropout(p=dropout)\n",
        "\n",
        "    def forward(self, src):\n",
        "        mask = src.eq(self.pad_idx)\n",
        "        src = self.encoder(src)\n",
        "        src = self.dropout(src) + self.dropout(self.pos_encoder(torch.arange(src.shape[1]).to('cuda')).unsqueeze(0))\n",
        "        output = self.transformer_encoder(src.transpose(0,1), src_key_padding_mask = mask)\n",
        "        return output, mask\n",
        "\n",
        "class DecoderTransformerRNN(nn.Module):\n",
        "    \"\"\"Generates a sequence of tokens in response to context.\"\"\"\n",
        "\n",
        "    def __init__(self, vocab_size, embed_size, hidden_size, num_layers, dropout=0):\n",
        "        super().__init__()\n",
        "        self.vocab_size = vocab_size\n",
        "        self.embed_size = embed_size\n",
        "        self.hidden_size = hidden_size\n",
        "        self.num_layers = num_layers\n",
        "        self.dropout = nn.Dropout(p=dropout)\n",
        "        \n",
        "        self.embedding = nn.Embedding(self.vocab_size, self.embed_size, 0)\n",
        "        \n",
        "        self.gru = nn.GRU(\n",
        "            self.embed_size, self.hidden_size, num_layers=self.num_layers, batch_first=True, dropout=dropout if num_layers > 1 else 0,\n",
        "        )\n",
        "        \n",
        "        self.attention = AttentionLayer(self.hidden_size, self.embed_size)\n",
        "\n",
        "        self.out = nn.Linear(self.hidden_size, self.vocab_size)\n",
        "        self.longest_label = 100\n",
        "\n",
        "    def forward(self, text_vec, decoder_hidden, encoder_states):\n",
        "        emb = self.embedding(text_vec)\n",
        "        emb = self.dropout(emb)\n",
        "        seqlen = text_vec.size(1)\n",
        "        encoder_hidden, attention_mask = encoder_states\n",
        "        \n",
        "        output = []\n",
        "        attn_w_log = []\n",
        "\n",
        "        for i in range(seqlen):\n",
        "            decoder_output, decoder_hidden = self.gru(emb[:,i,:].unsqueeze(1), decoder_hidden)\n",
        "            \n",
        "            # compute attention at each time step\n",
        "            decoder_output_attended, attn_weights = self.attention(decoder_output, decoder_hidden, encoder_hidden.transpose(0,1), ~attention_mask)\n",
        "            output.append(decoder_output_attended)\n",
        "            attn_w_log.append(attn_weights)\n",
        "            \n",
        "        output = torch.cat(output, dim=1).to(text_vec.device)\n",
        "        scores = self.out(output)\n",
        "        \n",
        "        return scores, decoder_hidden, attn_w_log\n",
        "    \n",
        "    def decode_forced(self, ys, encoder_states, xs_lens):\n",
        "        encoder_hidden, _ = encoder_states\n",
        "        \n",
        "        batch_size = ys.size(0)\n",
        "        target_length = ys.size(1)\n",
        "        longest_label = max(target_length, self.longest_label)\n",
        "        \n",
        "        starts = torch.Tensor([1]).long().to(self.embedding.weight.device).expand(batch_size, 1).long()  # expand to batch size\n",
        "        \n",
        "        # Teacher forcing: Feed the target as the next input\n",
        "        y_in = ys.narrow(1, 0, ys.size(1) - 1)\n",
        "        decoder_input = torch.cat([starts, y_in], 1)\n",
        "        len_vecs = torch.Tensor(xs_lens).unsqueeze(1).to('cuda')\n",
        "        encoder_output = torch.sum(encoder_hidden,dim=0)/len_vecs\n",
        "        if self.num_layers > 1:\n",
        "            tensor_list = [encoder_output for i in range(self.num_layers)]\n",
        "            encoder_output = torch.stack(tensor_list)\n",
        "        else:\n",
        "            encoder_output = encoder_output.unsqueeze(0)\n",
        "        decoder_output, decoder_hidden, attn_w_log = self.forward(decoder_input, encoder_output, encoder_states)\n",
        "        _, preds = decoder_output.max(dim=2)\n",
        "        \n",
        "        return decoder_output, preds, attn_w_log\n"
      ],
      "execution_count": 0,
      "outputs": []
    },
    {
      "cell_type": "code",
      "metadata": {
        "colab_type": "code",
        "id": "qOYd3raoJ8zM",
        "colab": {}
      },
      "source": [
        "class Transformer2seq(nn.Module):\n",
        "    \"\"\"\n",
        "    Generic seq2seq model with attention mechanism.\n",
        "    \"\"\"\n",
        "    def __init__(self, opts):\n",
        "\n",
        "        super().__init__()\n",
        "        self.opts = opts\n",
        "        \n",
        "        self.decoder = DecoderTransformerRNN(\n",
        "                                    vocab_size=self.opts['vocab_size'],\n",
        "                                    embed_size=self.opts['embedding_size'],\n",
        "                                    hidden_size=self.opts['hidden_size'],\n",
        "                                    num_layers=self.opts['num_layers_dec'],\n",
        "                                    dropout=self.opts['dropout'],\n",
        "                                )\n",
        "        \n",
        "        self.encoder = EncoderTransformer(\n",
        "                                    ntoken = self.opts['vocab_size'],\n",
        "                                    ninp = self.opts['embedding_size'],\n",
        "                                    nhead = 4,\n",
        "                                    nhid = 1024,\n",
        "                                    nlayers=self.opts['num_layers_enc'],\n",
        "                                    dropout=self.opts['dropout']\n",
        "        )\n",
        "        \n",
        "    def train(self):\n",
        "        self.encoder.train()\n",
        "        self.decoder.train()\n",
        "        \n",
        "    def eval(self):\n",
        "        self.encoder.eval()\n",
        "        self.decoder.eval()"
      ],
      "execution_count": 0,
      "outputs": []
    },
    {
      "cell_type": "code",
      "metadata": {
        "colab_type": "code",
        "id": "Na9R0oOpglpT",
        "colab": {}
      },
      "source": [
        "num_gpus = torch.cuda.device_count()\n",
        "if num_gpus > 0:\n",
        "    current_device = 'cuda'\n",
        "else:\n",
        "    current_device = 'cpu'\n",
        "\n",
        "load_pretrained = True\n",
        "    \n",
        "if load_pretrained is True:\n",
        "    if current_device == 'cuda':\n",
        "        model_pt = torch.load('/content/drive/My Drive/NLP_HW/HW4/transformer_model_best_12.pt')\n",
        "    else:\n",
        "        model_pt = torch.load('/content/drive/My Drive/NLP_HW/HW4/transformer_model_best_12.pt', map_location=torch.device('cpu'))\n",
        "    opts = model_pt['opts']\n",
        "    \n",
        "    model_t = Transformer2seq(opts)\n",
        "    model_t.load_state_dict(model_pt['state_dict'])\n",
        "    model_t.to(current_device)\n",
        "    \n",
        "else:\n",
        "    \n",
        "    opts = {}\n",
        "\n",
        "    opts['vocab_size'] = len(chat_dict)\n",
        "    opts['hidden_size'] = 512\n",
        "    opts['embedding_size'] = 512\n",
        "    opts['num_layers_enc'] = 1\n",
        "    opts['num_layers_dec'] = 2\n",
        "    opts['dropout'] = 0.2\n",
        "\n",
        "    model_t = Transformer2seq(opts)\n",
        "    model_t.to(current_device)"
      ],
      "execution_count": 0,
      "outputs": []
    },
    {
      "cell_type": "code",
      "metadata": {
        "colab_type": "code",
        "id": "3oNcfbsGHpl6",
        "colab": {}
      },
      "source": [
        "criterion = nn.CrossEntropyLoss(ignore_index=0, reduction='sum')\n",
        "optimizer = torch.optim.Adam(model_t.parameters(), 0.001, amsgrad=True)\n",
        "scheduler = torch.optim.lr_scheduler.ReduceLROnPlateau(optimizer, 'min', patience=2, threshold=0.01)"
      ],
      "execution_count": 0,
      "outputs": []
    },
    {
      "cell_type": "code",
      "metadata": {
        "colab_type": "code",
        "id": "za6ZqFBrHwyL",
        "colab": {}
      },
      "source": [
        "def val_loss_cal(model_t, criterion, valid_loader):\n",
        "    val_loss = 0\n",
        "    val_tokens = 0\n",
        "    for i, batch in enumerate(valid_loader):\n",
        "        model_t.eval()\n",
        "        \n",
        "        text_vecs = batch['text_vecs'].to('cuda')\n",
        "        target_vecs = batch['target_vecs'].to('cuda')        \n",
        "        encoded = model_t.encoder(text_vecs)\n",
        "        decoder_output, preds, attn_w_log = model_t.decoder.decode_forced(target_vecs, encoded, batch['text_lens'])\n",
        "        \n",
        "        scores = decoder_output.view(-1, decoder_output.size(-1))\n",
        "        \n",
        "        loss = criterion(scores, target_vecs.view(-1))\n",
        "        \n",
        "        num_tokens = target_vecs.ne(0).long().sum().item()\n",
        "        \n",
        "        val_tokens += num_tokens\n",
        "        val_loss += loss.item()\n",
        "    return val_loss/val_tokens\n",
        "\n",
        "\n",
        "def train_model(model_t, criterion, optimizer, scheduler, train_loader, valid_loader):\n",
        "    best_val_loss = 100\n",
        "    plot_cache = []\n",
        "    for epoch in range(15):\n",
        "        \n",
        "        model_t.train()\n",
        "        sum_loss = 0\n",
        "        sum_tokens = 0\n",
        "        \n",
        "        for i, batch in enumerate(train_loader):\n",
        "            optimizer.zero_grad()\n",
        "            \n",
        "            text_vecs = batch['text_vecs'].to('cuda')\n",
        "            target_vecs = batch['target_vecs'].to('cuda')\n",
        "\n",
        "            encoded = model_t.encoder(text_vecs)\n",
        "\n",
        "            decoder_output, preds, attn_w_log = model_t.decoder.decode_forced(target_vecs, encoded, batch['text_lens'])\n",
        "            \n",
        "            scores = decoder_output.view(-1, decoder_output.size(-1))\n",
        "            \n",
        "            loss = criterion(scores, target_vecs.view(-1))\n",
        "            \n",
        "            num_tokens = target_vecs.ne(0).long().sum().item()\n",
        "            sum_loss += loss.item()\n",
        "            loss /= num_tokens\n",
        "            \n",
        "            loss.backward()\n",
        "            optimizer.step()\n",
        "\n",
        "            sum_tokens += num_tokens\n",
        "            \n",
        "            if i % 100 == 0:\n",
        "                avg_train_loss = sum_loss/sum_tokens\n",
        "                print(\"iter {} train loss = {}\".format(i, sum_loss/sum_tokens))\n",
        "        \n",
        "        avg_val_loss = val_loss_cal(model_t, criterion, valid_loader)\n",
        "        scheduler.step(avg_val_loss)\n",
        "        torch.cuda.empty_cache()\n",
        "        print(\"Epoch {} valid loss = {}\".format(epoch, avg_val_loss))\n",
        "        \n",
        "        plot_cache.append( (avg_train_loss, avg_val_loss) )\n",
        "        \n",
        "        if avg_val_loss < best_val_loss:\n",
        "            best_val_loss = avg_val_loss\n",
        "            \n",
        "            torch.save({\n",
        "            'state_dict': model_t.state_dict(),\n",
        "            'opts': opts,\n",
        "            'plot_cache': plot_cache,\n",
        "                }, f'/content/drive/My Drive/NLP_HW/HW4/transformer_model_best_{epoch}.pt')"
      ],
      "execution_count": 0,
      "outputs": []
    },
    {
      "cell_type": "code",
      "metadata": {
        "colab_type": "code",
        "id": "jnGUySMWYTZ4",
        "outputId": "17bbd329-e700-4729-b51e-2eb9c7043e28",
        "colab": {
          "base_uri": "https://localhost:8080/",
          "height": 34
        }
      },
      "source": [
        "if load_pretrained == False:\n",
        "    train_model(model_t, criterion, optimizer, scheduler, train_loader, valid_loader)"
      ],
      "execution_count": 0,
      "outputs": [
        {
          "output_type": "stream",
          "text": [
            "iter 0 train loss = 9.865202121559633\n",
            "iter 100 train loss = 5.49315491670464\n",
            "iter 200 train loss = 4.957746114920842\n",
            "iter 300 train loss = 4.680779240990056\n",
            "iter 400 train loss = 4.505083266382835\n",
            "iter 500 train loss = 4.385324989754699\n",
            "Epoch 0 valid loss = 3.9174496247979143\n",
            "iter 0 train loss = 3.832870188248388\n",
            "iter 100 train loss = 3.7565389202753243\n",
            "iter 200 train loss = 3.7425548022260364\n",
            "iter 300 train loss = 3.72905056850956\n",
            "iter 400 train loss = 3.7172565043344723\n",
            "iter 500 train loss = 3.707505307122067\n",
            "Epoch 1 valid loss = 3.778212490038351\n",
            "iter 0 train loss = 3.63820403476931\n",
            "iter 100 train loss = 3.53257151163063\n",
            "iter 200 train loss = 3.525711392576863\n",
            "iter 300 train loss = 3.527407852998816\n",
            "iter 400 train loss = 3.524295914253003\n",
            "iter 500 train loss = 3.5222466588223194\n",
            "Epoch 2 valid loss = 3.7171464616854117\n",
            "iter 0 train loss = 3.4522680165816326\n",
            "iter 100 train loss = 3.3867495379989445\n",
            "iter 200 train loss = 3.3915480879841127\n",
            "iter 300 train loss = 3.3931425461940954\n",
            "iter 400 train loss = 3.396778874659032\n",
            "iter 500 train loss = 3.398591837051153\n",
            "Epoch 3 valid loss = 3.6985727629755165\n",
            "iter 0 train loss = 3.2084562093904703\n",
            "iter 100 train loss = 3.2673409975809724\n",
            "iter 200 train loss = 3.2801284401469744\n",
            "iter 300 train loss = 3.289828642461463\n",
            "iter 400 train loss = 3.2975546538409892\n",
            "iter 500 train loss = 3.3037874078729907\n",
            "Epoch 4 valid loss = 3.6926418003544454\n",
            "iter 0 train loss = 3.1739738891961653\n",
            "iter 100 train loss = 3.189978987756779\n",
            "iter 200 train loss = 3.1990657957410082\n",
            "iter 300 train loss = 3.207792370673272\n",
            "iter 400 train loss = 3.2174909108291185\n",
            "iter 500 train loss = 3.227307548044549\n",
            "Epoch 5 valid loss = 3.680971052251888\n",
            "iter 0 train loss = 3.0384552105915144\n",
            "iter 100 train loss = 3.0812303420131957\n",
            "iter 200 train loss = 3.070230847076437\n",
            "iter 300 train loss = 3.0666683685135863\n",
            "iter 400 train loss = 3.061835587145029\n",
            "iter 500 train loss = 3.0593362379700517\n",
            "Epoch 6 valid loss = 3.642870851652658\n",
            "iter 0 train loss = 2.980454781755286\n",
            "iter 100 train loss = 3.026620927920728\n",
            "iter 200 train loss = 3.0282268859744454\n",
            "iter 300 train loss = 3.0276446680856943\n",
            "iter 400 train loss = 3.025636036904545\n",
            "iter 500 train loss = 3.0256456475174534\n",
            "Epoch 7 valid loss = 3.64139254241095\n",
            "iter 0 train loss = 3.000025576636905\n",
            "iter 100 train loss = 3.0068532419688556\n",
            "iter 200 train loss = 3.0036643286480484\n",
            "iter 300 train loss = 3.0037829150406306\n",
            "iter 400 train loss = 3.0071551541690282\n",
            "iter 500 train loss = 3.00916283723443\n",
            "Epoch 8 valid loss = 3.6386861427910393\n",
            "iter 0 train loss = 3.003650841346154\n",
            "iter 100 train loss = 2.9897437950630543\n",
            "iter 200 train loss = 2.9935209279515718\n",
            "iter 300 train loss = 2.9923799827500233\n",
            "iter 400 train loss = 2.993663475129183\n",
            "iter 500 train loss = 2.9958350916001306\n",
            "Epoch 9 valid loss = 3.6391129003501814\n",
            "iter 0 train loss = 2.9993069747199517\n",
            "iter 100 train loss = 2.970125517453909\n",
            "iter 200 train loss = 2.9735544154532874\n",
            "iter 300 train loss = 2.9727465395931887\n",
            "iter 400 train loss = 2.974932091778076\n",
            "iter 500 train loss = 2.9732710880971522\n",
            "Epoch 10 valid loss = 3.638933696707056\n",
            "iter 0 train loss = 2.953405287659284\n",
            "iter 100 train loss = 2.9669468101160446\n",
            "iter 200 train loss = 2.9674091047146427\n",
            "iter 300 train loss = 2.9700848719037514\n",
            "iter 400 train loss = 2.9708263546769835\n",
            "iter 500 train loss = 2.9711462025803876\n",
            "Epoch 11 valid loss = 3.6379433121378675\n",
            "iter 0 train loss = 2.954566233591664\n",
            "iter 100 train loss = 2.965818882733863\n",
            "iter 200 train loss = 2.9643862790034547\n",
            "iter 300 train loss = 2.9675153565037076\n",
            "iter 400 train loss = 2.967325058014157\n",
            "iter 500 train loss = 2.9693186880748708\n",
            "Epoch 12 valid loss = 3.6375398024921086\n",
            "iter 0 train loss = 3.060248332669247\n",
            "iter 100 train loss = 2.965251341769689\n",
            "iter 200 train loss = 2.965811503169416\n",
            "iter 300 train loss = 2.9657768197594376\n",
            "iter 400 train loss = 2.9665959501464307\n",
            "iter 500 train loss = 2.9667801597237924\n",
            "Epoch 13 valid loss = 3.6380776386283165\n",
            "iter 0 train loss = 2.9091452456889826\n",
            "iter 100 train loss = 2.969257275716437\n",
            "iter 200 train loss = 2.971089518256161\n",
            "iter 300 train loss = 2.9664028818439765\n",
            "iter 400 train loss = 2.966188893425742\n",
            "iter 500 train loss = 2.966754963074805\n",
            "Epoch 14 valid loss = 3.6382823234858894\n"
          ],
          "name": "stdout"
        }
      ]
    },
    {
      "cell_type": "markdown",
      "metadata": {
        "colab_type": "text",
        "id": "s0rEAfGlMuRc"
      },
      "source": [
        "## You present here:"
      ]
    },
    {
      "cell_type": "code",
      "metadata": {
        "colab_type": "code",
        "id": "XBZjuTwwMuRg",
        "outputId": "085df804-1f68-4838-e46a-b7ac5d527ba9",
        "colab": {
          "base_uri": "https://localhost:8080/",
          "height": 545
        }
      },
      "source": [
        "# check pdf to see what you expected to present\n",
        "import matplotlib.pyplot as plt\n",
        "import numpy as np\n",
        "\n",
        "loss = model_pt['plot_cache']\n",
        "train_loss = [loss[i][0] for i in range(len(loss))]\n",
        "train_perp = [2**(loss[i][0]/np.log(2)) for i in range(len(loss))]\n",
        "val_loss = [loss[i][1] for i in range(len(loss))]\n",
        "val_perp = [2**(loss[i][1]/np.log(2)) for i in range(len(loss))]\n",
        "\n",
        "plt.title('Loss Curves')\n",
        "plt.plot(train_loss, label = 'Training Loss')\n",
        "plt.plot(val_loss, label = 'Validation Loss')\n",
        "plt.legend()\n",
        "plt.show()\n",
        "\n",
        "plt.title('Perplexity Curves')\n",
        "plt.plot(train_perp, label = 'Training Perplexity')\n",
        "plt.plot(val_perp, label = 'Validation Perplexity')\n",
        "plt.legend()\n",
        "plt.show()"
      ],
      "execution_count": 0,
      "outputs": [
        {
          "output_type": "display_data",
          "data": {
            "image/png": "[encoded data removed]",
            "text/plain": [
              "<Figure size 432x288 with 1 Axes>"
            ]
          },
          "metadata": {
            "tags": [],
            "needs_background": "light"
          }
        },
        {
          "output_type": "display_data",
          "data": {
            "image/png": "[encoded data removed]",
            "text/plain": [
              "<Figure size 432x288 with 1 Axes>"
            ]
          },
          "metadata": {
            "tags": [],
            "needs_background": "light"
          }
        }
      ]
    },
    {
      "cell_type": "markdown",
      "metadata": {
        "colab_type": "text",
        "id": "jnMGqOeqMuR9"
      },
      "source": [
        "# Part 2 Decoding"
      ]
    },
    {
      "cell_type": "markdown",
      "metadata": {
        "colab_type": "text",
        "id": "87xkKJlzMuSB"
      },
      "source": [
        "# 2.1 Nucleus Sampling"
      ]
    },
    {
      "cell_type": "code",
      "metadata": {
        "colab_type": "code",
        "id": "OLomPxYSMuSE",
        "colab": {}
      },
      "source": [
        "# implement nucleus sampling here.\n",
        "# you must cite any code you use from other sources!"
      ],
      "execution_count": 0,
      "outputs": []
    },
    {
      "cell_type": "markdown",
      "metadata": {
        "colab_type": "text",
        "id": "rYFwtifnMuSN"
      },
      "source": [
        "## You present here:"
      ]
    },
    {
      "cell_type": "code",
      "metadata": {
        "colab_type": "code",
        "id": "SXAFU_SUMuSQ",
        "colab": {}
      },
      "source": [
        "# check pdf to see what you expected to present"
      ],
      "execution_count": 0,
      "outputs": []
    },
    {
      "cell_type": "code",
      "metadata": {
        "colab_type": "code",
        "id": "a8o1Iv6uMuSY",
        "colab": {}
      },
      "source": [
        "!nvidia-smi"
      ],
      "execution_count": 0,
      "outputs": []
    },
    {
      "cell_type": "markdown",
      "metadata": {
        "colab_type": "text",
        "id": "n9CM8kATMuSg"
      },
      "source": [
        "## 2.2 N-Gram blocking"
      ]
    },
    {
      "cell_type": "code",
      "metadata": {
        "colab_type": "code",
        "id": "CJslpwDdMuSj",
        "colab": {}
      },
      "source": [
        "# implement n-gram blocking\n",
        "# carefully read instructions in pdf\n",
        "\n",
        "# we give you some small hint code here which can be helpful\n",
        "\n",
        "l = [1,2,3,4,5,6,4,5,6]\n",
        "\n",
        "history = tuple(l[-2:])\n",
        "\n",
        "print(history)\n",
        "\n",
        "banned = []\n",
        "\n",
        "for ngram in zip(*[l[i:] for i in range(3)]):\n",
        "    if ngram[:-1] == history:\n",
        "        banned.append(ngram[-1])\n",
        "        \n",
        "print(banned)"
      ],
      "execution_count": 0,
      "outputs": []
    },
    {
      "cell_type": "markdown",
      "metadata": {
        "colab_type": "text",
        "id": "iSZbFCN9MuSu"
      },
      "source": [
        "## You present here:"
      ]
    },
    {
      "cell_type": "code",
      "metadata": {
        "colab_type": "code",
        "id": "-gLRV26DMuSx",
        "colab": {}
      },
      "source": [
        "# check pdf to see what you expected to present"
      ],
      "execution_count": 0,
      "outputs": []
    },
    {
      "cell_type": "code",
      "metadata": {
        "colab_type": "code",
        "id": "STzxec0fMuS3",
        "colab": {}
      },
      "source": [
        ""
      ],
      "execution_count": 0,
      "outputs": []
    },
    {
      "cell_type": "markdown",
      "metadata": {
        "colab_type": "text",
        "id": "v9dMtzFwMuS8"
      },
      "source": [
        "# Part 3 Interactive chat"
      ]
    },
    {
      "cell_type": "code",
      "metadata": {
        "colab_type": "code",
        "id": "9bwhc6U5MuS9",
        "colab": {}
      },
      "source": [
        "# implement logic for interactive chat here\n",
        "# the easiest is to just use python input functionality"
      ],
      "execution_count": 0,
      "outputs": []
    },
    {
      "cell_type": "code",
      "metadata": {
        "colab_type": "code",
        "id": "jGidF2aHMuTC",
        "colab": {}
      },
      "source": [
        ""
      ],
      "execution_count": 0,
      "outputs": []
    },
    {
      "cell_type": "markdown",
      "metadata": {
        "colab_type": "text",
        "id": "p1t8l_uyMuTG"
      },
      "source": [
        "## You present here:"
      ]
    },
    {
      "cell_type": "code",
      "metadata": {
        "colab_type": "code",
        "id": "psAc0Z0GMuTH",
        "colab": {}
      },
      "source": [
        "# check pdf to see what you expected to present"
      ],
      "execution_count": 0,
      "outputs": []
    },
    {
      "cell_type": "code",
      "metadata": {
        "colab_type": "code",
        "id": "iauIbhzZMuTM",
        "colab": {}
      },
      "source": [
        "a = torch.Tensor([[1,2,3],[4,5,6],[7,8,9]])\n",
        "b = torch.Tensor([[1,2,3]])\n",
        "a*b"
      ],
      "execution_count": 0,
      "outputs": []
    },
    {
      "cell_type": "code",
      "metadata": {
        "colab_type": "code",
        "id": "0AmNA4c8eL9R",
        "colab": {}
      },
      "source": [
        ""
      ],
      "execution_count": 0,
      "outputs": []
    }
  ]
}